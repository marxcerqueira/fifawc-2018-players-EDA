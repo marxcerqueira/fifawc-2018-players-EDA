{
 "cells": [
  {
   "cell_type": "markdown",
   "id": "101e2fa0",
   "metadata": {},
   "source": [
    "# PySpark # 2"
   ]
  },
  {
   "cell_type": "markdown",
   "id": "7a2aa669",
   "metadata": {},
   "source": [
    "##### Índice:\n",
    "\n",
    "    # Importação bibliotecas / funções\n",
    "    # Criar Sessão PySpark\n",
    "    # Criar DF / ler arquivo\n",
    "    # Drop de Colunas\n",
    "    \n",
    "######    Window Ranking Function\n",
    "    # Window Function 1 - Numero de linhas - row_number()\n",
    "    # Window Function 2 - Ranking 1 - rank()\n",
    "    # Window Function 3 - Ranking 2 - dense_rank()\n",
    "    # Window Function 4 - Porcentagem Ranking - percent_rank()\n",
    "    # Window Function 5 - Divisão em ' N ' partes - ntile()\n",
    "    \n",
    "######    Window Analytic Functions (Funções analíticas)\n",
    "    # Window Function 6 - LAG / Degrau - lag()\n",
    "    # Window Function 7 - Lead / Degrau - lead()\n",
    "    # Agregações\n",
    "    # GroupBy + AGG 1\n",
    "    # Where\n",
    "    # Describe\n",
    "    # Window Function 8 - Função de agregação usando Window Function"
   ]
  },
  {
   "cell_type": "markdown",
   "id": "1fbb20e8",
   "metadata": {},
   "source": [
    "##### Importação bibliotecas / funções"
   ]
  },
  {
   "cell_type": "code",
   "execution_count": 1,
   "id": "ddcd4f40",
   "metadata": {},
   "outputs": [],
   "source": [
    "import os\n",
    "import sys\n",
    "from pyspark.sql import SparkSession\n",
    "from pyspark.sql.functions import *\n",
    "from pyspark.sql.types import *\n",
    "\n",
    "os.environ['PYSPARK_PYTHON'] = sys.executable\n",
    "os.environ['PYSPARK_DRIVER_PYTHON'] = sys.executable"
   ]
  },
  {
   "cell_type": "code",
   "execution_count": 16,
   "id": "e0bbb81a",
   "metadata": {},
   "outputs": [],
   "source": [
    "from pyspark.sql.window import Window # Importando window function"
   ]
  },
  {
   "cell_type": "markdown",
   "id": "1a1a211a",
   "metadata": {},
   "source": [
    "##### Criar / Iniciar Sessão PySpark"
   ]
  },
  {
   "cell_type": "code",
   "execution_count": null,
   "id": "fbaaff5a",
   "metadata": {},
   "outputs": [],
   "source": [
    "spark = (\n",
    "    SparkSession.builder\n",
    "    .master('local')\n",
    "    .appName('PySpark_02')\n",
    "    .getOrCreate()\n",
    ")"
   ]
  },
  {
   "cell_type": "markdown",
   "id": "e651c2d3",
   "metadata": {},
   "source": [
    "##### Criar DF / ler arquivo"
   ]
  },
  {
   "cell_type": "code",
   "execution_count": null,
   "id": "673d6d20",
   "metadata": {},
   "outputs": [],
   "source": [
    "df = spark.read.csv('Arquivos/wc2018-players.csv', header=True, inferSchema=True)"
   ]
  },
  {
   "cell_type": "markdown",
   "id": "9b741551",
   "metadata": {},
   "source": [
    "##### Exibir DF"
   ]
  },
  {
   "cell_type": "code",
   "execution_count": 19,
   "id": "2a5717ea",
   "metadata": {
    "scrolled": true
   },
   "outputs": [
    {
     "name": "stdout",
     "output_type": "stream",
     "text": [
      "+---------+---+----+------------------+----------+----------+--------------------+------+------+\n",
      "|     Team|  #|Pos.| FIFA Popular Name|Birth Date|Shirt Name|                Club|Height|Weight|\n",
      "+---------+---+----+------------------+----------+----------+--------------------+------+------+\n",
      "|Argentina|  3|  DF|TAGLIAFICO Nicolas|31.08.1992|TAGLIAFICO|      AFC Ajax (NED)|   169|    65|\n",
      "|Argentina| 22|  MF|    PAVON Cristian|21.01.1996|     PAVÓN|CA Boca Juniors (...|   169|    65|\n",
      "|Argentina| 15|  MF|    LANZINI Manuel|15.02.1993|   LANZINI|West Ham United F...|   167|    66|\n",
      "|Argentina| 18|  DF|    SALVIO Eduardo|13.07.1990|    SALVIO|    SL Benfica (POR)|   167|    69|\n",
      "|Argentina| 10|  FW|      MESSI Lionel|24.06.1987|     MESSI|  FC Barcelona (ESP)|   170|    72|\n",
      "+---------+---+----+------------------+----------+----------+--------------------+------+------+\n",
      "only showing top 5 rows\n",
      "\n"
     ]
    }
   ],
   "source": [
    "df.show(5)"
   ]
  },
  {
   "cell_type": "markdown",
   "id": "c9fd28d4",
   "metadata": {},
   "source": [
    "##### Alterações Aula PySpark 01"
   ]
  },
  {
   "cell_type": "code",
   "execution_count": null,
   "id": "1cd92cc2",
   "metadata": {},
   "outputs": [],
   "source": [
    "df = df.withColumnRenamed('Team', 'Selecao').withColumnRenamed('#', 'Numero').withColumnRenamed('Pos.', 'Posicao')\\\n",
    ".withColumnRenamed('FIFA Popular Name', 'Nome_FIFA').withColumnRenamed('Birth Date', 'Nascimento')\\\n",
    ".withColumnRenamed('Shirt Name', 'Nome Camiseta').withColumnRenamed('Club', 'Time').withColumnRenamed('Height', 'Altura')\\\n",
    ".withColumnRenamed('Weight', 'Peso')"
   ]
  },
  {
   "cell_type": "code",
   "execution_count": null,
   "id": "98aa9847",
   "metadata": {},
   "outputs": [],
   "source": [
    "dia = udf(lambda data: data.split('.')[0])\n",
    "mes = udf(lambda data: data.split('.')[1])\n",
    "ano = udf(lambda data: data.split('.')[2])"
   ]
  },
  {
   "cell_type": "code",
   "execution_count": null,
   "id": "726756a1",
   "metadata": {
    "scrolled": false
   },
   "outputs": [],
   "source": [
    "df = df.withColumn('Dia', dia('Nascimento')).withColumn('Mes', mes('Nascimento')).withColumn('Ano', ano('nascimento'))\n",
    "df = df.withColumn('Data_Nascimento', concat_ws('-', 'Ano', 'Mes', 'Dia').cast(DateType()))\n",
    "df.show(5)"
   ]
  },
  {
   "cell_type": "code",
   "execution_count": null,
   "id": "fd8a55ed",
   "metadata": {
    "scrolled": true
   },
   "outputs": [],
   "source": [
    "+---------+------+-------+------------------+----------+-------------+--------------------+------+----+---+---+----+---------------+\n",
    "|  Selecao|Numero|Posicao|         Nome_FIFA|Nascimento|Nome Camiseta|                Time|Altura|Peso|Dia|Mes| Ano|Data_Nascimento|\n",
    "+---------+------+-------+------------------+----------+-------------+--------------------+------+----+---+---+----+---------------+\n",
    "|Argentina|     3|     DF|TAGLIAFICO Nicolas|31.08.1992|   TAGLIAFICO|      AFC Ajax (NED)|   169|  65| 31| 08|1992|     1992-08-31|\n",
    "|Argentina|    22|     MF|    PAVON Cristian|21.01.1996|        PAVÓN|CA Boca Juniors (...|   169|  65| 21| 01|1996|     1996-01-21|\n",
    "|Argentina|    15|     MF|    LANZINI Manuel|15.02.1993|      LANZINI|West Ham United F...|   167|  66| 15| 02|1993|     1993-02-15|\n",
    "|Argentina|    18|     DF|    SALVIO Eduardo|13.07.1990|       SALVIO|    SL Benfica (POR)|   167|  69| 13| 07|1990|     1990-07-13|\n",
    "|Argentina|    10|     FW|      MESSI Lionel|24.06.1987|        MESSI|  FC Barcelona (ESP)|   170|  72| 24| 06|1987|     1987-06-24|\n",
    "+---------+------+-------+------------------+----------+-------------+--------------------+------+----+---+---+----+---------------+"
   ]
  },
  {
   "cell_type": "code",
   "execution_count": 23,
   "id": "e86195ce",
   "metadata": {},
   "outputs": [
    {
     "name": "stdout",
     "output_type": "stream",
     "text": [
      "root\n",
      " |-- Selecao: string (nullable = true)\n",
      " |-- Numero: integer (nullable = true)\n",
      " |-- Posicao: string (nullable = true)\n",
      " |-- Nome_FIFA: string (nullable = true)\n",
      " |-- Nascimento: string (nullable = true)\n",
      " |-- Nome Camiseta: string (nullable = true)\n",
      " |-- Time: string (nullable = true)\n",
      " |-- Altura: integer (nullable = true)\n",
      " |-- Peso: integer (nullable = true)\n",
      " |-- Dia: string (nullable = true)\n",
      " |-- Mes: string (nullable = true)\n",
      " |-- Ano: string (nullable = true)\n",
      " |-- Data_Nascimento: date (nullable = true)\n",
      "\n"
     ]
    }
   ],
   "source": [
    "df.printSchema()"
   ]
  },
  {
   "cell_type": "markdown",
   "id": "0fdc60dc",
   "metadata": {},
   "source": [
    "##### Fim das alterações Aula PySpark 01"
   ]
  },
  {
   "cell_type": "code",
   "execution_count": 24,
   "id": "2206dc96",
   "metadata": {},
   "outputs": [
    {
     "name": "stdout",
     "output_type": "stream",
     "text": [
      "+---------+------+-------+------------------+----------+-------------+--------------------+------+----+---+---+----+---------------+\n",
      "|  Selecao|Numero|Posicao|         Nome_FIFA|Nascimento|Nome Camiseta|                Time|Altura|Peso|Dia|Mes| Ano|Data_Nascimento|\n",
      "+---------+------+-------+------------------+----------+-------------+--------------------+------+----+---+---+----+---------------+\n",
      "|Argentina|     3|     DF|TAGLIAFICO Nicolas|31.08.1992|   TAGLIAFICO|      AFC Ajax (NED)|   169|  65| 31| 08|1992|     1992-08-31|\n",
      "|Argentina|    22|     MF|    PAVON Cristian|21.01.1996|        PAVÓN|CA Boca Juniors (...|   169|  65| 21| 01|1996|     1996-01-21|\n",
      "|Argentina|    15|     MF|    LANZINI Manuel|15.02.1993|      LANZINI|West Ham United F...|   167|  66| 15| 02|1993|     1993-02-15|\n",
      "|Argentina|    18|     DF|    SALVIO Eduardo|13.07.1990|       SALVIO|    SL Benfica (POR)|   167|  69| 13| 07|1990|     1990-07-13|\n",
      "|Argentina|    10|     FW|      MESSI Lionel|24.06.1987|        MESSI|  FC Barcelona (ESP)|   170|  72| 24| 06|1987|     1987-06-24|\n",
      "+---------+------+-------+------------------+----------+-------------+--------------------+------+----+---+---+----+---------------+\n",
      "only showing top 5 rows\n",
      "\n"
     ]
    }
   ],
   "source": [
    "df.show(5)"
   ]
  },
  {
   "cell_type": "markdown",
   "id": "7308afe7",
   "metadata": {},
   "source": [
    "##### Drop de Colunas"
   ]
  },
  {
   "cell_type": "code",
   "execution_count": 27,
   "id": "eeed96e5",
   "metadata": {
    "scrolled": true
   },
   "outputs": [],
   "source": [
    "df = df.drop('Nascimento')"
   ]
  },
  {
   "cell_type": "code",
   "execution_count": 28,
   "id": "498cc883",
   "metadata": {},
   "outputs": [
    {
     "name": "stdout",
     "output_type": "stream",
     "text": [
      "+---------+------+-------+------------------+-------------+--------------------+------+----+---+---+----+---------------+\n",
      "|  Selecao|Numero|Posicao|         Nome_FIFA|Nome Camiseta|                Time|Altura|Peso|Dia|Mes| Ano|Data_Nascimento|\n",
      "+---------+------+-------+------------------+-------------+--------------------+------+----+---+---+----+---------------+\n",
      "|Argentina|     3|     DF|TAGLIAFICO Nicolas|   TAGLIAFICO|      AFC Ajax (NED)|   169|  65| 31| 08|1992|     1992-08-31|\n",
      "|Argentina|    22|     MF|    PAVON Cristian|        PAVÓN|CA Boca Juniors (...|   169|  65| 21| 01|1996|     1996-01-21|\n",
      "|Argentina|    15|     MF|    LANZINI Manuel|      LANZINI|West Ham United F...|   167|  66| 15| 02|1993|     1993-02-15|\n",
      "|Argentina|    18|     DF|    SALVIO Eduardo|       SALVIO|    SL Benfica (POR)|   167|  69| 13| 07|1990|     1990-07-13|\n",
      "|Argentina|    10|     FW|      MESSI Lionel|        MESSI|  FC Barcelona (ESP)|   170|  72| 24| 06|1987|     1987-06-24|\n",
      "+---------+------+-------+------------------+-------------+--------------------+------+----+---+---+----+---------------+\n",
      "only showing top 5 rows\n",
      "\n"
     ]
    }
   ],
   "source": [
    "df.show(5)"
   ]
  },
  {
   "cell_type": "markdown",
   "id": "22598e5f",
   "metadata": {},
   "source": [
    "##### Criar Backup"
   ]
  },
  {
   "cell_type": "code",
   "execution_count": 29,
   "id": "2025a952",
   "metadata": {},
   "outputs": [],
   "source": [
    "df2 = df"
   ]
  },
  {
   "cell_type": "markdown",
   "id": "85e1ddf6",
   "metadata": {},
   "source": [
    "#### Window Ranking Functions\n",
    "\n",
    "- Window Function 1 - Numero de linhas - row_number()\n",
    "- Window Function 2 - Ranking 1 - rank()\n",
    "- Window Function 3 - Ranking 2 - dense_rank()\n",
    "- Window Function 4 - Porcentagem Ranking - percent_rank()\n",
    "- Window Function 5 - Divisão em ' N ' partes - ntile()"
   ]
  },
  {
   "cell_type": "code",
   "execution_count": 30,
   "id": "5420e94d",
   "metadata": {},
   "outputs": [
    {
     "name": "stdout",
     "output_type": "stream",
     "text": [
      "+---------+------+-------+------------------+-------------+--------------------+------+----+---+---+----+---------------+\n",
      "|  Selecao|Numero|Posicao|         Nome_FIFA|Nome Camiseta|                Time|Altura|Peso|Dia|Mes| Ano|Data_Nascimento|\n",
      "+---------+------+-------+------------------+-------------+--------------------+------+----+---+---+----+---------------+\n",
      "|Argentina|     3|     DF|TAGLIAFICO Nicolas|   TAGLIAFICO|      AFC Ajax (NED)|   169|  65| 31| 08|1992|     1992-08-31|\n",
      "|Argentina|    22|     MF|    PAVON Cristian|        PAVÓN|CA Boca Juniors (...|   169|  65| 21| 01|1996|     1996-01-21|\n",
      "|Argentina|    15|     MF|    LANZINI Manuel|      LANZINI|West Ham United F...|   167|  66| 15| 02|1993|     1993-02-15|\n",
      "|Argentina|    18|     DF|    SALVIO Eduardo|       SALVIO|    SL Benfica (POR)|   167|  69| 13| 07|1990|     1990-07-13|\n",
      "|Argentina|    10|     FW|      MESSI Lionel|        MESSI|  FC Barcelona (ESP)|   170|  72| 24| 06|1987|     1987-06-24|\n",
      "+---------+------+-------+------------------+-------------+--------------------+------+----+---+---+----+---------------+\n",
      "only showing top 5 rows\n",
      "\n"
     ]
    }
   ],
   "source": [
    "df.show(5)"
   ]
  },
  {
   "cell_type": "markdown",
   "id": "5e432c5c",
   "metadata": {},
   "source": [
    "##### Window Function 1 - Numero de linhas - row_number()"
   ]
  },
  {
   "cell_type": "code",
   "execution_count": 34,
   "id": "54377c71",
   "metadata": {},
   "outputs": [
    {
     "name": "stdout",
     "output_type": "stream",
     "text": [
      "+---------+------+-------+------------------+-------------+--------------------+------+----+---+---+----+---------------+---+\n",
      "|  Selecao|Numero|Posicao|         Nome_FIFA|Nome Camiseta|                Time|Altura|Peso|Dia|Mes| Ano|Data_Nascimento|  n|\n",
      "+---------+------+-------+------------------+-------------+--------------------+------+----+---+---+----+---------------+---+\n",
      "|Argentina|     6|     DF|    FAZIO Federico|        FAZIO|       AS Roma (ITA)|   199|  85| 17| 03|1987|     1987-03-17|  1|\n",
      "|Argentina|     1|     GK|     GUZMAN Nahuel|       GUZMÁN|   Tigres UANL (MEX)|   192|  90| 10| 02|1986|     1986-02-10|  2|\n",
      "|Argentina|    16|     DF|       ROJO Marcos|         ROJO|Manchester United...|   189|  82| 20| 03|1990|     1990-03-20|  3|\n",
      "|Argentina|    12|     GK|     ARMANI Franco|       ARMANI|CA River Plate (ARG)|   189|  85| 16| 10|1986|     1986-10-16|  4|\n",
      "|Argentina|    23|     GK|CABALLERO Wilfredo|    CABALLERO|    Chelsea FC (ENG)|   186|  80| 28| 09|1981|     1981-09-28|  5|\n",
      "|Argentina|     9|     FW|   HIGUAIN Gonzalo|      HIGUAÍN|   Juventus FC (ITA)|   184|  75| 10| 12|1987|     1987-12-10|  6|\n",
      "|Argentina|     4|     DF|  ANSALDI Cristian|      ANSALDI|     Torino FC (ITA)|   181|  73| 20| 09|1986|     1986-09-20|  7|\n",
      "|Argentina|     2|     DF|   MERCADO Gabriel|      MERCADO|    Sevilla FC (ESP)|   181|  81| 18| 03|1987|     1987-03-18|  8|\n",
      "|Argentina|    17|     DF|  OTAMENDI Nicolas|     OTAMENDI|Manchester City F...|   181|  81| 12| 02|1988|     1988-02-12|  9|\n",
      "|Argentina|    13|     MF|  MEZA Maximiliano|         MEZA|CA Independiente ...|   180|  76| 15| 12|1992|     1992-12-15| 10|\n",
      "|Argentina|    11|     MF|    DI MARIA Angel|     DI MARÍA|Paris Saint-Germa...|   178|  75| 14| 02|1988|     1988-02-14| 11|\n",
      "|Argentina|    21|     FW|      DYBALA Paulo|       DYBALA|   Juventus FC (ITA)|   177|  73| 15| 11|1993|     1993-11-15| 12|\n",
      "|Argentina|    20|     MF|  LO CELSO Giovani|     LO CELSO|Paris Saint-Germa...|   177|  75| 09| 04|1996|     1996-04-09| 13|\n",
      "|Argentina|     5|     MF|      BIGLIA Lucas|       BIGLIA|      AC Milan (ITA)|   175|  73| 30| 01|1986|     1986-01-30| 14|\n",
      "|Argentina|     7|     MF|       BANEGA Ever|       BANEGA|    Sevilla FC (ESP)|   175|  73| 29| 06|1988|     1988-06-29| 15|\n",
      "|Argentina|    14|     DF| MASCHERANO Javier|   MASCHERANO|Hebei China Fortu...|   174|  73| 08| 06|1984|     1984-06-08| 16|\n",
      "|Argentina|    19|     FW|     AGUERO Sergio|       AGÜERO|Manchester City F...|   172|  74| 02| 06|1988|     1988-06-02| 17|\n",
      "|Argentina|     8|     DF|      ACUNA Marcos|        ACUÑA|   Sporting CP (POR)|   172|  77| 28| 10|1991|     1991-10-28| 18|\n",
      "|Argentina|    10|     FW|      MESSI Lionel|        MESSI|  FC Barcelona (ESP)|   170|  72| 24| 06|1987|     1987-06-24| 19|\n",
      "|Argentina|     3|     DF|TAGLIAFICO Nicolas|   TAGLIAFICO|      AFC Ajax (NED)|   169|  65| 31| 08|1992|     1992-08-31| 20|\n",
      "|Argentina|    22|     MF|    PAVON Cristian|        PAVÓN|CA Boca Juniors (...|   169|  65| 21| 01|1996|     1996-01-21| 21|\n",
      "|Argentina|    15|     MF|    LANZINI Manuel|      LANZINI|West Ham United F...|   167|  66| 15| 02|1993|     1993-02-15| 22|\n",
      "|Argentina|    18|     DF|    SALVIO Eduardo|       SALVIO|    SL Benfica (POR)|   167|  69| 13| 07|1990|     1990-07-13| 23|\n",
      "|Australia|    12|     GK|        JONES Brad|        JONES|Feyenoord Rotterd...|   193|  87| 19| 03|1982|     1982-03-19|  1|\n",
      "|Australia|     9|     FW|        JURIC Tomi|        JURIC|     FC Luzern (SUI)|   190|  80| 22| 07|1991|     1991-07-22|  2|\n",
      "|Australia|     6|     DF|    JURMAN Matthew|       JURMAN|Suwon Samsung Blu...|   190|  83| 08| 12|1989|     1989-12-08|  3|\n",
      "|Australia|    23|     MF|         ROGIC Tom|        ROGIC|     Celtic FC (SCO)|   189|  88| 16| 12|1992|     1992-12-16|  4|\n",
      "|Australia|    15|     MF|      JEDINAK Mile|      JEDINAK|Aston Villa FC (ENG)|   188|  78| 03| 08|1984|     1984-08-03|  5|\n",
      "|Australia|     2|     DF|     DEGENEK Milos|      DEGENEK|Yokohama F-Marino...|   187|  85| 28| 04|1994|     1994-04-28|  6|\n",
      "|Australia|    18|     GK|     VUKOVIC Danny|      VUKOVIC|      KRC Genk (BEL)|   187|  94| 27| 03|1985|     1985-03-27|  7|\n",
      "|Australia|     1|     GK|       RYAN Mathew|         RYAN|Brighton & Hove A...|   184|  82| 08| 04|1992|     1992-04-08|  8|\n",
      "|Australia|    20|     DF|   SAINSBURY Trent|    SAINSBURY|Grasshopper Club ...|   183|  76| 05| 01|1992|     1992-01-05|  9|\n",
      "|Australia|     7|     FW|     LECKIE Mathew|       LECKIE|    Hertha BSC (GER)|   181|  84| 04| 02|1991|     1991-02-04| 10|\n",
      "|Australia|    10|     FW|      KRUSE Robbie|        KRUSE|    VfL Bochum (GER)|   180|  66| 05| 10|1988|     1988-10-05| 11|\n",
      "|Australia|     4|     FW|        CAHILL Tim|       CAHILL|   Millwall FC (ENG)|   180|  76| 06| 12|1979|     1979-12-06| 12|\n",
      "|Australia|    22|     MF|    IRVINE Jackson|       IRVINE|  Hull City FC (ENG)|   180|  77| 07| 03|1993|     1993-03-07| 13|\n",
      "|Australia|     3|     DF|    MEREDITH James|     MEREDITH|   Millwall FC (ENG)|   179|  71| 05| 04|1988|     1988-04-05| 14|\n",
      "|Australia|    14|     FW|    MacLAREN Jamie|     MACLAREN|  Hibernian FC (SCO)|   178|  72| 29| 07|1993|     1993-07-29| 15|\n",
      "|Australia|     5|     DF|     MILLIGAN Mark|     MILLIGAN|    Al Ahli SC (KSA)|   178|  78| 04| 08|1985|     1985-08-04| 16|\n",
      "|Australia|    11|     FW|    NABBOUT Andrew|      NABBOUT|    Urawa Reds (JPN)|   178|  85| 17| 12|1992|     1992-12-17| 17|\n",
      "|Australia|    21|     FW|PETRATOS Dimitrios|     PETRATOS|Newcastle United ...|   176|  72| 10| 11|1992|     1992-11-10| 18|\n",
      "|Australia|     8|     MF|    LUONGO Massimo|       LUONGO|Queens Park Range...|   176|  76| 25| 09|1992|     1992-09-25| 19|\n",
      "|Australia|    13|     MF|        MOOY Aaron|         MOOY|Huddersfield Town...|   173|  72| 15| 09|1990|     1990-09-15| 20|\n",
      "|Australia|    17|     FW|     ARZANI Daniel|       ARZANI|Melbourne City FC...|   171|  73| 04| 01|1999|     1999-01-04| 21|\n",
      "|Australia|    16|     DF|       BEHICH Aziz|       BEHICH|     Bursaspor (TUR)|   170|  63| 16| 12|1990|     1990-12-16| 22|\n",
      "|Australia|    19|     DF|     RISDON Joshua|       RISDON|WS Wanderers FC (...|   169|  70| 27| 07|1992|     1992-07-27| 23|\n",
      "|  Belgium|     1|     GK|  COURTOIS Thibaut|     COURTOIS|    Chelsea FC (ENG)|   199|  91| 11| 05|1992|     1992-05-11|  1|\n",
      "|  Belgium|    13|     GK|     CASTEELS Koen|     CASTEELS| VfL Wolfsburg (GER)|   197|  86| 25| 06|1992|     1992-06-25|  2|\n",
      "|  Belgium|     8|     MF| FELLAINI Marouane|     FELLAINI|Manchester United...|   194|  85| 22| 11|1987|     1987-11-22|  3|\n",
      "|  Belgium|    12|     GK|    MIGNOLET Simon|     MIGNOLET|  Liverpool FC (ENG)|   193|  87| 06| 03|1988|     1988-03-06|  4|\n",
      "+---------+------+-------+------------------+-------------+--------------------+------+----+---+---+----+---------------+---+\n",
      "only showing top 50 rows\n",
      "\n"
     ]
    }
   ],
   "source": [
    "num_linha = Window.partitionBy('Selecao').orderBy(desc('Altura'))\n",
    "\n",
    "df.withColumn('n', row_number().over(num_linha)).show(50)"
   ]
  },
  {
   "cell_type": "markdown",
   "id": "1d812005",
   "metadata": {},
   "source": [
    "##### Window Function 2 - Ranking 1 - rank()"
   ]
  },
  {
   "cell_type": "code",
   "execution_count": 35,
   "id": "1d552c2e",
   "metadata": {},
   "outputs": [
    {
     "name": "stdout",
     "output_type": "stream",
     "text": [
      "+---------+------+-------+------------------+-------------+--------------------+------+----+---+---+----+---------------+----+\n",
      "|  Selecao|Numero|Posicao|         Nome_FIFA|Nome Camiseta|                Time|Altura|Peso|Dia|Mes| Ano|Data_Nascimento|rank|\n",
      "+---------+------+-------+------------------+-------------+--------------------+------+----+---+---+----+---------------+----+\n",
      "|Argentina|     6|     DF|    FAZIO Federico|        FAZIO|       AS Roma (ITA)|   199|  85| 17| 03|1987|     1987-03-17|   1|\n",
      "|Argentina|     1|     GK|     GUZMAN Nahuel|       GUZMÁN|   Tigres UANL (MEX)|   192|  90| 10| 02|1986|     1986-02-10|   2|\n",
      "|Argentina|    16|     DF|       ROJO Marcos|         ROJO|Manchester United...|   189|  82| 20| 03|1990|     1990-03-20|   3|\n",
      "|Argentina|    12|     GK|     ARMANI Franco|       ARMANI|CA River Plate (ARG)|   189|  85| 16| 10|1986|     1986-10-16|   3|\n",
      "|Argentina|    23|     GK|CABALLERO Wilfredo|    CABALLERO|    Chelsea FC (ENG)|   186|  80| 28| 09|1981|     1981-09-28|   5|\n",
      "|Argentina|     9|     FW|   HIGUAIN Gonzalo|      HIGUAÍN|   Juventus FC (ITA)|   184|  75| 10| 12|1987|     1987-12-10|   6|\n",
      "|Argentina|     4|     DF|  ANSALDI Cristian|      ANSALDI|     Torino FC (ITA)|   181|  73| 20| 09|1986|     1986-09-20|   7|\n",
      "|Argentina|     2|     DF|   MERCADO Gabriel|      MERCADO|    Sevilla FC (ESP)|   181|  81| 18| 03|1987|     1987-03-18|   7|\n",
      "|Argentina|    17|     DF|  OTAMENDI Nicolas|     OTAMENDI|Manchester City F...|   181|  81| 12| 02|1988|     1988-02-12|   7|\n",
      "|Argentina|    13|     MF|  MEZA Maximiliano|         MEZA|CA Independiente ...|   180|  76| 15| 12|1992|     1992-12-15|  10|\n",
      "|Argentina|    11|     MF|    DI MARIA Angel|     DI MARÍA|Paris Saint-Germa...|   178|  75| 14| 02|1988|     1988-02-14|  11|\n",
      "|Argentina|    21|     FW|      DYBALA Paulo|       DYBALA|   Juventus FC (ITA)|   177|  73| 15| 11|1993|     1993-11-15|  12|\n",
      "|Argentina|    20|     MF|  LO CELSO Giovani|     LO CELSO|Paris Saint-Germa...|   177|  75| 09| 04|1996|     1996-04-09|  12|\n",
      "|Argentina|     5|     MF|      BIGLIA Lucas|       BIGLIA|      AC Milan (ITA)|   175|  73| 30| 01|1986|     1986-01-30|  14|\n",
      "|Argentina|     7|     MF|       BANEGA Ever|       BANEGA|    Sevilla FC (ESP)|   175|  73| 29| 06|1988|     1988-06-29|  14|\n",
      "|Argentina|    14|     DF| MASCHERANO Javier|   MASCHERANO|Hebei China Fortu...|   174|  73| 08| 06|1984|     1984-06-08|  16|\n",
      "|Argentina|    19|     FW|     AGUERO Sergio|       AGÜERO|Manchester City F...|   172|  74| 02| 06|1988|     1988-06-02|  17|\n",
      "|Argentina|     8|     DF|      ACUNA Marcos|        ACUÑA|   Sporting CP (POR)|   172|  77| 28| 10|1991|     1991-10-28|  17|\n",
      "|Argentina|    10|     FW|      MESSI Lionel|        MESSI|  FC Barcelona (ESP)|   170|  72| 24| 06|1987|     1987-06-24|  19|\n",
      "|Argentina|     3|     DF|TAGLIAFICO Nicolas|   TAGLIAFICO|      AFC Ajax (NED)|   169|  65| 31| 08|1992|     1992-08-31|  20|\n",
      "|Argentina|    22|     MF|    PAVON Cristian|        PAVÓN|CA Boca Juniors (...|   169|  65| 21| 01|1996|     1996-01-21|  20|\n",
      "|Argentina|    15|     MF|    LANZINI Manuel|      LANZINI|West Ham United F...|   167|  66| 15| 02|1993|     1993-02-15|  22|\n",
      "|Argentina|    18|     DF|    SALVIO Eduardo|       SALVIO|    SL Benfica (POR)|   167|  69| 13| 07|1990|     1990-07-13|  22|\n",
      "|Australia|    12|     GK|        JONES Brad|        JONES|Feyenoord Rotterd...|   193|  87| 19| 03|1982|     1982-03-19|   1|\n",
      "|Australia|     9|     FW|        JURIC Tomi|        JURIC|     FC Luzern (SUI)|   190|  80| 22| 07|1991|     1991-07-22|   2|\n",
      "|Australia|     6|     DF|    JURMAN Matthew|       JURMAN|Suwon Samsung Blu...|   190|  83| 08| 12|1989|     1989-12-08|   2|\n",
      "|Australia|    23|     MF|         ROGIC Tom|        ROGIC|     Celtic FC (SCO)|   189|  88| 16| 12|1992|     1992-12-16|   4|\n",
      "|Australia|    15|     MF|      JEDINAK Mile|      JEDINAK|Aston Villa FC (ENG)|   188|  78| 03| 08|1984|     1984-08-03|   5|\n",
      "|Australia|     2|     DF|     DEGENEK Milos|      DEGENEK|Yokohama F-Marino...|   187|  85| 28| 04|1994|     1994-04-28|   6|\n",
      "|Australia|    18|     GK|     VUKOVIC Danny|      VUKOVIC|      KRC Genk (BEL)|   187|  94| 27| 03|1985|     1985-03-27|   6|\n",
      "|Australia|     1|     GK|       RYAN Mathew|         RYAN|Brighton & Hove A...|   184|  82| 08| 04|1992|     1992-04-08|   8|\n",
      "|Australia|    20|     DF|   SAINSBURY Trent|    SAINSBURY|Grasshopper Club ...|   183|  76| 05| 01|1992|     1992-01-05|   9|\n",
      "|Australia|     7|     FW|     LECKIE Mathew|       LECKIE|    Hertha BSC (GER)|   181|  84| 04| 02|1991|     1991-02-04|  10|\n",
      "|Australia|    10|     FW|      KRUSE Robbie|        KRUSE|    VfL Bochum (GER)|   180|  66| 05| 10|1988|     1988-10-05|  11|\n",
      "|Australia|     4|     FW|        CAHILL Tim|       CAHILL|   Millwall FC (ENG)|   180|  76| 06| 12|1979|     1979-12-06|  11|\n",
      "|Australia|    22|     MF|    IRVINE Jackson|       IRVINE|  Hull City FC (ENG)|   180|  77| 07| 03|1993|     1993-03-07|  11|\n",
      "|Australia|     3|     DF|    MEREDITH James|     MEREDITH|   Millwall FC (ENG)|   179|  71| 05| 04|1988|     1988-04-05|  14|\n",
      "|Australia|    14|     FW|    MacLAREN Jamie|     MACLAREN|  Hibernian FC (SCO)|   178|  72| 29| 07|1993|     1993-07-29|  15|\n",
      "|Australia|     5|     DF|     MILLIGAN Mark|     MILLIGAN|    Al Ahli SC (KSA)|   178|  78| 04| 08|1985|     1985-08-04|  15|\n",
      "|Australia|    11|     FW|    NABBOUT Andrew|      NABBOUT|    Urawa Reds (JPN)|   178|  85| 17| 12|1992|     1992-12-17|  15|\n",
      "|Australia|    21|     FW|PETRATOS Dimitrios|     PETRATOS|Newcastle United ...|   176|  72| 10| 11|1992|     1992-11-10|  18|\n",
      "|Australia|     8|     MF|    LUONGO Massimo|       LUONGO|Queens Park Range...|   176|  76| 25| 09|1992|     1992-09-25|  18|\n",
      "|Australia|    13|     MF|        MOOY Aaron|         MOOY|Huddersfield Town...|   173|  72| 15| 09|1990|     1990-09-15|  20|\n",
      "|Australia|    17|     FW|     ARZANI Daniel|       ARZANI|Melbourne City FC...|   171|  73| 04| 01|1999|     1999-01-04|  21|\n",
      "|Australia|    16|     DF|       BEHICH Aziz|       BEHICH|     Bursaspor (TUR)|   170|  63| 16| 12|1990|     1990-12-16|  22|\n",
      "|Australia|    19|     DF|     RISDON Joshua|       RISDON|WS Wanderers FC (...|   169|  70| 27| 07|1992|     1992-07-27|  23|\n",
      "|  Belgium|     1|     GK|  COURTOIS Thibaut|     COURTOIS|    Chelsea FC (ENG)|   199|  91| 11| 05|1992|     1992-05-11|   1|\n",
      "|  Belgium|    13|     GK|     CASTEELS Koen|     CASTEELS| VfL Wolfsburg (GER)|   197|  86| 25| 06|1992|     1992-06-25|   2|\n",
      "|  Belgium|     8|     MF| FELLAINI Marouane|     FELLAINI|Manchester United...|   194|  85| 22| 11|1987|     1987-11-22|   3|\n",
      "|  Belgium|    12|     GK|    MIGNOLET Simon|     MIGNOLET|  Liverpool FC (ENG)|   193|  87| 06| 03|1988|     1988-03-06|   4|\n",
      "+---------+------+-------+------------------+-------------+--------------------+------+----+---+---+----+---------------+----+\n",
      "only showing top 50 rows\n",
      "\n"
     ]
    }
   ],
   "source": [
    "rank1 = Window.partitionBy('Selecao').orderBy(desc('Altura'))\n",
    "\n",
    "df.withColumn('rank', rank().over(rank1)).show(50)"
   ]
  },
  {
   "cell_type": "markdown",
   "id": "9ec1908a",
   "metadata": {},
   "source": [
    "##### Window Function 3 - Ranking 2 - dense_rank()"
   ]
  },
  {
   "cell_type": "code",
   "execution_count": 36,
   "id": "5648a126",
   "metadata": {},
   "outputs": [
    {
     "name": "stdout",
     "output_type": "stream",
     "text": [
      "+---------+------+-------+------------------+-------------+--------------------+------+----+---+---+----+---------------+-----+\n",
      "|  Selecao|Numero|Posicao|         Nome_FIFA|Nome Camiseta|                Time|Altura|Peso|Dia|Mes| Ano|Data_Nascimento|rank2|\n",
      "+---------+------+-------+------------------+-------------+--------------------+------+----+---+---+----+---------------+-----+\n",
      "|Argentina|     6|     DF|    FAZIO Federico|        FAZIO|       AS Roma (ITA)|   199|  85| 17| 03|1987|     1987-03-17|    1|\n",
      "|Argentina|     1|     GK|     GUZMAN Nahuel|       GUZMÁN|   Tigres UANL (MEX)|   192|  90| 10| 02|1986|     1986-02-10|    2|\n",
      "|Argentina|    16|     DF|       ROJO Marcos|         ROJO|Manchester United...|   189|  82| 20| 03|1990|     1990-03-20|    3|\n",
      "|Argentina|    12|     GK|     ARMANI Franco|       ARMANI|CA River Plate (ARG)|   189|  85| 16| 10|1986|     1986-10-16|    3|\n",
      "|Argentina|    23|     GK|CABALLERO Wilfredo|    CABALLERO|    Chelsea FC (ENG)|   186|  80| 28| 09|1981|     1981-09-28|    4|\n",
      "|Argentina|     9|     FW|   HIGUAIN Gonzalo|      HIGUAÍN|   Juventus FC (ITA)|   184|  75| 10| 12|1987|     1987-12-10|    5|\n",
      "|Argentina|     4|     DF|  ANSALDI Cristian|      ANSALDI|     Torino FC (ITA)|   181|  73| 20| 09|1986|     1986-09-20|    6|\n",
      "|Argentina|     2|     DF|   MERCADO Gabriel|      MERCADO|    Sevilla FC (ESP)|   181|  81| 18| 03|1987|     1987-03-18|    6|\n",
      "|Argentina|    17|     DF|  OTAMENDI Nicolas|     OTAMENDI|Manchester City F...|   181|  81| 12| 02|1988|     1988-02-12|    6|\n",
      "|Argentina|    13|     MF|  MEZA Maximiliano|         MEZA|CA Independiente ...|   180|  76| 15| 12|1992|     1992-12-15|    7|\n",
      "|Argentina|    11|     MF|    DI MARIA Angel|     DI MARÍA|Paris Saint-Germa...|   178|  75| 14| 02|1988|     1988-02-14|    8|\n",
      "|Argentina|    21|     FW|      DYBALA Paulo|       DYBALA|   Juventus FC (ITA)|   177|  73| 15| 11|1993|     1993-11-15|    9|\n",
      "|Argentina|    20|     MF|  LO CELSO Giovani|     LO CELSO|Paris Saint-Germa...|   177|  75| 09| 04|1996|     1996-04-09|    9|\n",
      "|Argentina|     5|     MF|      BIGLIA Lucas|       BIGLIA|      AC Milan (ITA)|   175|  73| 30| 01|1986|     1986-01-30|   10|\n",
      "|Argentina|     7|     MF|       BANEGA Ever|       BANEGA|    Sevilla FC (ESP)|   175|  73| 29| 06|1988|     1988-06-29|   10|\n",
      "|Argentina|    14|     DF| MASCHERANO Javier|   MASCHERANO|Hebei China Fortu...|   174|  73| 08| 06|1984|     1984-06-08|   11|\n",
      "|Argentina|    19|     FW|     AGUERO Sergio|       AGÜERO|Manchester City F...|   172|  74| 02| 06|1988|     1988-06-02|   12|\n",
      "|Argentina|     8|     DF|      ACUNA Marcos|        ACUÑA|   Sporting CP (POR)|   172|  77| 28| 10|1991|     1991-10-28|   12|\n",
      "|Argentina|    10|     FW|      MESSI Lionel|        MESSI|  FC Barcelona (ESP)|   170|  72| 24| 06|1987|     1987-06-24|   13|\n",
      "|Argentina|     3|     DF|TAGLIAFICO Nicolas|   TAGLIAFICO|      AFC Ajax (NED)|   169|  65| 31| 08|1992|     1992-08-31|   14|\n",
      "|Argentina|    22|     MF|    PAVON Cristian|        PAVÓN|CA Boca Juniors (...|   169|  65| 21| 01|1996|     1996-01-21|   14|\n",
      "|Argentina|    15|     MF|    LANZINI Manuel|      LANZINI|West Ham United F...|   167|  66| 15| 02|1993|     1993-02-15|   15|\n",
      "|Argentina|    18|     DF|    SALVIO Eduardo|       SALVIO|    SL Benfica (POR)|   167|  69| 13| 07|1990|     1990-07-13|   15|\n",
      "|Australia|    12|     GK|        JONES Brad|        JONES|Feyenoord Rotterd...|   193|  87| 19| 03|1982|     1982-03-19|    1|\n",
      "|Australia|     9|     FW|        JURIC Tomi|        JURIC|     FC Luzern (SUI)|   190|  80| 22| 07|1991|     1991-07-22|    2|\n",
      "|Australia|     6|     DF|    JURMAN Matthew|       JURMAN|Suwon Samsung Blu...|   190|  83| 08| 12|1989|     1989-12-08|    2|\n",
      "|Australia|    23|     MF|         ROGIC Tom|        ROGIC|     Celtic FC (SCO)|   189|  88| 16| 12|1992|     1992-12-16|    3|\n",
      "|Australia|    15|     MF|      JEDINAK Mile|      JEDINAK|Aston Villa FC (ENG)|   188|  78| 03| 08|1984|     1984-08-03|    4|\n",
      "|Australia|     2|     DF|     DEGENEK Milos|      DEGENEK|Yokohama F-Marino...|   187|  85| 28| 04|1994|     1994-04-28|    5|\n",
      "|Australia|    18|     GK|     VUKOVIC Danny|      VUKOVIC|      KRC Genk (BEL)|   187|  94| 27| 03|1985|     1985-03-27|    5|\n",
      "|Australia|     1|     GK|       RYAN Mathew|         RYAN|Brighton & Hove A...|   184|  82| 08| 04|1992|     1992-04-08|    6|\n",
      "|Australia|    20|     DF|   SAINSBURY Trent|    SAINSBURY|Grasshopper Club ...|   183|  76| 05| 01|1992|     1992-01-05|    7|\n",
      "|Australia|     7|     FW|     LECKIE Mathew|       LECKIE|    Hertha BSC (GER)|   181|  84| 04| 02|1991|     1991-02-04|    8|\n",
      "|Australia|    10|     FW|      KRUSE Robbie|        KRUSE|    VfL Bochum (GER)|   180|  66| 05| 10|1988|     1988-10-05|    9|\n",
      "|Australia|     4|     FW|        CAHILL Tim|       CAHILL|   Millwall FC (ENG)|   180|  76| 06| 12|1979|     1979-12-06|    9|\n",
      "|Australia|    22|     MF|    IRVINE Jackson|       IRVINE|  Hull City FC (ENG)|   180|  77| 07| 03|1993|     1993-03-07|    9|\n",
      "|Australia|     3|     DF|    MEREDITH James|     MEREDITH|   Millwall FC (ENG)|   179|  71| 05| 04|1988|     1988-04-05|   10|\n",
      "|Australia|    14|     FW|    MacLAREN Jamie|     MACLAREN|  Hibernian FC (SCO)|   178|  72| 29| 07|1993|     1993-07-29|   11|\n",
      "|Australia|     5|     DF|     MILLIGAN Mark|     MILLIGAN|    Al Ahli SC (KSA)|   178|  78| 04| 08|1985|     1985-08-04|   11|\n",
      "|Australia|    11|     FW|    NABBOUT Andrew|      NABBOUT|    Urawa Reds (JPN)|   178|  85| 17| 12|1992|     1992-12-17|   11|\n",
      "|Australia|    21|     FW|PETRATOS Dimitrios|     PETRATOS|Newcastle United ...|   176|  72| 10| 11|1992|     1992-11-10|   12|\n",
      "|Australia|     8|     MF|    LUONGO Massimo|       LUONGO|Queens Park Range...|   176|  76| 25| 09|1992|     1992-09-25|   12|\n",
      "|Australia|    13|     MF|        MOOY Aaron|         MOOY|Huddersfield Town...|   173|  72| 15| 09|1990|     1990-09-15|   13|\n",
      "|Australia|    17|     FW|     ARZANI Daniel|       ARZANI|Melbourne City FC...|   171|  73| 04| 01|1999|     1999-01-04|   14|\n",
      "|Australia|    16|     DF|       BEHICH Aziz|       BEHICH|     Bursaspor (TUR)|   170|  63| 16| 12|1990|     1990-12-16|   15|\n",
      "|Australia|    19|     DF|     RISDON Joshua|       RISDON|WS Wanderers FC (...|   169|  70| 27| 07|1992|     1992-07-27|   16|\n",
      "|  Belgium|     1|     GK|  COURTOIS Thibaut|     COURTOIS|    Chelsea FC (ENG)|   199|  91| 11| 05|1992|     1992-05-11|    1|\n",
      "|  Belgium|    13|     GK|     CASTEELS Koen|     CASTEELS| VfL Wolfsburg (GER)|   197|  86| 25| 06|1992|     1992-06-25|    2|\n",
      "|  Belgium|     8|     MF| FELLAINI Marouane|     FELLAINI|Manchester United...|   194|  85| 22| 11|1987|     1987-11-22|    3|\n",
      "|  Belgium|    12|     GK|    MIGNOLET Simon|     MIGNOLET|  Liverpool FC (ENG)|   193|  87| 06| 03|1988|     1988-03-06|    4|\n",
      "+---------+------+-------+------------------+-------------+--------------------+------+----+---+---+----+---------------+-----+\n",
      "only showing top 50 rows\n",
      "\n"
     ]
    }
   ],
   "source": [
    "rank2 = Window.partitionBy('Selecao').orderBy(desc('Altura'))\n",
    "\n",
    "df.withColumn('rank2', dense_rank().over(rank2)).show(50)"
   ]
  },
  {
   "cell_type": "markdown",
   "id": "2a1a00fa",
   "metadata": {},
   "source": [
    "##### Window Function 4 - Porcentagem Ranking - percent_rank()"
   ]
  },
  {
   "cell_type": "code",
   "execution_count": 37,
   "id": "4a8241db",
   "metadata": {},
   "outputs": [
    {
     "name": "stdout",
     "output_type": "stream",
     "text": [
      "+---------+------+-------+------------------+-------------+--------------------+------+----+---+---+----+---------------+--------------------+\n",
      "|  Selecao|Numero|Posicao|         Nome_FIFA|Nome Camiseta|                Time|Altura|Peso|Dia|Mes| Ano|Data_Nascimento|                   %|\n",
      "+---------+------+-------+------------------+-------------+--------------------+------+----+---+---+----+---------------+--------------------+\n",
      "|Argentina|     6|     DF|    FAZIO Federico|        FAZIO|       AS Roma (ITA)|   199|  85| 17| 03|1987|     1987-03-17|                 0.0|\n",
      "|Argentina|     1|     GK|     GUZMAN Nahuel|       GUZMÁN|   Tigres UANL (MEX)|   192|  90| 10| 02|1986|     1986-02-10|0.045454545454545456|\n",
      "|Argentina|    16|     DF|       ROJO Marcos|         ROJO|Manchester United...|   189|  82| 20| 03|1990|     1990-03-20| 0.09090909090909091|\n",
      "|Argentina|    12|     GK|     ARMANI Franco|       ARMANI|CA River Plate (ARG)|   189|  85| 16| 10|1986|     1986-10-16| 0.09090909090909091|\n",
      "|Argentina|    23|     GK|CABALLERO Wilfredo|    CABALLERO|    Chelsea FC (ENG)|   186|  80| 28| 09|1981|     1981-09-28| 0.18181818181818182|\n",
      "|Argentina|     9|     FW|   HIGUAIN Gonzalo|      HIGUAÍN|   Juventus FC (ITA)|   184|  75| 10| 12|1987|     1987-12-10| 0.22727272727272727|\n",
      "|Argentina|     4|     DF|  ANSALDI Cristian|      ANSALDI|     Torino FC (ITA)|   181|  73| 20| 09|1986|     1986-09-20|  0.2727272727272727|\n",
      "|Argentina|     2|     DF|   MERCADO Gabriel|      MERCADO|    Sevilla FC (ESP)|   181|  81| 18| 03|1987|     1987-03-18|  0.2727272727272727|\n",
      "|Argentina|    17|     DF|  OTAMENDI Nicolas|     OTAMENDI|Manchester City F...|   181|  81| 12| 02|1988|     1988-02-12|  0.2727272727272727|\n",
      "|Argentina|    13|     MF|  MEZA Maximiliano|         MEZA|CA Independiente ...|   180|  76| 15| 12|1992|     1992-12-15|  0.4090909090909091|\n",
      "|Argentina|    11|     MF|    DI MARIA Angel|     DI MARÍA|Paris Saint-Germa...|   178|  75| 14| 02|1988|     1988-02-14| 0.45454545454545453|\n",
      "|Argentina|    21|     FW|      DYBALA Paulo|       DYBALA|   Juventus FC (ITA)|   177|  73| 15| 11|1993|     1993-11-15|                 0.5|\n",
      "|Argentina|    20|     MF|  LO CELSO Giovani|     LO CELSO|Paris Saint-Germa...|   177|  75| 09| 04|1996|     1996-04-09|                 0.5|\n",
      "|Argentina|     5|     MF|      BIGLIA Lucas|       BIGLIA|      AC Milan (ITA)|   175|  73| 30| 01|1986|     1986-01-30|  0.5909090909090909|\n",
      "|Argentina|     7|     MF|       BANEGA Ever|       BANEGA|    Sevilla FC (ESP)|   175|  73| 29| 06|1988|     1988-06-29|  0.5909090909090909|\n",
      "|Argentina|    14|     DF| MASCHERANO Javier|   MASCHERANO|Hebei China Fortu...|   174|  73| 08| 06|1984|     1984-06-08|  0.6818181818181818|\n",
      "|Argentina|    19|     FW|     AGUERO Sergio|       AGÜERO|Manchester City F...|   172|  74| 02| 06|1988|     1988-06-02|  0.7272727272727273|\n",
      "|Argentina|     8|     DF|      ACUNA Marcos|        ACUÑA|   Sporting CP (POR)|   172|  77| 28| 10|1991|     1991-10-28|  0.7272727272727273|\n",
      "|Argentina|    10|     FW|      MESSI Lionel|        MESSI|  FC Barcelona (ESP)|   170|  72| 24| 06|1987|     1987-06-24|  0.8181818181818182|\n",
      "|Argentina|     3|     DF|TAGLIAFICO Nicolas|   TAGLIAFICO|      AFC Ajax (NED)|   169|  65| 31| 08|1992|     1992-08-31|  0.8636363636363636|\n",
      "|Argentina|    22|     MF|    PAVON Cristian|        PAVÓN|CA Boca Juniors (...|   169|  65| 21| 01|1996|     1996-01-21|  0.8636363636363636|\n",
      "|Argentina|    15|     MF|    LANZINI Manuel|      LANZINI|West Ham United F...|   167|  66| 15| 02|1993|     1993-02-15|  0.9545454545454546|\n",
      "|Argentina|    18|     DF|    SALVIO Eduardo|       SALVIO|    SL Benfica (POR)|   167|  69| 13| 07|1990|     1990-07-13|  0.9545454545454546|\n",
      "|Australia|    12|     GK|        JONES Brad|        JONES|Feyenoord Rotterd...|   193|  87| 19| 03|1982|     1982-03-19|                 0.0|\n",
      "|Australia|     9|     FW|        JURIC Tomi|        JURIC|     FC Luzern (SUI)|   190|  80| 22| 07|1991|     1991-07-22|0.045454545454545456|\n",
      "|Australia|     6|     DF|    JURMAN Matthew|       JURMAN|Suwon Samsung Blu...|   190|  83| 08| 12|1989|     1989-12-08|0.045454545454545456|\n",
      "|Australia|    23|     MF|         ROGIC Tom|        ROGIC|     Celtic FC (SCO)|   189|  88| 16| 12|1992|     1992-12-16| 0.13636363636363635|\n",
      "|Australia|    15|     MF|      JEDINAK Mile|      JEDINAK|Aston Villa FC (ENG)|   188|  78| 03| 08|1984|     1984-08-03| 0.18181818181818182|\n",
      "|Australia|     2|     DF|     DEGENEK Milos|      DEGENEK|Yokohama F-Marino...|   187|  85| 28| 04|1994|     1994-04-28| 0.22727272727272727|\n",
      "|Australia|    18|     GK|     VUKOVIC Danny|      VUKOVIC|      KRC Genk (BEL)|   187|  94| 27| 03|1985|     1985-03-27| 0.22727272727272727|\n",
      "|Australia|     1|     GK|       RYAN Mathew|         RYAN|Brighton & Hove A...|   184|  82| 08| 04|1992|     1992-04-08|  0.3181818181818182|\n",
      "|Australia|    20|     DF|   SAINSBURY Trent|    SAINSBURY|Grasshopper Club ...|   183|  76| 05| 01|1992|     1992-01-05| 0.36363636363636365|\n",
      "|Australia|     7|     FW|     LECKIE Mathew|       LECKIE|    Hertha BSC (GER)|   181|  84| 04| 02|1991|     1991-02-04|  0.4090909090909091|\n",
      "|Australia|    10|     FW|      KRUSE Robbie|        KRUSE|    VfL Bochum (GER)|   180|  66| 05| 10|1988|     1988-10-05| 0.45454545454545453|\n",
      "|Australia|     4|     FW|        CAHILL Tim|       CAHILL|   Millwall FC (ENG)|   180|  76| 06| 12|1979|     1979-12-06| 0.45454545454545453|\n",
      "|Australia|    22|     MF|    IRVINE Jackson|       IRVINE|  Hull City FC (ENG)|   180|  77| 07| 03|1993|     1993-03-07| 0.45454545454545453|\n",
      "|Australia|     3|     DF|    MEREDITH James|     MEREDITH|   Millwall FC (ENG)|   179|  71| 05| 04|1988|     1988-04-05|  0.5909090909090909|\n",
      "|Australia|    14|     FW|    MacLAREN Jamie|     MACLAREN|  Hibernian FC (SCO)|   178|  72| 29| 07|1993|     1993-07-29|  0.6363636363636364|\n",
      "|Australia|     5|     DF|     MILLIGAN Mark|     MILLIGAN|    Al Ahli SC (KSA)|   178|  78| 04| 08|1985|     1985-08-04|  0.6363636363636364|\n",
      "|Australia|    11|     FW|    NABBOUT Andrew|      NABBOUT|    Urawa Reds (JPN)|   178|  85| 17| 12|1992|     1992-12-17|  0.6363636363636364|\n",
      "|Australia|    21|     FW|PETRATOS Dimitrios|     PETRATOS|Newcastle United ...|   176|  72| 10| 11|1992|     1992-11-10|  0.7727272727272727|\n",
      "|Australia|     8|     MF|    LUONGO Massimo|       LUONGO|Queens Park Range...|   176|  76| 25| 09|1992|     1992-09-25|  0.7727272727272727|\n",
      "|Australia|    13|     MF|        MOOY Aaron|         MOOY|Huddersfield Town...|   173|  72| 15| 09|1990|     1990-09-15|  0.8636363636363636|\n",
      "|Australia|    17|     FW|     ARZANI Daniel|       ARZANI|Melbourne City FC...|   171|  73| 04| 01|1999|     1999-01-04|  0.9090909090909091|\n",
      "|Australia|    16|     DF|       BEHICH Aziz|       BEHICH|     Bursaspor (TUR)|   170|  63| 16| 12|1990|     1990-12-16|  0.9545454545454546|\n",
      "|Australia|    19|     DF|     RISDON Joshua|       RISDON|WS Wanderers FC (...|   169|  70| 27| 07|1992|     1992-07-27|                 1.0|\n",
      "|  Belgium|     1|     GK|  COURTOIS Thibaut|     COURTOIS|    Chelsea FC (ENG)|   199|  91| 11| 05|1992|     1992-05-11|                 0.0|\n",
      "|  Belgium|    13|     GK|     CASTEELS Koen|     CASTEELS| VfL Wolfsburg (GER)|   197|  86| 25| 06|1992|     1992-06-25|0.045454545454545456|\n",
      "|  Belgium|     8|     MF| FELLAINI Marouane|     FELLAINI|Manchester United...|   194|  85| 22| 11|1987|     1987-11-22| 0.09090909090909091|\n",
      "|  Belgium|    12|     GK|    MIGNOLET Simon|     MIGNOLET|  Liverpool FC (ENG)|   193|  87| 06| 03|1988|     1988-03-06| 0.13636363636363635|\n",
      "+---------+------+-------+------------------+-------------+--------------------+------+----+---+---+----+---------------+--------------------+\n",
      "only showing top 50 rows\n",
      "\n"
     ]
    }
   ],
   "source": [
    "porcentagem = Window.partitionBy('Selecao').orderBy(desc('Altura'))\n",
    "\n",
    "df.withColumn('%', percent_rank().over(porcentagem)).show(50)"
   ]
  },
  {
   "cell_type": "code",
   "execution_count": null,
   "id": "ae78fac7",
   "metadata": {},
   "outputs": [],
   "source": [
    "+---------+------+-------+------------------+-------------+--------------------+------+----+---+---+----+---------------+--------------------+\n",
    "|  Selecao|Numero|Posicao|         Nome_FIFA|Nome Camiseta|                Time|Altura|Peso|Dia|Mes| Ano|Data_Nascimento|                   %|\n",
    "+---------+------+-------+------------------+-------------+--------------------+------+----+---+---+----+---------------+--------------------+\n",
    "|Argentina|     6|     DF|    FAZIO Federico|        FAZIO|       AS Roma (ITA)|   199|  85| 17| 03|1987|     1987-03-17|                 0.0|\n",
    "|Argentina|     1|     GK|     GUZMAN Nahuel|       GUZMÁN|   Tigres UANL (MEX)|   192|  90| 10| 02|1986|     1986-02-10|0.045454545454545456|\n",
    "|Argentina|    16|     DF|       ROJO Marcos|         ROJO|Manchester United...|   189|  82| 20| 03|1990|     1990-03-20| 0.09090909090909091|\n",
    "|Argentina|    12|     GK|     ARMANI Franco|       ARMANI|CA River Plate (ARG)|   189|  85| 16| 10|1986|     1986-10-16| 0.09090909090909091|\n",
    "|Argentina|    23|     GK|CABALLERO Wilfredo|    CABALLERO|    Chelsea FC (ENG)|   186|  80| 28| 09|1981|     1981-09-28| 0.18181818181818182|\n",
    "|Argentina|     9|     FW|   HIGUAIN Gonzalo|      HIGUAÍN|   Juventus FC (ITA)|   184|  75| 10| 12|1987|     1987-12-10| 0.22727272727272727|\n",
    "|Argentina|     4|     DF|  ANSALDI Cristian|      ANSALDI|     Torino FC (ITA)|   181|  73| 20| 09|1986|     1986-09-20|  0.2727272727272727|\n",
    "|Argentina|     2|     DF|   MERCADO Gabriel|      MERCADO|    Sevilla FC (ESP)|   181|  81| 18| 03|1987|     1987-03-18|  0.2727272727272727|\n",
    "|Argentina|    17|     DF|  OTAMENDI Nicolas|     OTAMENDI|Manchester City F...|   181|  81| 12| 02|1988|     1988-02-12|  0.2727272727272727|\n",
    "|Argentina|    13|     MF|  MEZA Maximiliano|         MEZA|CA Independiente ...|   180|  76| 15| 12|1992|     1992-12-15|  0.4090909090909091|\n",
    "|Argentina|    11|     MF|    DI MARIA Angel|     DI MARÍA|Paris Saint-Germa...|   178|  75| 14| 02|1988|     1988-02-14| 0.45454545454545453|\n",
    "|Argentina|    21|     FW|      DYBALA Paulo|       DYBALA|   Juventus FC (ITA)|   177|  73| 15| 11|1993|     1993-11-15|                 0.5|\n",
    "|Argentina|    20|     MF|  LO CELSO Giovani|     LO CELSO|Paris Saint-Germa...|   177|  75| 09| 04|1996|     1996-04-09|                 0.5|\n",
    "|Argentina|     5|     MF|      BIGLIA Lucas|       BIGLIA|      AC Milan (ITA)|   175|  73| 30| 01|1986|     1986-01-30|  0.5909090909090909|\n",
    "|Argentina|     7|     MF|       BANEGA Ever|       BANEGA|    Sevilla FC (ESP)|   175|  73| 29| 06|1988|     1988-06-29|  0.5909090909090909|\n",
    "|Argentina|    14|     DF| MASCHERANO Javier|   MASCHERANO|Hebei China Fortu...|   174|  73| 08| 06|1984|     1984-06-08|  0.6818181818181818|\n",
    "|Argentina|    19|     FW|     AGUERO Sergio|       AGÜERO|Manchester City F...|   172|  74| 02| 06|1988|     1988-06-02|  0.7272727272727273|\n",
    "|Argentina|     8|     DF|      ACUNA Marcos|        ACUÑA|   Sporting CP (POR)|   172|  77| 28| 10|1991|     1991-10-28|  0.7272727272727273|\n",
    "|Argentina|    10|     FW|      MESSI Lionel|        MESSI|  FC Barcelona (ESP)|   170|  72| 24| 06|1987|     1987-06-24|  0.8181818181818182|\n",
    "|Argentina|     3|     DF|TAGLIAFICO Nicolas|   TAGLIAFICO|      AFC Ajax (NED)|   169|  65| 31| 08|1992|     1992-08-31|  0.8636363636363636|\n",
    "|Argentina|    22|     MF|    PAVON Cristian|        PAVÓN|CA Boca Juniors (...|   169|  65| 21| 01|1996|     1996-01-21|  0.8636363636363636|\n",
    "|Argentina|    15|     MF|    LANZINI Manuel|      LANZINI|West Ham United F...|   167|  66| 15| 02|1993|     1993-02-15|  0.9545454545454546|\n",
    "|Argentina|    18|     DF|    SALVIO Eduardo|       SALVIO|    SL Benfica (POR)|   167|  69| 13| 07|1990|     1990-07-13|  0.9545454545454546|\n",
    "|Australia|    12|     GK|        JONES Brad|        JONES|Feyenoord Rotterd...|   193|  87| 19| 03|1982|     1982-03-19|                 0.0|\n",
    "|Australia|     9|     FW|        JURIC Tomi|        JURIC|     FC Luzern (SUI)|   190|  80| 22| 07|1991|     1991-07-22|0.045454545454545456|\n",
    "|Australia|     6|     DF|    JURMAN Matthew|       JURMAN|Suwon Samsung Blu...|   190|  83| 08| 12|1989|     1989-12-08|0.045454545454545456|\n",
    "|Australia|    23|     MF|         ROGIC Tom|        ROGIC|     Celtic FC (SCO)|   189|  88| 16| 12|1992|     1992-12-16| 0.13636363636363635|\n",
    "|Australia|    15|     MF|      JEDINAK Mile|      JEDINAK|Aston Villa FC (ENG)|   188|  78| 03| 08|1984|     1984-08-03| 0.18181818181818182|\n",
    "|Australia|     2|     DF|     DEGENEK Milos|      DEGENEK|Yokohama F-Marino...|   187|  85| 28| 04|1994|     1994-04-28| 0.22727272727272727|\n",
    "|Australia|    18|     GK|     VUKOVIC Danny|      VUKOVIC|      KRC Genk (BEL)|   187|  94| 27| 03|1985|     1985-03-27| 0.22727272727272727|\n",
    "|Australia|     1|     GK|       RYAN Mathew|         RYAN|Brighton & Hove A...|   184|  82| 08| 04|1992|     1992-04-08|  0.3181818181818182|\n",
    "|Australia|    20|     DF|   SAINSBURY Trent|    SAINSBURY|Grasshopper Club ...|   183|  76| 05| 01|1992|     1992-01-05| 0.36363636363636365|\n",
    "|Australia|     7|     FW|     LECKIE Mathew|       LECKIE|    Hertha BSC (GER)|   181|  84| 04| 02|1991|     1991-02-04|  0.4090909090909091|\n",
    "|Australia|    10|     FW|      KRUSE Robbie|        KRUSE|    VfL Bochum (GER)|   180|  66| 05| 10|1988|     1988-10-05| 0.45454545454545453|\n",
    "|Australia|     4|     FW|        CAHILL Tim|       CAHILL|   Millwall FC (ENG)|   180|  76| 06| 12|1979|     1979-12-06| 0.45454545454545453|\n",
    "|Australia|    22|     MF|    IRVINE Jackson|       IRVINE|  Hull City FC (ENG)|   180|  77| 07| 03|1993|     1993-03-07| 0.45454545454545453|\n",
    "|Australia|     3|     DF|    MEREDITH James|     MEREDITH|   Millwall FC (ENG)|   179|  71| 05| 04|1988|     1988-04-05|  0.5909090909090909|\n",
    "|Australia|    14|     FW|    MacLAREN Jamie|     MACLAREN|  Hibernian FC (SCO)|   178|  72| 29| 07|1993|     1993-07-29|  0.6363636363636364|\n",
    "|Australia|     5|     DF|     MILLIGAN Mark|     MILLIGAN|    Al Ahli SC (KSA)|   178|  78| 04| 08|1985|     1985-08-04|  0.6363636363636364|\n",
    "|Australia|    11|     FW|    NABBOUT Andrew|      NABBOUT|    Urawa Reds (JPN)|   178|  85| 17| 12|1992|     1992-12-17|  0.6363636363636364|\n",
    "|Australia|    21|     FW|PETRATOS Dimitrios|     PETRATOS|Newcastle United ...|   176|  72| 10| 11|1992|     1992-11-10|  0.7727272727272727|\n",
    "|Australia|     8|     MF|    LUONGO Massimo|       LUONGO|Queens Park Range...|   176|  76| 25| 09|1992|     1992-09-25|  0.7727272727272727|\n",
    "|Australia|    13|     MF|        MOOY Aaron|         MOOY|Huddersfield Town...|   173|  72| 15| 09|1990|     1990-09-15|  0.8636363636363636|\n",
    "|Australia|    17|     FW|     ARZANI Daniel|       ARZANI|Melbourne City FC...|   171|  73| 04| 01|1999|     1999-01-04|  0.9090909090909091|\n",
    "|Australia|    16|     DF|       BEHICH Aziz|       BEHICH|     Bursaspor (TUR)|   170|  63| 16| 12|1990|     1990-12-16|  0.9545454545454546|\n",
    "|Australia|    19|     DF|     RISDON Joshua|       RISDON|WS Wanderers FC (...|   169|  70| 27| 07|1992|     1992-07-27|                 1.0|\n",
    "|  Belgium|     1|     GK|  COURTOIS Thibaut|     COURTOIS|    Chelsea FC (ENG)|   199|  91| 11| 05|1992|     1992-05-11|                 0.0|\n",
    "|  Belgium|    13|     GK|     CASTEELS Koen|     CASTEELS| VfL Wolfsburg (GER)|   197|  86| 25| 06|1992|     1992-06-25|0.045454545454545456|\n",
    "|  Belgium|     8|     MF| FELLAINI Marouane|     FELLAINI|Manchester United...|   194|  85| 22| 11|1987|     1987-11-22| 0.09090909090909091|\n",
    "|  Belgium|    12|     GK|    MIGNOLET Simon|     MIGNOLET|  Liverpool FC (ENG)|   193|  87| 06| 03|1988|     1988-03-06| 0.13636363636363635|\n",
    "+---------+------+-------+------------------+-------------+--------------------+------+----+---+---+----+---------------+--------------------+"
   ]
  },
  {
   "cell_type": "markdown",
   "id": "f0f1ac5b",
   "metadata": {},
   "source": [
    "##### Window Function 5 - Divisão em ' N ' partes - ntile()"
   ]
  },
  {
   "cell_type": "code",
   "execution_count": 40,
   "id": "a0ba6851",
   "metadata": {},
   "outputs": [
    {
     "name": "stdout",
     "output_type": "stream",
     "text": [
      "+---------+------+-------+------------------+-------------+--------------------+------+----+---+---+----+---------------+---+\n",
      "|  Selecao|Numero|Posicao|         Nome_FIFA|Nome Camiseta|                Time|Altura|Peso|Dia|Mes| Ano|Data_Nascimento|Par|\n",
      "+---------+------+-------+------------------+-------------+--------------------+------+----+---+---+----+---------------+---+\n",
      "|Argentina|     6|     DF|    FAZIO Federico|        FAZIO|       AS Roma (ITA)|   199|  85| 17| 03|1987|     1987-03-17|  1|\n",
      "|Argentina|     1|     GK|     GUZMAN Nahuel|       GUZMÁN|   Tigres UANL (MEX)|   192|  90| 10| 02|1986|     1986-02-10|  1|\n",
      "|Argentina|    16|     DF|       ROJO Marcos|         ROJO|Manchester United...|   189|  82| 20| 03|1990|     1990-03-20|  1|\n",
      "|Argentina|    12|     GK|     ARMANI Franco|       ARMANI|CA River Plate (ARG)|   189|  85| 16| 10|1986|     1986-10-16|  1|\n",
      "|Argentina|    23|     GK|CABALLERO Wilfredo|    CABALLERO|    Chelsea FC (ENG)|   186|  80| 28| 09|1981|     1981-09-28|  1|\n",
      "|Argentina|     9|     FW|   HIGUAIN Gonzalo|      HIGUAÍN|   Juventus FC (ITA)|   184|  75| 10| 12|1987|     1987-12-10|  2|\n",
      "|Argentina|     4|     DF|  ANSALDI Cristian|      ANSALDI|     Torino FC (ITA)|   181|  73| 20| 09|1986|     1986-09-20|  2|\n",
      "|Argentina|     2|     DF|   MERCADO Gabriel|      MERCADO|    Sevilla FC (ESP)|   181|  81| 18| 03|1987|     1987-03-18|  2|\n",
      "|Argentina|    17|     DF|  OTAMENDI Nicolas|     OTAMENDI|Manchester City F...|   181|  81| 12| 02|1988|     1988-02-12|  2|\n",
      "|Argentina|    13|     MF|  MEZA Maximiliano|         MEZA|CA Independiente ...|   180|  76| 15| 12|1992|     1992-12-15|  2|\n",
      "|Argentina|    11|     MF|    DI MARIA Angel|     DI MARÍA|Paris Saint-Germa...|   178|  75| 14| 02|1988|     1988-02-14|  3|\n",
      "|Argentina|    21|     FW|      DYBALA Paulo|       DYBALA|   Juventus FC (ITA)|   177|  73| 15| 11|1993|     1993-11-15|  3|\n",
      "|Argentina|    20|     MF|  LO CELSO Giovani|     LO CELSO|Paris Saint-Germa...|   177|  75| 09| 04|1996|     1996-04-09|  3|\n",
      "|Argentina|     5|     MF|      BIGLIA Lucas|       BIGLIA|      AC Milan (ITA)|   175|  73| 30| 01|1986|     1986-01-30|  3|\n",
      "|Argentina|     7|     MF|       BANEGA Ever|       BANEGA|    Sevilla FC (ESP)|   175|  73| 29| 06|1988|     1988-06-29|  3|\n",
      "|Argentina|    14|     DF| MASCHERANO Javier|   MASCHERANO|Hebei China Fortu...|   174|  73| 08| 06|1984|     1984-06-08|  4|\n",
      "|Argentina|    19|     FW|     AGUERO Sergio|       AGÜERO|Manchester City F...|   172|  74| 02| 06|1988|     1988-06-02|  4|\n",
      "|Argentina|     8|     DF|      ACUNA Marcos|        ACUÑA|   Sporting CP (POR)|   172|  77| 28| 10|1991|     1991-10-28|  4|\n",
      "|Argentina|    10|     FW|      MESSI Lionel|        MESSI|  FC Barcelona (ESP)|   170|  72| 24| 06|1987|     1987-06-24|  4|\n",
      "|Argentina|     3|     DF|TAGLIAFICO Nicolas|   TAGLIAFICO|      AFC Ajax (NED)|   169|  65| 31| 08|1992|     1992-08-31|  5|\n",
      "|Argentina|    22|     MF|    PAVON Cristian|        PAVÓN|CA Boca Juniors (...|   169|  65| 21| 01|1996|     1996-01-21|  5|\n",
      "|Argentina|    15|     MF|    LANZINI Manuel|      LANZINI|West Ham United F...|   167|  66| 15| 02|1993|     1993-02-15|  5|\n",
      "|Argentina|    18|     DF|    SALVIO Eduardo|       SALVIO|    SL Benfica (POR)|   167|  69| 13| 07|1990|     1990-07-13|  5|\n",
      "|Australia|    12|     GK|        JONES Brad|        JONES|Feyenoord Rotterd...|   193|  87| 19| 03|1982|     1982-03-19|  1|\n",
      "|Australia|     9|     FW|        JURIC Tomi|        JURIC|     FC Luzern (SUI)|   190|  80| 22| 07|1991|     1991-07-22|  1|\n",
      "|Australia|     6|     DF|    JURMAN Matthew|       JURMAN|Suwon Samsung Blu...|   190|  83| 08| 12|1989|     1989-12-08|  1|\n",
      "|Australia|    23|     MF|         ROGIC Tom|        ROGIC|     Celtic FC (SCO)|   189|  88| 16| 12|1992|     1992-12-16|  1|\n",
      "|Australia|    15|     MF|      JEDINAK Mile|      JEDINAK|Aston Villa FC (ENG)|   188|  78| 03| 08|1984|     1984-08-03|  1|\n",
      "|Australia|     2|     DF|     DEGENEK Milos|      DEGENEK|Yokohama F-Marino...|   187|  85| 28| 04|1994|     1994-04-28|  2|\n",
      "|Australia|    18|     GK|     VUKOVIC Danny|      VUKOVIC|      KRC Genk (BEL)|   187|  94| 27| 03|1985|     1985-03-27|  2|\n",
      "|Australia|     1|     GK|       RYAN Mathew|         RYAN|Brighton & Hove A...|   184|  82| 08| 04|1992|     1992-04-08|  2|\n",
      "|Australia|    20|     DF|   SAINSBURY Trent|    SAINSBURY|Grasshopper Club ...|   183|  76| 05| 01|1992|     1992-01-05|  2|\n",
      "|Australia|     7|     FW|     LECKIE Mathew|       LECKIE|    Hertha BSC (GER)|   181|  84| 04| 02|1991|     1991-02-04|  2|\n",
      "|Australia|    10|     FW|      KRUSE Robbie|        KRUSE|    VfL Bochum (GER)|   180|  66| 05| 10|1988|     1988-10-05|  3|\n",
      "|Australia|     4|     FW|        CAHILL Tim|       CAHILL|   Millwall FC (ENG)|   180|  76| 06| 12|1979|     1979-12-06|  3|\n",
      "|Australia|    22|     MF|    IRVINE Jackson|       IRVINE|  Hull City FC (ENG)|   180|  77| 07| 03|1993|     1993-03-07|  3|\n",
      "|Australia|     3|     DF|    MEREDITH James|     MEREDITH|   Millwall FC (ENG)|   179|  71| 05| 04|1988|     1988-04-05|  3|\n",
      "|Australia|    14|     FW|    MacLAREN Jamie|     MACLAREN|  Hibernian FC (SCO)|   178|  72| 29| 07|1993|     1993-07-29|  3|\n",
      "|Australia|     5|     DF|     MILLIGAN Mark|     MILLIGAN|    Al Ahli SC (KSA)|   178|  78| 04| 08|1985|     1985-08-04|  4|\n",
      "|Australia|    11|     FW|    NABBOUT Andrew|      NABBOUT|    Urawa Reds (JPN)|   178|  85| 17| 12|1992|     1992-12-17|  4|\n",
      "|Australia|    21|     FW|PETRATOS Dimitrios|     PETRATOS|Newcastle United ...|   176|  72| 10| 11|1992|     1992-11-10|  4|\n",
      "|Australia|     8|     MF|    LUONGO Massimo|       LUONGO|Queens Park Range...|   176|  76| 25| 09|1992|     1992-09-25|  4|\n",
      "|Australia|    13|     MF|        MOOY Aaron|         MOOY|Huddersfield Town...|   173|  72| 15| 09|1990|     1990-09-15|  5|\n",
      "|Australia|    17|     FW|     ARZANI Daniel|       ARZANI|Melbourne City FC...|   171|  73| 04| 01|1999|     1999-01-04|  5|\n",
      "|Australia|    16|     DF|       BEHICH Aziz|       BEHICH|     Bursaspor (TUR)|   170|  63| 16| 12|1990|     1990-12-16|  5|\n",
      "|Australia|    19|     DF|     RISDON Joshua|       RISDON|WS Wanderers FC (...|   169|  70| 27| 07|1992|     1992-07-27|  5|\n",
      "|  Belgium|     1|     GK|  COURTOIS Thibaut|     COURTOIS|    Chelsea FC (ENG)|   199|  91| 11| 05|1992|     1992-05-11|  1|\n",
      "|  Belgium|    13|     GK|     CASTEELS Koen|     CASTEELS| VfL Wolfsburg (GER)|   197|  86| 25| 06|1992|     1992-06-25|  1|\n",
      "|  Belgium|     8|     MF| FELLAINI Marouane|     FELLAINI|Manchester United...|   194|  85| 22| 11|1987|     1987-11-22|  1|\n",
      "|  Belgium|    12|     GK|    MIGNOLET Simon|     MIGNOLET|  Liverpool FC (ENG)|   193|  87| 06| 03|1988|     1988-03-06|  1|\n",
      "+---------+------+-------+------------------+-------------+--------------------+------+----+---+---+----+---------------+---+\n",
      "only showing top 50 rows\n",
      "\n"
     ]
    }
   ],
   "source": [
    "parte = Window.partitionBy('Selecao').orderBy(desc('Altura'))\n",
    "\n",
    "df.withColumn('Par', ntile(5).over(parte)).show(50)"
   ]
  },
  {
   "cell_type": "markdown",
   "id": "2348e825",
   "metadata": {},
   "source": [
    "#### Window Analytic Functions (Funções analíticas)"
   ]
  },
  {
   "cell_type": "code",
   "execution_count": 42,
   "id": "9aa79c5c",
   "metadata": {},
   "outputs": [],
   "source": [
    "df = df.drop('Nome_Fifa')"
   ]
  },
  {
   "cell_type": "markdown",
   "id": "57246e6a",
   "metadata": {},
   "source": [
    "##### Window Function 6 - LAG / Degrau - lag()"
   ]
  },
  {
   "cell_type": "code",
   "execution_count": 48,
   "id": "03d15a3f",
   "metadata": {},
   "outputs": [
    {
     "name": "stdout",
     "output_type": "stream",
     "text": [
      "+---------+------+-------+-------------+--------------------+------+----+---+---+----+---------------+------+\n",
      "|  Selecao|Numero|Posicao|Nome Camiseta|                Time|Altura|Peso|Dia|Mes| Ano|Data_Nascimento|degrau|\n",
      "+---------+------+-------+-------------+--------------------+------+----+---+---+----+---------------+------+\n",
      "|Argentina|     6|     DF|        FAZIO|       AS Roma (ITA)|   199|  85| 17| 03|1987|     1987-03-17|  null|\n",
      "|Argentina|     1|     GK|       GUZMÁN|   Tigres UANL (MEX)|   192|  90| 10| 02|1986|     1986-02-10|  null|\n",
      "|Argentina|    16|     DF|         ROJO|Manchester United...|   189|  82| 20| 03|1990|     1990-03-20|  null|\n",
      "|Argentina|    12|     GK|       ARMANI|CA River Plate (ARG)|   189|  85| 16| 10|1986|     1986-10-16|  null|\n",
      "|Argentina|    23|     GK|    CABALLERO|    Chelsea FC (ENG)|   186|  80| 28| 09|1981|     1981-09-28|  null|\n",
      "|Argentina|     9|     FW|      HIGUAÍN|   Juventus FC (ITA)|   184|  75| 10| 12|1987|     1987-12-10|   199|\n",
      "|Argentina|     4|     DF|      ANSALDI|     Torino FC (ITA)|   181|  73| 20| 09|1986|     1986-09-20|   192|\n",
      "|Argentina|     2|     DF|      MERCADO|    Sevilla FC (ESP)|   181|  81| 18| 03|1987|     1987-03-18|   189|\n",
      "|Argentina|    17|     DF|     OTAMENDI|Manchester City F...|   181|  81| 12| 02|1988|     1988-02-12|   189|\n",
      "|Argentina|    13|     MF|         MEZA|CA Independiente ...|   180|  76| 15| 12|1992|     1992-12-15|   186|\n",
      "|Argentina|    11|     MF|     DI MARÍA|Paris Saint-Germa...|   178|  75| 14| 02|1988|     1988-02-14|   184|\n",
      "|Argentina|    21|     FW|       DYBALA|   Juventus FC (ITA)|   177|  73| 15| 11|1993|     1993-11-15|   181|\n",
      "|Argentina|    20|     MF|     LO CELSO|Paris Saint-Germa...|   177|  75| 09| 04|1996|     1996-04-09|   181|\n",
      "|Argentina|     5|     MF|       BIGLIA|      AC Milan (ITA)|   175|  73| 30| 01|1986|     1986-01-30|   181|\n",
      "|Argentina|     7|     MF|       BANEGA|    Sevilla FC (ESP)|   175|  73| 29| 06|1988|     1988-06-29|   180|\n",
      "|Argentina|    14|     DF|   MASCHERANO|Hebei China Fortu...|   174|  73| 08| 06|1984|     1984-06-08|   178|\n",
      "|Argentina|    19|     FW|       AGÜERO|Manchester City F...|   172|  74| 02| 06|1988|     1988-06-02|   177|\n",
      "|Argentina|     8|     DF|        ACUÑA|   Sporting CP (POR)|   172|  77| 28| 10|1991|     1991-10-28|   177|\n",
      "|Argentina|    10|     FW|        MESSI|  FC Barcelona (ESP)|   170|  72| 24| 06|1987|     1987-06-24|   175|\n",
      "|Argentina|     3|     DF|   TAGLIAFICO|      AFC Ajax (NED)|   169|  65| 31| 08|1992|     1992-08-31|   175|\n",
      "|Argentina|    22|     MF|        PAVÓN|CA Boca Juniors (...|   169|  65| 21| 01|1996|     1996-01-21|   174|\n",
      "|Argentina|    15|     MF|      LANZINI|West Ham United F...|   167|  66| 15| 02|1993|     1993-02-15|   172|\n",
      "|Argentina|    18|     DF|       SALVIO|    SL Benfica (POR)|   167|  69| 13| 07|1990|     1990-07-13|   172|\n",
      "|Australia|    12|     GK|        JONES|Feyenoord Rotterd...|   193|  87| 19| 03|1982|     1982-03-19|  null|\n",
      "|Australia|     9|     FW|        JURIC|     FC Luzern (SUI)|   190|  80| 22| 07|1991|     1991-07-22|  null|\n",
      "|Australia|     6|     DF|       JURMAN|Suwon Samsung Blu...|   190|  83| 08| 12|1989|     1989-12-08|  null|\n",
      "|Australia|    23|     MF|        ROGIC|     Celtic FC (SCO)|   189|  88| 16| 12|1992|     1992-12-16|  null|\n",
      "|Australia|    15|     MF|      JEDINAK|Aston Villa FC (ENG)|   188|  78| 03| 08|1984|     1984-08-03|  null|\n",
      "|Australia|     2|     DF|      DEGENEK|Yokohama F-Marino...|   187|  85| 28| 04|1994|     1994-04-28|   193|\n",
      "|Australia|    18|     GK|      VUKOVIC|      KRC Genk (BEL)|   187|  94| 27| 03|1985|     1985-03-27|   190|\n",
      "|Australia|     1|     GK|         RYAN|Brighton & Hove A...|   184|  82| 08| 04|1992|     1992-04-08|   190|\n",
      "|Australia|    20|     DF|    SAINSBURY|Grasshopper Club ...|   183|  76| 05| 01|1992|     1992-01-05|   189|\n",
      "|Australia|     7|     FW|       LECKIE|    Hertha BSC (GER)|   181|  84| 04| 02|1991|     1991-02-04|   188|\n",
      "|Australia|    10|     FW|        KRUSE|    VfL Bochum (GER)|   180|  66| 05| 10|1988|     1988-10-05|   187|\n",
      "|Australia|     4|     FW|       CAHILL|   Millwall FC (ENG)|   180|  76| 06| 12|1979|     1979-12-06|   187|\n",
      "|Australia|    22|     MF|       IRVINE|  Hull City FC (ENG)|   180|  77| 07| 03|1993|     1993-03-07|   184|\n",
      "|Australia|     3|     DF|     MEREDITH|   Millwall FC (ENG)|   179|  71| 05| 04|1988|     1988-04-05|   183|\n",
      "|Australia|    14|     FW|     MACLAREN|  Hibernian FC (SCO)|   178|  72| 29| 07|1993|     1993-07-29|   181|\n",
      "|Australia|     5|     DF|     MILLIGAN|    Al Ahli SC (KSA)|   178|  78| 04| 08|1985|     1985-08-04|   180|\n",
      "|Australia|    11|     FW|      NABBOUT|    Urawa Reds (JPN)|   178|  85| 17| 12|1992|     1992-12-17|   180|\n",
      "|Australia|    21|     FW|     PETRATOS|Newcastle United ...|   176|  72| 10| 11|1992|     1992-11-10|   180|\n",
      "|Australia|     8|     MF|       LUONGO|Queens Park Range...|   176|  76| 25| 09|1992|     1992-09-25|   179|\n",
      "|Australia|    13|     MF|         MOOY|Huddersfield Town...|   173|  72| 15| 09|1990|     1990-09-15|   178|\n",
      "|Australia|    17|     FW|       ARZANI|Melbourne City FC...|   171|  73| 04| 01|1999|     1999-01-04|   178|\n",
      "|Australia|    16|     DF|       BEHICH|     Bursaspor (TUR)|   170|  63| 16| 12|1990|     1990-12-16|   178|\n",
      "|Australia|    19|     DF|       RISDON|WS Wanderers FC (...|   169|  70| 27| 07|1992|     1992-07-27|   176|\n",
      "|  Belgium|     1|     GK|     COURTOIS|    Chelsea FC (ENG)|   199|  91| 11| 05|1992|     1992-05-11|  null|\n",
      "|  Belgium|    13|     GK|     CASTEELS| VfL Wolfsburg (GER)|   197|  86| 25| 06|1992|     1992-06-25|  null|\n",
      "|  Belgium|     8|     MF|     FELLAINI|Manchester United...|   194|  85| 22| 11|1987|     1987-11-22|  null|\n",
      "|  Belgium|    12|     GK|     MIGNOLET|  Liverpool FC (ENG)|   193|  87| 06| 03|1988|     1988-03-06|  null|\n",
      "+---------+------+-------+-------------+--------------------+------+----+---+---+----+---------------+------+\n",
      "only showing top 50 rows\n",
      "\n"
     ]
    }
   ],
   "source": [
    "degrau = Window.partitionBy('Selecao').orderBy(desc(\"Altura\"))\n",
    "\n",
    "df.withColumn('degrau', lag('Altura', 5).over(degrau)).show(50)"
   ]
  },
  {
   "cell_type": "markdown",
   "id": "e9764d5b",
   "metadata": {},
   "source": [
    "##### Window Function 7 - Lead / Degrau - lead()"
   ]
  },
  {
   "cell_type": "code",
   "execution_count": 46,
   "id": "21dda9d7",
   "metadata": {},
   "outputs": [
    {
     "name": "stdout",
     "output_type": "stream",
     "text": [
      "+---------+------+-------+-------------+--------------------+------+----+---+---+----+---------------+------+\n",
      "|  Selecao|Numero|Posicao|Nome Camiseta|                Time|Altura|Peso|Dia|Mes| Ano|Data_Nascimento|degrau|\n",
      "+---------+------+-------+-------------+--------------------+------+----+---+---+----+---------------+------+\n",
      "|Argentina|     6|     DF|        FAZIO|       AS Roma (ITA)|   199|  85| 17| 03|1987|     1987-03-17|   192|\n",
      "|Argentina|     1|     GK|       GUZMÁN|   Tigres UANL (MEX)|   192|  90| 10| 02|1986|     1986-02-10|   189|\n",
      "|Argentina|    16|     DF|         ROJO|Manchester United...|   189|  82| 20| 03|1990|     1990-03-20|   189|\n",
      "|Argentina|    12|     GK|       ARMANI|CA River Plate (ARG)|   189|  85| 16| 10|1986|     1986-10-16|   186|\n",
      "|Argentina|    23|     GK|    CABALLERO|    Chelsea FC (ENG)|   186|  80| 28| 09|1981|     1981-09-28|   184|\n",
      "|Argentina|     9|     FW|      HIGUAÍN|   Juventus FC (ITA)|   184|  75| 10| 12|1987|     1987-12-10|   181|\n",
      "|Argentina|     4|     DF|      ANSALDI|     Torino FC (ITA)|   181|  73| 20| 09|1986|     1986-09-20|   181|\n",
      "|Argentina|     2|     DF|      MERCADO|    Sevilla FC (ESP)|   181|  81| 18| 03|1987|     1987-03-18|   181|\n",
      "|Argentina|    17|     DF|     OTAMENDI|Manchester City F...|   181|  81| 12| 02|1988|     1988-02-12|   180|\n",
      "|Argentina|    13|     MF|         MEZA|CA Independiente ...|   180|  76| 15| 12|1992|     1992-12-15|   178|\n",
      "|Argentina|    11|     MF|     DI MARÍA|Paris Saint-Germa...|   178|  75| 14| 02|1988|     1988-02-14|   177|\n",
      "|Argentina|    21|     FW|       DYBALA|   Juventus FC (ITA)|   177|  73| 15| 11|1993|     1993-11-15|   177|\n",
      "|Argentina|    20|     MF|     LO CELSO|Paris Saint-Germa...|   177|  75| 09| 04|1996|     1996-04-09|   175|\n",
      "|Argentina|     5|     MF|       BIGLIA|      AC Milan (ITA)|   175|  73| 30| 01|1986|     1986-01-30|   175|\n",
      "|Argentina|     7|     MF|       BANEGA|    Sevilla FC (ESP)|   175|  73| 29| 06|1988|     1988-06-29|   174|\n",
      "|Argentina|    14|     DF|   MASCHERANO|Hebei China Fortu...|   174|  73| 08| 06|1984|     1984-06-08|   172|\n",
      "|Argentina|    19|     FW|       AGÜERO|Manchester City F...|   172|  74| 02| 06|1988|     1988-06-02|   172|\n",
      "|Argentina|     8|     DF|        ACUÑA|   Sporting CP (POR)|   172|  77| 28| 10|1991|     1991-10-28|   170|\n",
      "|Argentina|    10|     FW|        MESSI|  FC Barcelona (ESP)|   170|  72| 24| 06|1987|     1987-06-24|   169|\n",
      "|Argentina|     3|     DF|   TAGLIAFICO|      AFC Ajax (NED)|   169|  65| 31| 08|1992|     1992-08-31|   169|\n",
      "|Argentina|    22|     MF|        PAVÓN|CA Boca Juniors (...|   169|  65| 21| 01|1996|     1996-01-21|   167|\n",
      "|Argentina|    15|     MF|      LANZINI|West Ham United F...|   167|  66| 15| 02|1993|     1993-02-15|   167|\n",
      "|Argentina|    18|     DF|       SALVIO|    SL Benfica (POR)|   167|  69| 13| 07|1990|     1990-07-13|  null|\n",
      "|Australia|    12|     GK|        JONES|Feyenoord Rotterd...|   193|  87| 19| 03|1982|     1982-03-19|   190|\n",
      "|Australia|     9|     FW|        JURIC|     FC Luzern (SUI)|   190|  80| 22| 07|1991|     1991-07-22|   190|\n",
      "|Australia|     6|     DF|       JURMAN|Suwon Samsung Blu...|   190|  83| 08| 12|1989|     1989-12-08|   189|\n",
      "|Australia|    23|     MF|        ROGIC|     Celtic FC (SCO)|   189|  88| 16| 12|1992|     1992-12-16|   188|\n",
      "|Australia|    15|     MF|      JEDINAK|Aston Villa FC (ENG)|   188|  78| 03| 08|1984|     1984-08-03|   187|\n",
      "|Australia|     2|     DF|      DEGENEK|Yokohama F-Marino...|   187|  85| 28| 04|1994|     1994-04-28|   187|\n",
      "|Australia|    18|     GK|      VUKOVIC|      KRC Genk (BEL)|   187|  94| 27| 03|1985|     1985-03-27|   184|\n",
      "|Australia|     1|     GK|         RYAN|Brighton & Hove A...|   184|  82| 08| 04|1992|     1992-04-08|   183|\n",
      "|Australia|    20|     DF|    SAINSBURY|Grasshopper Club ...|   183|  76| 05| 01|1992|     1992-01-05|   181|\n",
      "|Australia|     7|     FW|       LECKIE|    Hertha BSC (GER)|   181|  84| 04| 02|1991|     1991-02-04|   180|\n",
      "|Australia|    10|     FW|        KRUSE|    VfL Bochum (GER)|   180|  66| 05| 10|1988|     1988-10-05|   180|\n",
      "|Australia|     4|     FW|       CAHILL|   Millwall FC (ENG)|   180|  76| 06| 12|1979|     1979-12-06|   180|\n",
      "|Australia|    22|     MF|       IRVINE|  Hull City FC (ENG)|   180|  77| 07| 03|1993|     1993-03-07|   179|\n",
      "|Australia|     3|     DF|     MEREDITH|   Millwall FC (ENG)|   179|  71| 05| 04|1988|     1988-04-05|   178|\n",
      "|Australia|    14|     FW|     MACLAREN|  Hibernian FC (SCO)|   178|  72| 29| 07|1993|     1993-07-29|   178|\n",
      "|Australia|     5|     DF|     MILLIGAN|    Al Ahli SC (KSA)|   178|  78| 04| 08|1985|     1985-08-04|   178|\n",
      "|Australia|    11|     FW|      NABBOUT|    Urawa Reds (JPN)|   178|  85| 17| 12|1992|     1992-12-17|   176|\n",
      "|Australia|    21|     FW|     PETRATOS|Newcastle United ...|   176|  72| 10| 11|1992|     1992-11-10|   176|\n",
      "|Australia|     8|     MF|       LUONGO|Queens Park Range...|   176|  76| 25| 09|1992|     1992-09-25|   173|\n",
      "|Australia|    13|     MF|         MOOY|Huddersfield Town...|   173|  72| 15| 09|1990|     1990-09-15|   171|\n",
      "|Australia|    17|     FW|       ARZANI|Melbourne City FC...|   171|  73| 04| 01|1999|     1999-01-04|   170|\n",
      "|Australia|    16|     DF|       BEHICH|     Bursaspor (TUR)|   170|  63| 16| 12|1990|     1990-12-16|   169|\n",
      "|Australia|    19|     DF|       RISDON|WS Wanderers FC (...|   169|  70| 27| 07|1992|     1992-07-27|  null|\n",
      "|  Belgium|     1|     GK|     COURTOIS|    Chelsea FC (ENG)|   199|  91| 11| 05|1992|     1992-05-11|   197|\n",
      "|  Belgium|    13|     GK|     CASTEELS| VfL Wolfsburg (GER)|   197|  86| 25| 06|1992|     1992-06-25|   194|\n",
      "|  Belgium|     8|     MF|     FELLAINI|Manchester United...|   194|  85| 22| 11|1987|     1987-11-22|   193|\n",
      "|  Belgium|    12|     GK|     MIGNOLET|  Liverpool FC (ENG)|   193|  87| 06| 03|1988|     1988-03-06|   190|\n",
      "+---------+------+-------+-------------+--------------------+------+----+---+---+----+---------------+------+\n",
      "only showing top 50 rows\n",
      "\n"
     ]
    }
   ],
   "source": [
    "degrau = Window.partitionBy('Selecao').orderBy(desc(\"Altura\"))\n",
    "\n",
    "df.withColumn('degrau', lead('Altura').over(degrau)).show(50)"
   ]
  },
  {
   "cell_type": "markdown",
   "id": "20bcbe1d",
   "metadata": {},
   "source": [
    "#### Agregações"
   ]
  },
  {
   "cell_type": "markdown",
   "id": "ca9e61f9",
   "metadata": {},
   "source": [
    "##### GroupBy + AGG 1"
   ]
  },
  {
   "cell_type": "code",
   "execution_count": 54,
   "id": "f1848381",
   "metadata": {},
   "outputs": [
    {
     "name": "stdout",
     "output_type": "stream",
     "text": [
      "+--------------+------------------+\n",
      "|       Selecao|       avg(Altura)|\n",
      "+--------------+------------------+\n",
      "|        Serbia|186.69565217391303|\n",
      "|       Denmark| 186.6086956521739|\n",
      "|       Germany| 185.7826086956522|\n",
      "|        Sweden| 185.7391304347826|\n",
      "|       Iceland|185.52173913043478|\n",
      "|       Belgium|185.34782608695653|\n",
      "|       Croatia| 185.2608695652174|\n",
      "|       Nigeria|184.52173913043478|\n",
      "|       IR Iran|184.47826086956522|\n",
      "|        Russia| 184.3913043478261|\n",
      "|       Senegal|183.65217391304347|\n",
      "|        France|183.30434782608697|\n",
      "|        Poland|183.17391304347825|\n",
      "|       Tunisia|183.08695652173913|\n",
      "|   Switzerland|182.91304347826087|\n",
      "|       England| 182.7391304347826|\n",
      "|       Morocco|182.69565217391303|\n",
      "|        Panama|182.17391304347825|\n",
      "|Korea Republic| 181.8695652173913|\n",
      "|       Uruguay|181.04347826086956|\n",
      "|         Egypt|             181.0|\n",
      "|     Australia| 180.8695652173913|\n",
      "|        Brazil| 180.7826086956522|\n",
      "|      Colombia| 180.7826086956522|\n",
      "|    Costa Rica|180.69565217391303|\n",
      "|         Spain|179.91304347826087|\n",
      "|        Mexico| 179.7826086956522|\n",
      "|      Portugal| 179.7391304347826|\n",
      "|         Japan| 178.7826086956522|\n",
      "|     Argentina|178.43478260869566|\n",
      "|  Saudi Arabia|177.65217391304347|\n",
      "|          Peru| 177.6086956521739|\n",
      "+--------------+------------------+\n",
      "\n"
     ]
    }
   ],
   "source": [
    "df.groupBy('Selecao').agg({'Altura':'avg'}).orderBy('avg(Altura)', ascending=False).show(50)"
   ]
  },
  {
   "cell_type": "markdown",
   "id": "3bbe4951",
   "metadata": {},
   "source": [
    "##### GroupBy + AGG 2"
   ]
  },
  {
   "cell_type": "code",
   "execution_count": 57,
   "id": "6dcea37d",
   "metadata": {},
   "outputs": [
    {
     "name": "stdout",
     "output_type": "stream",
     "text": [
      "+--------------+-----------+\n",
      "|       Selecao|max(Altura)|\n",
      "+--------------+-----------+\n",
      "|       Croatia|        201|\n",
      "|       Denmark|        200|\n",
      "|     Argentina|        199|\n",
      "|       Belgium|        199|\n",
      "|        Sweden|        198|\n",
      "|       Iceland|        198|\n",
      "|        France|        197|\n",
      "|Korea Republic|        197|\n",
      "|       Nigeria|        197|\n",
      "|        Panama|        197|\n",
      "|       Senegal|        196|\n",
      "|        Russia|        196|\n",
      "|       Uruguay|        196|\n",
      "|       England|        196|\n",
      "|    Costa Rica|        196|\n",
      "|        Poland|        195|\n",
      "|        Serbia|        195|\n",
      "|        Brazil|        195|\n",
      "|       Germany|        195|\n",
      "|         Spain|        194|\n",
      "|         Egypt|        194|\n",
      "|      Colombia|        194|\n",
      "|       IR Iran|        194|\n",
      "|     Australia|        193|\n",
      "|   Switzerland|        192|\n",
      "|  Saudi Arabia|        192|\n",
      "|       Tunisia|        192|\n",
      "|      Portugal|        191|\n",
      "|       Morocco|        190|\n",
      "|        Mexico|        190|\n",
      "|          Peru|        189|\n",
      "|         Japan|        189|\n",
      "+--------------+-----------+\n",
      "\n"
     ]
    }
   ],
   "source": [
    "df.groupBy('Selecao').agg(max('Altura')).orderBy('max(Altura)', ascending=False).show(50)"
   ]
  },
  {
   "cell_type": "markdown",
   "id": "8a0e2789",
   "metadata": {},
   "source": [
    "##### Where"
   ]
  },
  {
   "cell_type": "code",
   "execution_count": 59,
   "id": "0a508a44",
   "metadata": {},
   "outputs": [
    {
     "name": "stdout",
     "output_type": "stream",
     "text": [
      "+-------+------+-------+-------------+--------------------+------+----+---+---+----+---------------+\n",
      "|Selecao|Numero|Posicao|Nome Camiseta|                Time|Altura|Peso|Dia|Mes| Ano|Data_Nascimento|\n",
      "+-------+------+-------+-------------+--------------------+------+----+---+---+----+---------------+\n",
      "| Brazil|    22|     DF|       FAGNER|SC Corinthians (BRA)|   168|  67| 11| 06|1989|     1989-06-11|\n",
      "| Brazil|     6|     DF|  FILIPE LUIS|Atletico Madrid (...|   182|  73| 09| 08|1985|     1985-08-09|\n",
      "| Brazil|    13|     DF|   MARQUINHOS|Paris Saint-Germa...|   183|  75| 14| 05|1994|     1994-05-14|\n",
      "| Brazil|     3|     DF|      MIRANDA|FC Internazionale...|   186|  78| 07| 09|1984|     1984-09-07|\n",
      "| Brazil|    14|     DF|       DANILO|Manchester City F...|   184|  78| 15| 07|1991|     1991-07-15|\n",
      "| Brazil|     2|     DF|     T. SILVA|Paris Saint-Germa...|   183|  79| 22| 09|1984|     1984-09-22|\n",
      "| Brazil|    12|     DF|      MARCELO|Real Madrid CF (ESP)|   174|  80| 12| 05|1988|     1988-05-12|\n",
      "| Brazil|     4|     DF|      GEROMEL|   Grêmio FBPA (BRA)|   190|  84| 21| 09|1985|     1985-09-21|\n",
      "+-------+------+-------+-------------+--------------------+------+----+---+---+----+---------------+\n",
      "\n"
     ]
    }
   ],
   "source": [
    "df.where('Selecao = \"Brazil\"').where('Posicao = \"DF\"').show(25)\n",
    "\n",
    "where((condicao 1) & | (condicao))"
   ]
  },
  {
   "cell_type": "code",
   "execution_count": 69,
   "id": "c483e823",
   "metadata": {},
   "outputs": [
    {
     "name": "stdout",
     "output_type": "stream",
     "text": [
      "+--------------+------+-------+-------------+--------------------+------+----+---+---+----+---------------+---+\n",
      "|       Selecao|Numero|Posicao|Nome Camiseta|                Time|Altura|Peso|Dia|Mes| Ano|Data_Nascimento|Top|\n",
      "+--------------+------+-------+-------------+--------------------+------+----+---+---+----+---------------+---+\n",
      "|     Argentina|     6|     DF|        FAZIO|       AS Roma (ITA)|   199|  85| 17| 03|1987|     1987-03-17|  1|\n",
      "|     Australia|    12|     GK|        JONES|Feyenoord Rotterd...|   193|  87| 19| 03|1982|     1982-03-19|  1|\n",
      "|       Belgium|     1|     GK|     COURTOIS|    Chelsea FC (ENG)|   199|  91| 11| 05|1992|     1992-05-11|  1|\n",
      "|        Brazil|    16|     GK|       CASSIO|SC Corinthians (BRA)|   195|  92| 06| 06|1987|     1987-06-06|  1|\n",
      "|      Colombia|    13|     DF|      Y. MINA|  FC Barcelona (ESP)|   194|  95| 23| 09|1994|     1994-09-23|  1|\n",
      "|    Costa Rica|    19|     DF|    K. WASTON|Vancouver Whiteca...|   196|  87| 01| 01|1988|     1988-01-01|  1|\n",
      "|       Croatia|    12|     GK|   L. KALINIĆ|      KAA Gent (BEL)|   201|  96| 03| 04|1990|     1990-04-03|  1|\n",
      "|       Denmark|     3|     DF|  VESTERGAARD|VfL Borussia Mönc...|   200|  98| 03| 08|1992|     1992-08-03|  1|\n",
      "|         Egypt|     6|     DF|    A. HEGAZY|West Bromwich Alb...|   194|  95| 25| 01|1991|     1991-01-25|  1|\n",
      "|       England|    13|     GK|      BUTLAND| Stoke City FC (ENG)|   196|  96| 10| 03|1993|     1993-03-10|  1|\n",
      "|        France|    15|     MF|       NZONZI|    Sevilla FC (ESP)|   197|  87| 15| 12|1988|     1988-12-15|  1|\n",
      "|       Germany|    15|     DF|         SÜLE|FC Bayern München...|   195|  89| 03| 09|1995|     1995-09-03|  1|\n",
      "|       IR Iran|     1|     GK|A. BEIRANVAND| Persepolis FC (IRN)|   194|  85| 21| 09|1992|     1992-09-21|  1|\n",
      "|       Iceland|    12|     GK|       SCHRAM|   Roskilde BK (DEN)|   198|  92| 19| 01|1995|     1995-01-19|  1|\n",
      "|         Japan|    22|     DF|      YOSHIDA|Southampton FC (ENG)|   189|  78| 24| 08|1988|     1988-08-24|  1|\n",
      "|Korea Republic|     9|     FW|      S W KIM|Jeonbuk Hyundai (...|   197|  97| 14| 04|1988|     1988-04-14|  1|\n",
      "|        Mexico|     5|     DF|     D. REYES|      FC Porto (POR)|   190|  77| 19| 09|1992|     1992-09-19|  1|\n",
      "|       Morocco|     6|     DF|        SAISS|Wolverhampton Wan...|   190|  76| 26| 03|1990|     1990-03-26|  1|\n",
      "|       Nigeria|    13|     FW|      NWANKWO|    FC Crotone (ITA)|   197|  89| 07| 05|1992|     1992-05-07|  1|\n",
      "|        Panama|    22|     GK|    RODRIGUEZ|San Francisco FC ...|   197|  83| 05| 08|1990|     1990-08-05|  1|\n",
      "|          Peru|     1|     GK|      GALLESE|CD Tiburones Rojo...|   189|  79| 23| 02|1990|     1990-02-23|  1|\n",
      "|        Poland|     1|     GK|     SZCZESNY|   Juventus FC (ITA)|   195|  84| 18| 04|1990|     1990-04-18|  1|\n",
      "|      Portugal|     6|     DF|        FONTE|Dalian Yifang FC ...|   191|  84| 22| 12|1983|     1983-12-22|  1|\n",
      "|        Russia|    22|     FW|       DZYUBA|FC Arsenal Tula (...|   196|  90| 22| 08|1988|     1988-08-22|  1|\n",
      "|  Saudi Arabia|    12|     MF|        KANNO|  Al Hilal SFC (KSA)|   192|  73| 22| 09|1994|     1994-09-22|  1|\n",
      "|       Senegal|    23|     GK|        GOMIS|  SPAL Ferrara (ITA)|   196|  80| 05| 09|1993|     1993-09-05|  1|\n",
      "|        Serbia|    15|     DF|   MILENKOVIĆ|ACF Fiorentina (ITA)|   195|  90| 12| 10|1997|     1997-10-12|  1|\n",
      "|         Spain|     3|     DF|        PIQUÉ|  FC Barcelona (ESP)|   194|  85| 02| 02|1987|     1987-02-02|  1|\n",
      "|        Sweden|     1|     GK|        OLSEN|  FC Kobenhavn (DEN)|   198|  89| 08| 01|1990|     1990-01-08|  1|\n",
      "|   Switzerland|    20|     DF|      DJOUROU|Antalyaspor AS (TUR)|   192|  90| 18| 01|1987|     1987-01-18|  1|\n",
      "|       Tunisia|     1|     GK| BEN MUSTAPHA|  Al Shabab FC (KSA)|   192|  85| 01| 07|1989|     1989-07-01|  1|\n",
      "|       Uruguay|    19|     DF|       COATES|   Sporting CP (POR)|   196|  89| 07| 10|1990|     1990-10-07|  1|\n",
      "+--------------+------+-------+-------------+--------------------+------+----+---+---+----+---------------+---+\n",
      "\n"
     ]
    }
   ],
   "source": [
    "top1 = Window.partitionBy('Selecao').orderBy(desc(\"Altura\"))\n",
    "\n",
    "df.withColumn('Top', row_number().over(top1)).filter('Top = \"1\"').show(50)"
   ]
  },
  {
   "cell_type": "markdown",
   "id": "5ec15f9d",
   "metadata": {},
   "source": [
    "##### Describe"
   ]
  },
  {
   "cell_type": "code",
   "execution_count": 60,
   "id": "21ec65e4",
   "metadata": {},
   "outputs": [
    {
     "name": "stdout",
     "output_type": "stream",
     "text": [
      "+-------+---------+-----------------+-------+-------------+--------------------+-----------------+-----------------+------------------+------------------+------------------+\n",
      "|summary|  Selecao|           Numero|Posicao|Nome Camiseta|                Time|           Altura|             Peso|               Dia|               Mes|               Ano|\n",
      "+-------+---------+-----------------+-------+-------------+--------------------+-----------------+-----------------+------------------+------------------+------------------+\n",
      "|  count|      736|              736|    736|          736|                 736|              736|              736|               736|               736|               736|\n",
      "|   mean|     null|             12.0|   null|         null|                null|182.4076086956522|77.18885869565217|15.793478260869565|5.8790760869565215| 1990.110054347826|\n",
      "| stddev|     null|6.637760461599851|   null|         null|                null|6.930924233929302|7.233778346883639| 8.761123828732469|3.3782493094684387|3.9074472063626775|\n",
      "|    min|Argentina|                1|     DF|    A. ASHRAF|    1. FC Köln (GER)|              165|               59|                01|                01|              1973|\n",
      "|    max|  Uruguay|               23|     MF|     ŽIVKOVIĆ|Étoile du Sahel (...|              201|               99|                31|                12|              1999|\n",
      "+-------+---------+-----------------+-------+-------------+--------------------+-----------------+-----------------+------------------+------------------+------------------+\n",
      "\n"
     ]
    }
   ],
   "source": [
    "df.describe().show()"
   ]
  },
  {
   "cell_type": "code",
   "execution_count": null,
   "id": "fa2cbd23",
   "metadata": {},
   "outputs": [],
   "source": [
    "+-------+---------+-----------------+-------+-------------+--------------------+-----------------+-----------------+------------------+------------------+------------------+\n",
    "|summary|  Selecao|           Numero|Posicao|Nome Camiseta|                Time|           Altura|             Peso|               Dia|               Mes|               Ano|\n",
    "+-------+---------+-----------------+-------+-------------+--------------------+-----------------+-----------------+------------------+------------------+------------------+\n",
    "|  count|      736|              736|    736|          736|                 736|              736|              736|               736|               736|               736|\n",
    "|   mean|     null|             12.0|   null|         null|                null|182.4076086956522|77.18885869565217|15.793478260869565|5.8790760869565215| 1990.110054347826|\n",
    "| stddev|     null|6.637760461599851|   null|         null|                null|6.930924233929302|7.233778346883639| 8.761123828732469|3.3782493094684387|3.9074472063626775|\n",
    "|    min|Argentina|                1|     DF|    A. ASHRAF|    1. FC Köln (GER)|              165|               59|                01|                01|              1973|\n",
    "|    max|  Uruguay|               23|     MF|     ŽIVKOVIĆ|Étoile du Sahel (...|              201|               99|                31|                12|              1999|\n",
    "+-------+---------+-----------------+-------+-------------+--------------------+-----------------+-----------------+------------------+------------------+------------------+"
   ]
  },
  {
   "cell_type": "code",
   "execution_count": 61,
   "id": "e63a1c07",
   "metadata": {},
   "outputs": [
    {
     "name": "stdout",
     "output_type": "stream",
     "text": [
      "+-------+-------+-----------------+-------+-------------+--------------------+-----------------+-----------------+-----------------+-----------------+-----------------+\n",
      "|summary|Selecao|           Numero|Posicao|Nome Camiseta|                Time|           Altura|             Peso|              Dia|              Mes|              Ano|\n",
      "+-------+-------+-----------------+-------+-------------+--------------------+-----------------+-----------------+-----------------+-----------------+-----------------+\n",
      "|  count|     23|               23|     23|           23|                  23|               23|               23|               23|               23|               23|\n",
      "|   mean|   null|             12.0|   null|         null|                null|180.7826086956522|76.56521739130434|11.26086956521739|6.130434782608695|1989.391304347826|\n",
      "| stddev|   null|6.782329983125267|   null|         null|                null|7.354383490255254|8.239737898283606|6.876953549252538|2.784769418006175|3.499858833968506|\n",
      "|    min| Brazil|                1|     DF|    A. BECKER|       AS Roma (ITA)|              168|               64|               02|               01|             1984|\n",
      "|    max| Brazil|               23|     MF|      WILLIAN|SC Corinthians (BRA)|              195|               92|               25|               10|             1997|\n",
      "+-------+-------+-----------------+-------+-------------+--------------------+-----------------+-----------------+-----------------+-----------------+-----------------+\n",
      "\n"
     ]
    }
   ],
   "source": [
    "df.where('Selecao = \"Brazil\"').describe().show()"
   ]
  },
  {
   "cell_type": "code",
   "execution_count": null,
   "id": "46535c99",
   "metadata": {},
   "outputs": [],
   "source": [
    "+-------+-------+-----------------+-------+-------------+--------------------+-----------------+-----------------+-----------------+-----------------+-----------------+\n",
    "|summary|Selecao|           Numero|Posicao|Nome Camiseta|                Time|           Altura|             Peso|              Dia|              Mes|              Ano|\n",
    "+-------+-------+-----------------+-------+-------------+--------------------+-----------------+-----------------+-----------------+-----------------+-----------------+\n",
    "|  count|     23|               23|     23|           23|                  23|               23|               23|               23|               23|               23|\n",
    "|   mean|   null|             12.0|   null|         null|                null|180.7826086956522|76.56521739130434|11.26086956521739|6.130434782608695|1989.391304347826|\n",
    "| stddev|   null|6.782329983125267|   null|         null|                null|7.354383490255254|8.239737898283606|6.876953549252538|2.784769418006175|3.499858833968506|\n",
    "|    min| Brazil|                1|     DF|    A. BECKER|       AS Roma (ITA)|              168|               64|               02|               01|             1984|\n",
    "|    max| Brazil|               23|     MF|      WILLIAN|SC Corinthians (BRA)|              195|               92|               25|               10|             1997|\n",
    "+-------+-------+-----------------+-------+-------------+--------------------+-----------------+-----------------+-----------------+-----------------+-----------------+"
   ]
  },
  {
   "cell_type": "markdown",
   "id": "7183bd0c",
   "metadata": {},
   "source": [
    "##### Window Function 8 - Função de agregação usando Window Function"
   ]
  },
  {
   "cell_type": "code",
   "execution_count": 65,
   "id": "db59a787",
   "metadata": {},
   "outputs": [
    {
     "name": "stdout",
     "output_type": "stream",
     "text": [
      "+--------------+------------------+---+---+\n",
      "|       Selecao|             media|max|min|\n",
      "+--------------+------------------+---+---+\n",
      "|        Serbia|186.69565217391303|195|169|\n",
      "|       Denmark| 186.6086956521739|200|171|\n",
      "|       Germany| 185.7826086956522|195|176|\n",
      "|        Sweden| 185.7391304347826|198|177|\n",
      "|       Iceland|185.52173913043478|198|170|\n",
      "|       Belgium|185.34782608695653|199|169|\n",
      "|       Croatia| 185.2608695652174|201|172|\n",
      "|       Nigeria|184.52173913043478|197|172|\n",
      "|       IR Iran|184.47826086956522|194|177|\n",
      "|        Russia| 184.3913043478261|196|173|\n",
      "|       Senegal|183.65217391304347|196|173|\n",
      "|        France|183.30434782608697|197|168|\n",
      "|        Poland|183.17391304347825|195|172|\n",
      "|       Tunisia|183.08695652173913|192|170|\n",
      "|   Switzerland|182.91304347826087|192|165|\n",
      "|       England| 182.7391304347826|196|170|\n",
      "|       Morocco|182.69565217391303|190|167|\n",
      "|        Panama|182.17391304347825|197|165|\n",
      "|Korea Republic| 181.8695652173913|197|170|\n",
      "|       Uruguay|181.04347826086956|196|168|\n",
      "|         Egypt|             181.0|194|169|\n",
      "|     Australia| 180.8695652173913|193|169|\n",
      "|        Brazil| 180.7826086956522|195|168|\n",
      "|      Colombia| 180.7826086956522|194|169|\n",
      "|    Costa Rica|180.69565217391303|196|172|\n",
      "|         Spain|179.91304347826087|194|170|\n",
      "|        Mexico| 179.7826086956522|190|166|\n",
      "|      Portugal| 179.7391304347826|191|168|\n",
      "|         Japan| 178.7826086956522|189|168|\n",
      "|     Argentina|178.43478260869566|199|167|\n",
      "|  Saudi Arabia|177.65217391304347|192|165|\n",
      "|          Peru| 177.6086956521739|189|169|\n",
      "+--------------+------------------+---+---+\n",
      "\n"
     ]
    }
   ],
   "source": [
    "parametro = Window.partitionBy('Selecao').orderBy(desc(\"Altura\"))\n",
    "parametro2 = Window.partitionBy('Selecao')\n",
    "\n",
    "df.withColumn('linhax', row_number().over(parametro))\\\n",
    "\\\n",
    ".withColumn('media', avg('Altura').over(parametro2))\\\n",
    ".withColumn('max', max('Altura').over(parametro2))\\\n",
    ".withColumn('min', min('Altura').over(parametro2))\\\n",
    ".filter('linhax = \"1\"').select('Selecao', 'media', 'max', 'min')\\\n",
    ".orderBy('media', ascending=False).show(50)"
   ]
  },
  {
   "cell_type": "code",
   "execution_count": null,
   "id": "7041f6d4",
   "metadata": {},
   "outputs": [],
   "source": [
    "+--------------+------+-------+-------------+--------------------+------+----+---+---+----+---------------+------+------------------+---+---+\n",
    "|       Selecao|Numero|Posicao|Nome Camiseta|                Time|Altura|Peso|Dia|Mes| Ano|Data_Nascimento|linhax|             media|max|min|\n",
    "+--------------+------+-------+-------------+--------------------+------+----+---+---+----+---------------+------+------------------+---+---+\n",
    "|        Serbia|    15|     DF|   MILENKOVIĆ|ACF Fiorentina (ITA)|   195|  90| 12| 10|1997|     1997-10-12|     1|186.69565217391303|195|169|\n",
    "|       Denmark|     3|     DF|  VESTERGAARD|VfL Borussia Mönc...|   200|  98| 03| 08|1992|     1992-08-03|     1| 186.6086956521739|200|171|\n",
    "|       Germany|    15|     DF|         SÜLE|FC Bayern München...|   195|  89| 03| 09|1995|     1995-09-03|     1| 185.7826086956522|195|176|\n",
    "|        Sweden|     1|     GK|        OLSEN|  FC Kobenhavn (DEN)|   198|  89| 08| 01|1990|     1990-01-08|     1| 185.7391304347826|198|177|\n",
    "|       Iceland|    12|     GK|       SCHRAM|   Roskilde BK (DEN)|   198|  92| 19| 01|1995|     1995-01-19|     1|185.52173913043478|198|170|\n",
    "|       Belgium|     1|     GK|     COURTOIS|    Chelsea FC (ENG)|   199|  91| 11| 05|1992|     1992-05-11|     1|185.34782608695653|199|169|\n",
    "|       Croatia|    12|     GK|   L. KALINIĆ|      KAA Gent (BEL)|   201|  96| 03| 04|1990|     1990-04-03|     1| 185.2608695652174|201|172|\n",
    "|       Nigeria|    13|     FW|      NWANKWO|    FC Crotone (ITA)|   197|  89| 07| 05|1992|     1992-05-07|     1|184.52173913043478|197|172|\n",
    "|       IR Iran|     1|     GK|A. BEIRANVAND| Persepolis FC (IRN)|   194|  85| 21| 09|1992|     1992-09-21|     1|184.47826086956522|194|177|\n",
    "|        Russia|    22|     FW|       DZYUBA|FC Arsenal Tula (...|   196|  90| 22| 08|1988|     1988-08-22|     1| 184.3913043478261|196|173|\n",
    "|       Senegal|    23|     GK|        GOMIS|  SPAL Ferrara (ITA)|   196|  80| 05| 09|1993|     1993-09-05|     1|183.65217391304347|196|173|\n",
    "|        France|    15|     MF|       NZONZI|    Sevilla FC (ESP)|   197|  87| 15| 12|1988|     1988-12-15|     1|183.30434782608697|197|168|\n",
    "|        Poland|     1|     GK|     SZCZESNY|   Juventus FC (ITA)|   195|  84| 18| 04|1990|     1990-04-18|     1|183.17391304347825|195|172|\n",
    "|       Tunisia|     1|     GK| BEN MUSTAPHA|  Al Shabab FC (KSA)|   192|  85| 01| 07|1989|     1989-07-01|     1|183.08695652173913|192|170|\n",
    "|   Switzerland|    20|     DF|      DJOUROU|Antalyaspor AS (TUR)|   192|  90| 18| 01|1987|     1987-01-18|     1|182.91304347826087|192|165|\n",
    "|       England|    13|     GK|      BUTLAND| Stoke City FC (ENG)|   196|  96| 10| 03|1993|     1993-03-10|     1| 182.7391304347826|196|170|\n",
    "|       Morocco|     6|     DF|        SAISS|Wolverhampton Wan...|   190|  76| 26| 03|1990|     1990-03-26|     1|182.69565217391303|190|167|\n",
    "|        Panama|    22|     GK|    RODRIGUEZ|San Francisco FC ...|   197|  83| 05| 08|1990|     1990-08-05|     1|182.17391304347825|197|165|\n",
    "|Korea Republic|     9|     FW|      S W KIM|Jeonbuk Hyundai (...|   197|  97| 14| 04|1988|     1988-04-14|     1| 181.8695652173913|197|170|\n",
    "|       Uruguay|    19|     DF|       COATES|   Sporting CP (POR)|   196|  89| 07| 10|1990|     1990-10-07|     1|181.04347826086956|196|168|\n",
    "|         Egypt|     6|     DF|    A. HEGAZY|West Bromwich Alb...|   194|  95| 25| 01|1991|     1991-01-25|     1|             181.0|194|169|\n",
    "|     Australia|    12|     GK|        JONES|Feyenoord Rotterd...|   193|  87| 19| 03|1982|     1982-03-19|     1| 180.8695652173913|193|169|\n",
    "|        Brazil|    16|     GK|       CASSIO|SC Corinthians (BRA)|   195|  92| 06| 06|1987|     1987-06-06|     1| 180.7826086956522|195|168|\n",
    "|      Colombia|    13|     DF|      Y. MINA|  FC Barcelona (ESP)|   194|  95| 23| 09|1994|     1994-09-23|     1| 180.7826086956522|194|169|\n",
    "|    Costa Rica|    19|     DF|    K. WASTON|Vancouver Whiteca...|   196|  87| 01| 01|1988|     1988-01-01|     1|180.69565217391303|196|172|\n",
    "|         Spain|     3|     DF|        PIQUÉ|  FC Barcelona (ESP)|   194|  85| 02| 02|1987|     1987-02-02|     1|179.91304347826087|194|170|\n",
    "|        Mexico|     5|     DF|     D. REYES|      FC Porto (POR)|   190|  77| 19| 09|1992|     1992-09-19|     1| 179.7826086956522|190|166|\n",
    "|      Portugal|     6|     DF|        FONTE|Dalian Yifang FC ...|   191|  84| 22| 12|1983|     1983-12-22|     1| 179.7391304347826|191|168|\n",
    "|         Japan|    22|     DF|      YOSHIDA|Southampton FC (ENG)|   189|  78| 24| 08|1988|     1988-08-24|     1| 178.7826086956522|189|168|\n",
    "|     Argentina|     6|     DF|        FAZIO|       AS Roma (ITA)|   199|  85| 17| 03|1987|     1987-03-17|     1|178.43478260869566|199|167|\n",
    "|  Saudi Arabia|    12|     MF|        KANNO|  Al Hilal SFC (KSA)|   192|  73| 22| 09|1994|     1994-09-22|     1|177.65217391304347|192|165|\n",
    "|          Peru|     1|     GK|      GALLESE|CD Tiburones Rojo...|   189|  79| 23| 02|1990|     1990-02-23|     1| 177.6086956521739|189|169|\n",
    "+--------------+------+-------+-------------+--------------------+------+----+---+---+----+---------------+------+------------------+---+---+"
   ]
  },
  {
   "cell_type": "code",
   "execution_count": 66,
   "id": "dc09668b",
   "metadata": {},
   "outputs": [
    {
     "data": {
      "text/plain": [
       "<pyspark.sql.window.WindowSpec at 0x14aa7cb5160>"
      ]
     },
     "execution_count": 66,
     "metadata": {},
     "output_type": "execute_result"
    }
   ],
   "source": [
    "parametro = Window.partitionBy('Selecao').orderBy(desc(\"Altura\"))\n",
    "parametro2 = Window.partitionBy('Selecao')\n",
    "\n",
    "df.withColumn('linhax', row_number().over(parametro))\\\n",
    "\\\n",
    ".withColumn('media', avg('Altura').over(parametro2))\\\n",
    ".withColumn('max', max('Altura').over(parametro2))\\\n",
    ".withColumn('min', min('Altura').over(parametro2))\\\n",
    ".filter('linhax = \"1\"').select('Selecao', 'media', 'max', 'min')\\\n",
    ".orderBy('media', ascending=False).show(50)"
   ]
  },
  {
   "cell_type": "code",
   "execution_count": null,
   "id": "0a5d8b38",
   "metadata": {},
   "outputs": [],
   "source": []
  }
 ],
 "metadata": {
  "kernelspec": {
   "display_name": "Python 3 (ipykernel)",
   "language": "python",
   "name": "python3"
  },
  "language_info": {
   "codemirror_mode": {
    "name": "ipython",
    "version": 3
   },
   "file_extension": ".py",
   "mimetype": "text/x-python",
   "name": "python",
   "nbconvert_exporter": "python",
   "pygments_lexer": "ipython3",
   "version": "3.9.7"
  }
 },
 "nbformat": 4,
 "nbformat_minor": 5
}
