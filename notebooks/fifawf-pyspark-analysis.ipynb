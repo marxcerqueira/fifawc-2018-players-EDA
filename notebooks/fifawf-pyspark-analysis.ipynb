{
 "cells": [
  {
   "cell_type": "markdown",
   "id": "a636f7b2",
   "metadata": {},
   "source": [
    "**Fifa World Cup 2018 Players Exploratory Data Analysis with PySpark**"
   ]
  },
  {
   "cell_type": "markdown",
   "id": "29a61cce",
   "metadata": {
    "ExecuteTime": {
     "end_time": "2022-06-06T15:54:38.108686Z",
     "start_time": "2022-06-06T15:54:38.106649Z"
    }
   },
   "source": [
    "# Imports"
   ]
  },
  {
   "cell_type": "code",
   "execution_count": 1,
   "id": "0316c576",
   "metadata": {
    "ExecuteTime": {
     "end_time": "2022-06-06T21:28:07.892086Z",
     "start_time": "2022-06-06T21:28:06.765412Z"
    }
   },
   "outputs": [],
   "source": [
    "import pyspark\n",
    "from pyspark.sql           import SparkSession\n",
    "from pyspark.sql.functions import *\n",
    "from pyspark.sql.types     import *\n",
    "from pyspark.sql           import SQLContext\n",
    "\n",
    "\n",
    "import seaborn as sns\n",
    "import pandas  as pd\n",
    "\n",
    "from IPython.core.display    import HTML\n",
    "from IPython.display         import Image"
   ]
  },
  {
   "cell_type": "markdown",
   "id": "bfa80aa4",
   "metadata": {},
   "source": [
    "## Helper Functions/Variables"
   ]
  },
  {
   "cell_type": "code",
   "execution_count": 2,
   "id": "826e0e95",
   "metadata": {
    "ExecuteTime": {
     "end_time": "2022-06-06T21:28:09.244529Z",
     "start_time": "2022-06-06T21:28:09.234027Z"
    },
    "code_folding": [
     1,
     4
    ]
   },
   "outputs": [],
   "source": [
    "# function to show dataframe dimensions\n",
    "def sparkShape(dataFrame):\n",
    "    return (dataFrame.count(), len(dataFrame.columns))\n",
    "\n",
    "# functions to change jupyter html for better reading and plots\n",
    "def jupyter_settings():\n",
    "    %matplotlib inline\n",
    "    %pylab inline\n",
    "    \n",
    "    plt.style.use( 'bmh' )\n",
    "    plt.rcParams['figure.figsize'] = [25, 12]\n",
    "    plt.rcParams['font.size'] = 24\n",
    "    \n",
    "    display( HTML( '<style>.container { width:100% !important; }</style>') )\n",
    "    pd.options.display.max_columns = None\n",
    "    pd.options.display.max_rows = None\n",
    "    pd.set_option( 'display.expand_frame_repr', False )\n",
    "    \n",
    "    sns.set()"
   ]
  },
  {
   "cell_type": "code",
   "execution_count": 3,
   "id": "e8a119dd",
   "metadata": {
    "ExecuteTime": {
     "end_time": "2022-06-06T21:28:11.407451Z",
     "start_time": "2022-06-06T21:28:11.398423Z"
    }
   },
   "outputs": [],
   "source": [
    "# Creating/Initiating Spark Session\n",
    "# SpakSession: it's useed to work with Spark\n",
    "spSession = (SparkSession.builder.master('local')\n",
    "                                .appName('fifa_analytics_01')\n",
    "                                .getOrCreate()\n",
    "            )"
   ]
  },
  {
   "cell_type": "code",
   "execution_count": 4,
   "id": "1664bbbc",
   "metadata": {
    "ExecuteTime": {
     "end_time": "2022-06-06T21:28:12.867365Z",
     "start_time": "2022-06-06T21:28:12.865629Z"
    }
   },
   "outputs": [],
   "source": [
    "# home path\n",
    "home_path = '/home/marxcerqueira/repos/fifawc-2018-players-EDA'"
   ]
  },
  {
   "cell_type": "code",
   "execution_count": 5,
   "id": "b85f20a4",
   "metadata": {
    "ExecuteTime": {
     "end_time": "2022-06-06T21:28:14.581788Z",
     "start_time": "2022-06-06T21:28:14.567034Z"
    },
    "scrolled": true
   },
   "outputs": [
    {
     "data": {
      "text/html": [
       "\n",
       "            <div>\n",
       "                <p><b>SparkSession - hive</b></p>\n",
       "                \n",
       "        <div>\n",
       "            <p><b>SparkContext</b></p>\n",
       "\n",
       "            <p><a href=\"http://192.168.15.5:4040\">Spark UI</a></p>\n",
       "\n",
       "            <dl>\n",
       "              <dt>Version</dt>\n",
       "                <dd><code>v3.0.3</code></dd>\n",
       "              <dt>Master</dt>\n",
       "                <dd><code>local[*]</code></dd>\n",
       "              <dt>AppName</dt>\n",
       "                <dd><code>PySparkShell</code></dd>\n",
       "            </dl>\n",
       "        </div>\n",
       "        \n",
       "            </div>\n",
       "        "
      ],
      "text/plain": [
       "<pyspark.sql.session.SparkSession at 0x7fb8a4fa3130>"
      ]
     },
     "execution_count": 5,
     "metadata": {},
     "output_type": "execute_result"
    }
   ],
   "source": [
    "spSession"
   ]
  },
  {
   "cell_type": "code",
   "execution_count": 7,
   "id": "46ccdd49",
   "metadata": {
    "ExecuteTime": {
     "end_time": "2022-06-06T21:28:23.484736Z",
     "start_time": "2022-06-06T21:28:23.470110Z"
    }
   },
   "outputs": [
    {
     "name": "stdout",
     "output_type": "stream",
     "text": [
      "%pylab is deprecated, use %matplotlib inline and import the required libraries.\n",
      "Populating the interactive namespace from numpy and matplotlib\n"
     ]
    },
    {
     "data": {
      "text/html": [
       "<style>.container { width:100% !important; }</style>"
      ],
      "text/plain": [
       "<IPython.core.display.HTML object>"
      ]
     },
     "metadata": {},
     "output_type": "display_data"
    }
   ],
   "source": [
    "jupyter_settings()"
   ]
  },
  {
   "cell_type": "markdown",
   "id": "b0218658",
   "metadata": {},
   "source": [
    "# Loading Data"
   ]
  },
  {
   "cell_type": "markdown",
   "id": "9027190c",
   "metadata": {},
   "source": [
    "**Context**\n",
    "The 2018 World Cup is an international football tournament.\n",
    "\n",
    "**Data**\n",
    "Confirmed list of FIFA 2018 World Cup players by country\n",
    "\n",
    "**Acknowledgements**\n",
    "Source: https://img.fifa.com/image/upload/hzfqyndmnqazczvc5xdb.pdf\n",
    "\n",
    "Banner Image: https://unsplash.com/photos/ChI4eUGTpeY\n",
    "\n",
    "Inspiration\n",
    "Who will the best team be in the 2018 World Cup?"
   ]
  },
  {
   "cell_type": "markdown",
   "id": "6ead0c06",
   "metadata": {},
   "source": [
    "**Notes:**\n",
    "- With Spark 2.0 a new class org.apache.spark.sql.SparkSession has been introduced which is a combined class for all different contexts we used to have prior to 2.0 release hence SparkSession will be used in replace with SQLContext, HiveContext."
   ]
  },
  {
   "cell_type": "code",
   "execution_count": 8,
   "id": "3e50f4fd",
   "metadata": {
    "ExecuteTime": {
     "end_time": "2022-06-06T21:28:37.332978Z",
     "start_time": "2022-06-06T21:28:34.814199Z"
    }
   },
   "outputs": [],
   "source": [
    "#loading trainig data and creating a RDD in memory with Spark\n",
    "df = spSession.read.csv(home_path + '/data/wc2018-players.csv', header=True, inferSchema=True)"
   ]
  },
  {
   "cell_type": "code",
   "execution_count": 9,
   "id": "ca962100",
   "metadata": {
    "ExecuteTime": {
     "end_time": "2022-06-06T21:28:38.752805Z",
     "start_time": "2022-06-06T21:28:38.583959Z"
    }
   },
   "outputs": [],
   "source": [
    "#creating Spark SQL Context to work with SQL\n",
    "sqlContext = SQLContext(sc)\n",
    "teste = sqlContext.read.csv(home_path + '/data/wc2018-players.csv', header=True, inferSchema=True)"
   ]
  },
  {
   "cell_type": "code",
   "execution_count": 10,
   "id": "cd5d054f",
   "metadata": {
    "ExecuteTime": {
     "end_time": "2022-06-06T21:28:39.985029Z",
     "start_time": "2022-06-06T21:28:39.980835Z"
    }
   },
   "outputs": [
    {
     "data": {
      "text/plain": [
       "pyspark.sql.dataframe.DataFrame"
      ]
     },
     "execution_count": 10,
     "metadata": {},
     "output_type": "execute_result"
    }
   ],
   "source": [
    "type(teste)"
   ]
  },
  {
   "cell_type": "code",
   "execution_count": 11,
   "id": "34ac09cc",
   "metadata": {
    "ExecuteTime": {
     "end_time": "2022-06-06T21:28:40.990728Z",
     "start_time": "2022-06-06T21:28:40.988053Z"
    }
   },
   "outputs": [
    {
     "data": {
      "text/plain": [
       "pyspark.sql.dataframe.DataFrame"
      ]
     },
     "execution_count": 11,
     "metadata": {},
     "output_type": "execute_result"
    }
   ],
   "source": [
    "#check df type\n",
    "type(df)"
   ]
  },
  {
   "cell_type": "code",
   "execution_count": 12,
   "id": "18ef0c5a",
   "metadata": {
    "ExecuteTime": {
     "end_time": "2022-06-06T21:28:42.681723Z",
     "start_time": "2022-06-06T21:28:42.486118Z"
    },
    "scrolled": true
   },
   "outputs": [
    {
     "name": "stdout",
     "output_type": "stream",
     "text": [
      "+---------+---+----+------------------+----------+----------+--------------------+------+------+\n",
      "|     Team|  #|Pos.| FIFA Popular Name|Birth Date|Shirt Name|                Club|Height|Weight|\n",
      "+---------+---+----+------------------+----------+----------+--------------------+------+------+\n",
      "|Argentina|  3|  DF|TAGLIAFICO Nicolas|31.08.1992|TAGLIAFICO|      AFC Ajax (NED)|   169|    65|\n",
      "|Argentina| 22|  MF|    PAVON Cristian|21.01.1996|     PAVÓN|CA Boca Juniors (...|   169|    65|\n",
      "|Argentina| 15|  MF|    LANZINI Manuel|15.02.1993|   LANZINI|West Ham United F...|   167|    66|\n",
      "|Argentina| 18|  DF|    SALVIO Eduardo|13.07.1990|    SALVIO|    SL Benfica (POR)|   167|    69|\n",
      "|Argentina| 10|  FW|      MESSI Lionel|24.06.1987|     MESSI|  FC Barcelona (ESP)|   170|    72|\n",
      "+---------+---+----+------------------+----------+----------+--------------------+------+------+\n",
      "only showing top 5 rows\n",
      "\n"
     ]
    }
   ],
   "source": [
    "# display 5 firsts rows of the dataframe\n",
    "df.show(5)"
   ]
  },
  {
   "cell_type": "code",
   "execution_count": 13,
   "id": "2f16694f",
   "metadata": {
    "ExecuteTime": {
     "end_time": "2022-06-06T21:28:44.746136Z",
     "start_time": "2022-06-06T21:28:44.663504Z"
    }
   },
   "outputs": [
    {
     "name": "stdout",
     "output_type": "stream",
     "text": [
      "+---------+---+----+------------------+----------+----------+--------------------+------+------+\n",
      "|     Team|  #|Pos.| FIFA Popular Name|Birth Date|Shirt Name|                Club|Height|Weight|\n",
      "+---------+---+----+------------------+----------+----------+--------------------+------+------+\n",
      "|Argentina|  3|  DF|TAGLIAFICO Nicolas|31.08.1992|TAGLIAFICO|      AFC Ajax (NED)|   169|    65|\n",
      "|Argentina| 22|  MF|    PAVON Cristian|21.01.1996|     PAVÓN|CA Boca Juniors (...|   169|    65|\n",
      "|Argentina| 15|  MF|    LANZINI Manuel|15.02.1993|   LANZINI|West Ham United F...|   167|    66|\n",
      "|Argentina| 18|  DF|    SALVIO Eduardo|13.07.1990|    SALVIO|    SL Benfica (POR)|   167|    69|\n",
      "|Argentina| 10|  FW|      MESSI Lionel|24.06.1987|     MESSI|  FC Barcelona (ESP)|   170|    72|\n",
      "+---------+---+----+------------------+----------+----------+--------------------+------+------+\n",
      "only showing top 5 rows\n",
      "\n"
     ]
    }
   ],
   "source": [
    "teste.show(5)"
   ]
  },
  {
   "cell_type": "markdown",
   "id": "f223e4e5",
   "metadata": {
    "ExecuteTime": {
     "end_time": "2022-06-06T16:14:53.310750Z",
     "start_time": "2022-06-06T16:14:53.308991Z"
    }
   },
   "source": [
    "# Data Description"
   ]
  },
  {
   "cell_type": "markdown",
   "id": "1abb7c90",
   "metadata": {},
   "source": [
    "## Rename Columns"
   ]
  },
  {
   "cell_type": "code",
   "execution_count": 14,
   "id": "f8845d35",
   "metadata": {
    "ExecuteTime": {
     "end_time": "2022-06-06T21:28:50.249110Z",
     "start_time": "2022-06-06T21:28:50.199235Z"
    }
   },
   "outputs": [],
   "source": [
    "# rename columns\n",
    "df = df.withColumnRenamed('Team', 'team')\\\n",
    ".withColumnRenamed('#', 'jersey_number')\\\n",
    ".withColumnRenamed('Pos.', 'position')\\\n",
    ".withColumnRenamed('FIFA Popular Name', 'players_name')\\\n",
    ".withColumnRenamed('Birth Date', 'birth_date')\\\n",
    ".withColumnRenamed('Shirt Name', 'jersey_name')\\\n",
    ".withColumnRenamed('Club', 'club')\\\n",
    ".withColumnRenamed('Height', 'height')\\\n",
    ".withColumnRenamed('Weight', 'weight')"
   ]
  },
  {
   "cell_type": "markdown",
   "id": "04c91fd4",
   "metadata": {},
   "source": [
    "## Data Dimension"
   ]
  },
  {
   "cell_type": "code",
   "execution_count": 15,
   "id": "a14c4837",
   "metadata": {
    "ExecuteTime": {
     "end_time": "2022-06-06T21:28:55.174262Z",
     "start_time": "2022-06-06T21:28:54.889112Z"
    }
   },
   "outputs": [
    {
     "data": {
      "text/plain": [
       "(736, 9)"
      ]
     },
     "execution_count": 15,
     "metadata": {},
     "output_type": "execute_result"
    }
   ],
   "source": [
    "# dataframe dimensions\n",
    "pyspark.sql.dataframe.DataFrame.shape = sparkShape\n",
    "df.shape()"
   ]
  },
  {
   "cell_type": "code",
   "execution_count": 16,
   "id": "add358ee",
   "metadata": {
    "ExecuteTime": {
     "end_time": "2022-06-06T21:28:56.347761Z",
     "start_time": "2022-06-06T21:28:56.236560Z"
    }
   },
   "outputs": [
    {
     "data": {
      "text/plain": [
       "(736, 9)"
      ]
     },
     "execution_count": 16,
     "metadata": {},
     "output_type": "execute_result"
    }
   ],
   "source": [
    "sparkShape(df)"
   ]
  },
  {
   "cell_type": "markdown",
   "id": "d4b214de",
   "metadata": {},
   "source": [
    "## Data Types"
   ]
  },
  {
   "cell_type": "code",
   "execution_count": 17,
   "id": "7ac6339b",
   "metadata": {
    "ExecuteTime": {
     "end_time": "2022-06-06T21:29:13.797625Z",
     "start_time": "2022-06-06T21:29:13.789926Z"
    },
    "scrolled": true
   },
   "outputs": [
    {
     "name": "stdout",
     "output_type": "stream",
     "text": [
      "root\n",
      " |-- team: string (nullable = true)\n",
      " |-- jersey_number: integer (nullable = true)\n",
      " |-- position: string (nullable = true)\n",
      " |-- players_name: string (nullable = true)\n",
      " |-- birth_date: string (nullable = true)\n",
      " |-- jersey_name: string (nullable = true)\n",
      " |-- club: string (nullable = true)\n",
      " |-- height: integer (nullable = true)\n",
      " |-- weight: integer (nullable = true)\n",
      "\n"
     ]
    }
   ],
   "source": [
    "# check columns types\n",
    "df.printSchema()"
   ]
  },
  {
   "cell_type": "code",
   "execution_count": 18,
   "id": "7f516166",
   "metadata": {
    "ExecuteTime": {
     "end_time": "2022-06-06T21:29:15.687886Z",
     "start_time": "2022-06-06T21:29:15.679409Z"
    }
   },
   "outputs": [
    {
     "data": {
      "text/plain": [
       "[('team', 'string'),\n",
       " ('jersey_number', 'int'),\n",
       " ('position', 'string'),\n",
       " ('players_name', 'string'),\n",
       " ('birth_date', 'string'),\n",
       " ('jersey_name', 'string'),\n",
       " ('club', 'string'),\n",
       " ('height', 'int'),\n",
       " ('weight', 'int')]"
      ]
     },
     "execution_count": 18,
     "metadata": {},
     "output_type": "execute_result"
    }
   ],
   "source": [
    "# other way to check it\n",
    "df.dtypes"
   ]
  },
  {
   "cell_type": "markdown",
   "id": "a1662f84",
   "metadata": {},
   "source": [
    "## Check NA Values"
   ]
  },
  {
   "cell_type": "code",
   "execution_count": 19,
   "id": "0f9ff90e",
   "metadata": {
    "ExecuteTime": {
     "end_time": "2022-06-06T21:29:18.552397Z",
     "start_time": "2022-06-06T21:29:18.367732Z"
    }
   },
   "outputs": [
    {
     "data": {
      "text/plain": [
       "team             0\n",
       "jersey_number    0\n",
       "position         0\n",
       "players_name     0\n",
       "birth_date       0\n",
       "jersey_name      0\n",
       "club             0\n",
       "height           0\n",
       "weight           0\n",
       "dtype: int64"
      ]
     },
     "execution_count": 19,
     "metadata": {},
     "output_type": "execute_result"
    }
   ],
   "source": [
    "#check na using pandas\n",
    "df.toPandas().isna().sum()"
   ]
  },
  {
   "cell_type": "code",
   "execution_count": 20,
   "id": "df58bb78",
   "metadata": {
    "ExecuteTime": {
     "end_time": "2022-06-06T21:29:20.664220Z",
     "start_time": "2022-06-06T21:29:19.848876Z"
    }
   },
   "outputs": [
    {
     "name": "stdout",
     "output_type": "stream",
     "text": [
      "team 0\n",
      "jersey_number 0\n",
      "position 0\n",
      "players_name 0\n",
      "birth_date 0\n",
      "jersey_name 0\n",
      "club 0\n",
      "height 0\n",
      "weight 0\n"
     ]
    }
   ],
   "source": [
    "#using pyspark filter\n",
    "for column in df.columns:\n",
    "    print(column, df.filter(df[column].isNull()).count())"
   ]
  },
  {
   "cell_type": "markdown",
   "id": "cc59f367",
   "metadata": {},
   "source": [
    "## Fillout NAs"
   ]
  },
  {
   "cell_type": "markdown",
   "id": "61563525",
   "metadata": {},
   "source": [
    "## Change Dtypes"
   ]
  },
  {
   "cell_type": "code",
   "execution_count": 90,
   "id": "cbfc3cbc",
   "metadata": {
    "ExecuteTime": {
     "end_time": "2022-06-06T22:06:03.844070Z",
     "start_time": "2022-06-06T22:06:03.824320Z"
    }
   },
   "outputs": [],
   "source": [
    "# replace . to - in birth_date column (str)\n",
    "df1 = df.withColumn('birth_date', translate('birth_date', '.', '-'))"
   ]
  },
  {
   "cell_type": "code",
   "execution_count": 91,
   "id": "576aac3b",
   "metadata": {
    "ExecuteTime": {
     "end_time": "2022-06-06T22:06:04.943182Z",
     "start_time": "2022-06-06T22:06:04.926701Z"
    }
   },
   "outputs": [],
   "source": [
    "# change birth date dtype to datetime\n",
    "df1 = df1.withColumn('birth_date', to_date('birth_date', 'dd-MM-yyyy'))"
   ]
  },
  {
   "cell_type": "code",
   "execution_count": 69,
   "id": "f2350274",
   "metadata": {
    "ExecuteTime": {
     "end_time": "2022-06-06T21:55:09.847415Z",
     "start_time": "2022-06-06T21:55:09.837612Z"
    }
   },
   "outputs": [
    {
     "data": {
      "text/plain": [
       "[('team', 'string'),\n",
       " ('jersey_number', 'int'),\n",
       " ('position', 'string'),\n",
       " ('players_name', 'string'),\n",
       " ('birth_date', 'date'),\n",
       " ('jersey_name', 'string'),\n",
       " ('club', 'string'),\n",
       " ('height', 'int'),\n",
       " ('weight', 'int')]"
      ]
     },
     "execution_count": 69,
     "metadata": {},
     "output_type": "execute_result"
    }
   ],
   "source": [
    "# checking dtypes after conversion\n",
    "df1.dtypes"
   ]
  },
  {
   "cell_type": "code",
   "execution_count": 70,
   "id": "62b78e89",
   "metadata": {
    "ExecuteTime": {
     "end_time": "2022-06-06T21:55:11.640964Z",
     "start_time": "2022-06-06T21:55:11.594217Z"
    }
   },
   "outputs": [
    {
     "name": "stdout",
     "output_type": "stream",
     "text": [
      "+---------+-------------+--------+------------------+----------+-----------+--------------------+------+------+\n",
      "|     team|jersey_number|position|      players_name|birth_date|jersey_name|                club|height|weight|\n",
      "+---------+-------------+--------+------------------+----------+-----------+--------------------+------+------+\n",
      "|Argentina|            3|      DF|TAGLIAFICO Nicolas|1992-08-31| TAGLIAFICO|      AFC Ajax (NED)|   169|    65|\n",
      "|Argentina|           22|      MF|    PAVON Cristian|1996-01-21|      PAVÓN|CA Boca Juniors (...|   169|    65|\n",
      "|Argentina|           15|      MF|    LANZINI Manuel|1993-02-15|    LANZINI|West Ham United F...|   167|    66|\n",
      "|Argentina|           18|      DF|    SALVIO Eduardo|1990-07-13|     SALVIO|    SL Benfica (POR)|   167|    69|\n",
      "|Argentina|           10|      FW|      MESSI Lionel|1987-06-24|      MESSI|  FC Barcelona (ESP)|   170|    72|\n",
      "+---------+-------------+--------+------------------+----------+-----------+--------------------+------+------+\n",
      "only showing top 5 rows\n",
      "\n"
     ]
    }
   ],
   "source": [
    "df1.show(5)"
   ]
  },
  {
   "cell_type": "markdown",
   "id": "5f229ed7",
   "metadata": {},
   "source": [
    "## Descriptive Statistics"
   ]
  },
  {
   "cell_type": "code",
   "execution_count": 71,
   "id": "3dc73481",
   "metadata": {
    "ExecuteTime": {
     "end_time": "2022-06-06T21:55:14.303945Z",
     "start_time": "2022-06-06T21:55:14.198673Z"
    },
    "cell_style": "center",
    "scrolled": true
   },
   "outputs": [
    {
     "name": "stdout",
     "output_type": "stream",
     "text": [
      "+-------+-----------------+-----------------+-----------------+\n",
      "|summary|    jersey_number|           height|           weight|\n",
      "+-------+-----------------+-----------------+-----------------+\n",
      "|  count|              736|              736|              736|\n",
      "|   mean|             12.0|182.4076086956522|77.18885869565217|\n",
      "| stddev|6.637760461599851|6.930924233929302|7.233778346883639|\n",
      "|    min|                1|              165|               59|\n",
      "|    max|               23|              201|               99|\n",
      "+-------+-----------------+-----------------+-----------------+\n",
      "\n"
     ]
    }
   ],
   "source": [
    "# numeric features\n",
    "num_attributes_list = [item[0] for item in df.dtypes if item[1].startswith('int')]\n",
    "df.describe(num_attributes_list).show()"
   ]
  },
  {
   "cell_type": "code",
   "execution_count": 43,
   "id": "0a5faee6",
   "metadata": {
    "ExecuteTime": {
     "end_time": "2022-06-06T21:46:14.593723Z",
     "start_time": "2022-06-06T21:46:14.459542Z"
    }
   },
   "outputs": [
    {
     "name": "stdout",
     "output_type": "stream",
     "text": [
      "+-------+-----------------+-----------------+-----------------+\n",
      "|summary|    jersey_number|           height|           weight|\n",
      "+-------+-----------------+-----------------+-----------------+\n",
      "|  count|              736|              736|              736|\n",
      "|   mean|             12.0|182.4076086956522|77.18885869565217|\n",
      "| stddev|6.637760461599851|6.930924233929302|7.233778346883639|\n",
      "|    min|                1|              165|               59|\n",
      "|    max|               23|              201|               99|\n",
      "+-------+-----------------+-----------------+-----------------+\n",
      "\n"
     ]
    }
   ],
   "source": [
    "# other way\n",
    "df.select(num_attributes_list).describe().show()"
   ]
  },
  {
   "cell_type": "code",
   "execution_count": 44,
   "id": "1a882f10",
   "metadata": {
    "ExecuteTime": {
     "end_time": "2022-06-06T21:46:19.561393Z",
     "start_time": "2022-06-06T21:46:19.151746Z"
    }
   },
   "outputs": [
    {
     "name": "stdout",
     "output_type": "stream",
     "text": [
      "+-------+---------+--------+------------+----------+-----------+--------------------+\n",
      "|summary|     team|position|players_name|birth_date|jersey_name|                club|\n",
      "+-------+---------+--------+------------+----------+-----------+--------------------+\n",
      "|  count|      736|     736|         736|       736|        736|                 736|\n",
      "|   mean|     null|    null|        null|      null|       null|                null|\n",
      "| stddev|     null|    null|        null|      null|       null|                null|\n",
      "|    min|Argentina|      DF|ABDALLA SAID|01.01.1984|  A. ASHRAF|    1. FC Köln (GER)|\n",
      "|    max|  Uruguay|      MF|ZUBER Steven|31.10.1997|   ŽIVKOVIĆ|Étoile du Sahel (...|\n",
      "+-------+---------+--------+------------+----------+-----------+--------------------+\n",
      "\n"
     ]
    }
   ],
   "source": [
    "# categorical features\n",
    "cat_attributes_list = [item[0] for item in df.dtypes if item[1].startswith('str')]\n",
    "df.describe(cat_attributes_list).show()"
   ]
  },
  {
   "cell_type": "markdown",
   "id": "599832a6",
   "metadata": {},
   "source": [
    "# Data Filtering"
   ]
  },
  {
   "cell_type": "code",
   "execution_count": 45,
   "id": "a1f42a02",
   "metadata": {
    "ExecuteTime": {
     "end_time": "2022-06-06T21:46:27.541541Z",
     "start_time": "2022-06-06T21:46:27.531085Z"
    }
   },
   "outputs": [
    {
     "data": {
      "text/plain": [
       "['team',\n",
       " 'jersey_number',\n",
       " 'position',\n",
       " 'players_name',\n",
       " 'birth_date',\n",
       " 'jersey_name',\n",
       " 'club',\n",
       " 'height',\n",
       " 'weight']"
      ]
     },
     "execution_count": 45,
     "metadata": {},
     "output_type": "execute_result"
    }
   ],
   "source": [
    "df.columns"
   ]
  },
  {
   "cell_type": "markdown",
   "id": "c0065d38",
   "metadata": {},
   "source": [
    "## ways of selecting specific columns for analysis"
   ]
  },
  {
   "cell_type": "code",
   "execution_count": 46,
   "id": "94fdd311",
   "metadata": {
    "ExecuteTime": {
     "end_time": "2022-06-06T21:46:32.446358Z",
     "start_time": "2022-06-06T21:46:32.369487Z"
    }
   },
   "outputs": [
    {
     "name": "stdout",
     "output_type": "stream",
     "text": [
      "+------------------+---------+--------------------+\n",
      "|      players_name|     team|                club|\n",
      "+------------------+---------+--------------------+\n",
      "|TAGLIAFICO Nicolas|Argentina|      AFC Ajax (NED)|\n",
      "|    PAVON Cristian|Argentina|CA Boca Juniors (...|\n",
      "|    LANZINI Manuel|Argentina|West Ham United F...|\n",
      "|    SALVIO Eduardo|Argentina|    SL Benfica (POR)|\n",
      "|      MESSI Lionel|Argentina|  FC Barcelona (ESP)|\n",
      "+------------------+---------+--------------------+\n",
      "only showing top 5 rows\n",
      "\n"
     ]
    }
   ],
   "source": [
    "# using select, and we can organize by order of the column\n",
    "df.select('players_name', 'team', 'club').show(5)"
   ]
  },
  {
   "cell_type": "code",
   "execution_count": 47,
   "id": "650fe347",
   "metadata": {
    "ExecuteTime": {
     "end_time": "2022-06-06T21:46:41.025022Z",
     "start_time": "2022-06-06T21:46:40.962418Z"
    }
   },
   "outputs": [
    {
     "name": "stdout",
     "output_type": "stream",
     "text": [
      "+------------------+---------+\n",
      "|      players_name|     team|\n",
      "+------------------+---------+\n",
      "|TAGLIAFICO Nicolas|Argentina|\n",
      "|    PAVON Cristian|Argentina|\n",
      "|    LANZINI Manuel|Argentina|\n",
      "|    SALVIO Eduardo|Argentina|\n",
      "|      MESSI Lionel|Argentina|\n",
      "+------------------+---------+\n",
      "only showing top 5 rows\n",
      "\n"
     ]
    }
   ],
   "source": [
    "df.select(col('players_name'), col('team')).show(5)"
   ]
  },
  {
   "cell_type": "code",
   "execution_count": 48,
   "id": "953cc55c",
   "metadata": {
    "ExecuteTime": {
     "end_time": "2022-06-06T21:46:43.276122Z",
     "start_time": "2022-06-06T21:46:43.237352Z"
    }
   },
   "outputs": [
    {
     "name": "stdout",
     "output_type": "stream",
     "text": [
      "+------------------+---------+\n",
      "|      players_name|     team|\n",
      "+------------------+---------+\n",
      "|TAGLIAFICO Nicolas|Argentina|\n",
      "|    PAVON Cristian|Argentina|\n",
      "|    LANZINI Manuel|Argentina|\n",
      "|    SALVIO Eduardo|Argentina|\n",
      "|      MESSI Lionel|Argentina|\n",
      "+------------------+---------+\n",
      "only showing top 5 rows\n",
      "\n"
     ]
    }
   ],
   "source": [
    "df.select(df['players_name'], df['team']).show(5)"
   ]
  },
  {
   "cell_type": "code",
   "execution_count": 49,
   "id": "3ede9a56",
   "metadata": {
    "ExecuteTime": {
     "end_time": "2022-06-06T21:46:51.176066Z",
     "start_time": "2022-06-06T21:46:51.108027Z"
    }
   },
   "outputs": [
    {
     "name": "stdout",
     "output_type": "stream",
     "text": [
      "+---------+\n",
      "|     time|\n",
      "+---------+\n",
      "|Argentina|\n",
      "|Argentina|\n",
      "|Argentina|\n",
      "|Argentina|\n",
      "|Argentina|\n",
      "+---------+\n",
      "only showing top 5 rows\n",
      "\n"
     ]
    }
   ],
   "source": [
    "# calling a column with alias\n",
    "df.select(df['team'].alias('time')).show(5)"
   ]
  },
  {
   "cell_type": "code",
   "execution_count": 50,
   "id": "82f94b66",
   "metadata": {
    "ExecuteTime": {
     "end_time": "2022-06-06T21:46:58.054015Z",
     "start_time": "2022-06-06T21:46:57.548483Z"
    }
   },
   "outputs": [
    {
     "name": "stdout",
     "output_type": "stream",
     "text": [
      "+--------------+\n",
      "|          team|\n",
      "+--------------+\n",
      "|     Argentina|\n",
      "|     Australia|\n",
      "|       Belgium|\n",
      "|        Brazil|\n",
      "|      Colombia|\n",
      "|    Costa Rica|\n",
      "|       Croatia|\n",
      "|       Denmark|\n",
      "|         Egypt|\n",
      "|       England|\n",
      "|        France|\n",
      "|       Germany|\n",
      "|       IR Iran|\n",
      "|       Iceland|\n",
      "|         Japan|\n",
      "|Korea Republic|\n",
      "|        Mexico|\n",
      "|       Morocco|\n",
      "|       Nigeria|\n",
      "|        Panama|\n",
      "|          Peru|\n",
      "|        Poland|\n",
      "|      Portugal|\n",
      "|        Russia|\n",
      "|  Saudi Arabia|\n",
      "+--------------+\n",
      "only showing top 25 rows\n",
      "\n"
     ]
    }
   ],
   "source": [
    "#checkin country names in the dataset\n",
    "df.select('team').distinct().orderBy('team').show(25)"
   ]
  },
  {
   "cell_type": "markdown",
   "id": "e297e4d3",
   "metadata": {},
   "source": [
    "## Filtering dataframe"
   ]
  },
  {
   "cell_type": "code",
   "execution_count": 51,
   "id": "9fbc4fd6",
   "metadata": {
    "ExecuteTime": {
     "end_time": "2022-06-06T21:47:04.958665Z",
     "start_time": "2022-06-06T21:47:04.892728Z"
    },
    "scrolled": false
   },
   "outputs": [
    {
     "name": "stdout",
     "output_type": "stream",
     "text": [
      "+------+-------------+--------+-----------------+----------+-----------+--------------------+------+------+\n",
      "|  team|jersey_number|position|     players_name|birth_date|jersey_name|                club|height|weight|\n",
      "+------+-------------+--------+-----------------+----------+-----------+--------------------+------+------+\n",
      "|Brazil|           18|      MF|             FRED|05.03.1993|       FRED|FC Shakhtar Donet...|   169|    64|\n",
      "|Brazil|           21|      FW|           TAISON|13.01.1988|     TAISON|FC Shakhtar Donet...|   172|    64|\n",
      "|Brazil|           17|      MF|      FERNANDINHO|04.05.1985|FERNANDINHO|Manchester City F...|   179|    67|\n",
      "|Brazil|           22|      DF|           FAGNER|11.06.1989|     FAGNER|SC Corinthians (BRA)|   168|    67|\n",
      "|Brazil|           10|      FW|           NEYMAR|05.02.1992|  NEYMAR JR|Paris Saint-Germa...|   175|    68|\n",
      "|Brazil|           11|      MF|PHILIPPE COUTINHO|12.06.1992|P. COUTINHO|  FC Barcelona (ESP)|   172|    68|\n",
      "|Brazil|            7|      FW|    DOUGLAS COSTA|14.09.1990|   D. COSTA|   Juventus FC (ITA)|   182|    70|\n",
      "|Brazil|            6|      DF|      FILIPE LUIS|09.08.1985|FILIPE LUIS|Atletico Madrid (...|   182|    73|\n",
      "|Brazil|            9|      FW|    GABRIEL JESUS|03.04.1997|   G. JESUS|Manchester City F...|   175|    73|\n",
      "|Brazil|           13|      DF|       MARQUINHOS|14.05.1994| MARQUINHOS|Paris Saint-Germa...|   183|    75|\n",
      "+------+-------------+--------+-----------------+----------+-----------+--------------------+------+------+\n",
      "only showing top 10 rows\n",
      "\n"
     ]
    }
   ],
   "source": [
    "# get only brazilian team\n",
    "df.filter('team = \"Brazil\"').show(10)"
   ]
  },
  {
   "cell_type": "code",
   "execution_count": 52,
   "id": "19436a72",
   "metadata": {
    "ExecuteTime": {
     "end_time": "2022-06-06T21:47:13.440247Z",
     "start_time": "2022-06-06T21:47:13.383788Z"
    }
   },
   "outputs": [
    {
     "data": {
      "text/plain": [
       "23"
      ]
     },
     "execution_count": 52,
     "metadata": {},
     "output_type": "execute_result"
    }
   ],
   "source": [
    "# number of brazilian players\n",
    "df.filter('team = \"Brazil\"').count()"
   ]
  },
  {
   "cell_type": "code",
   "execution_count": 53,
   "id": "1652b8bd",
   "metadata": {
    "ExecuteTime": {
     "end_time": "2022-06-06T21:47:29.789464Z",
     "start_time": "2022-06-06T21:47:29.640946Z"
    },
    "scrolled": false
   },
   "outputs": [
    {
     "name": "stdout",
     "output_type": "stream",
     "text": [
      "+---------+-------------+--------+------------------+----------+-----------+--------------------+------+------+\n",
      "|     team|jersey_number|position|      players_name|birth_date|jersey_name|                club|height|weight|\n",
      "+---------+-------------+--------+------------------+----------+-----------+--------------------+------+------+\n",
      "|Argentina|            6|      DF|    FAZIO Federico|17.03.1987|      FAZIO|       AS Roma (ITA)|   199|    85|\n",
      "|Argentina|            1|      GK|     GUZMAN Nahuel|10.02.1986|     GUZMÁN|   Tigres UANL (MEX)|   192|    90|\n",
      "|Argentina|           12|      GK|     ARMANI Franco|16.10.1986|     ARMANI|CA River Plate (ARG)|   189|    85|\n",
      "|Argentina|           16|      DF|       ROJO Marcos|20.03.1990|       ROJO|Manchester United...|   189|    82|\n",
      "|Argentina|           23|      GK|CABALLERO Wilfredo|28.09.1981|  CABALLERO|    Chelsea FC (ENG)|   186|    80|\n",
      "|Argentina|            9|      FW|   HIGUAIN Gonzalo|10.12.1987|    HIGUAÍN|   Juventus FC (ITA)|   184|    75|\n",
      "|Argentina|            4|      DF|  ANSALDI Cristian|20.09.1986|    ANSALDI|     Torino FC (ITA)|   181|    73|\n",
      "|Argentina|            2|      DF|   MERCADO Gabriel|18.03.1987|    MERCADO|    Sevilla FC (ESP)|   181|    81|\n",
      "|Argentina|           17|      DF|  OTAMENDI Nicolas|12.02.1988|   OTAMENDI|Manchester City F...|   181|    81|\n",
      "+---------+-------------+--------+------------------+----------+-----------+--------------------+------+------+\n",
      "\n"
     ]
    }
   ],
   "source": [
    "# filtering with 2 conditions\n",
    "# get argentinians taller than 180 (& condition)\n",
    "df.filter((df['team']=='Argentina') & (df['height'] > 180)).orderBy('height', ascending = False).show()"
   ]
  },
  {
   "cell_type": "code",
   "execution_count": 54,
   "id": "0fdc257b",
   "metadata": {
    "ExecuteTime": {
     "end_time": "2022-06-06T21:47:49.548781Z",
     "start_time": "2022-06-06T21:47:49.474231Z"
    },
    "scrolled": true
   },
   "outputs": [
    {
     "name": "stdout",
     "output_type": "stream",
     "text": [
      "+------+-------------+--------+--------------+----------+-----------+--------------------+------+------+\n",
      "|  team|jersey_number|position|  players_name|birth_date|jersey_name|                club|height|weight|\n",
      "+------+-------------+--------+--------------+----------+-----------+--------------------+------+------+\n",
      "|Brazil|            7|      FW| DOUGLAS COSTA|14.09.1990|   D. COSTA|   Juventus FC (ITA)|   182|    70|\n",
      "|Brazil|            6|      DF|   FILIPE LUIS|09.08.1985|FILIPE LUIS|Atletico Madrid (...|   182|    73|\n",
      "|Brazil|            9|      FW| GABRIEL JESUS|03.04.1997|   G. JESUS|Manchester City F...|   175|    73|\n",
      "|Brazil|            3|      DF|       MIRANDA|07.09.1984|    MIRANDA|FC Internazionale...|   186|    78|\n",
      "|Brazil|            2|      DF|  THIAGO SILVA|22.09.1984|   T. SILVA|Paris Saint-Germa...|   183|    79|\n",
      "|Brazil|            4|      DF| PEDRO GEROMEL|21.09.1985|    GEROMEL|   Grêmio FBPA (BRA)|   190|    84|\n",
      "|Brazil|            5|      MF|      CASEMIRO|23.02.1992|   CASEMIRO|Real Madrid CF (ESP)|   185|    84|\n",
      "|Brazil|            8|      MF|RENATO AUGUSTO|08.02.1988| R. AUGUSTO| Beijing Guoan (CHN)|   186|    86|\n",
      "|Brazil|            1|      GK|       ALISSON|02.10.1992|  A. BECKER|       AS Roma (ITA)|   193|    91|\n",
      "+------+-------------+--------+--------------+----------+-----------+--------------------+------+------+\n",
      "\n"
     ]
    }
   ],
   "source": [
    "# other way of filtering with 2 conditions\n",
    "df.filter(df['team'] == 'Brazil').filter(df['jersey_number'] < 10).show()"
   ]
  },
  {
   "cell_type": "code",
   "execution_count": 55,
   "id": "9fced20a",
   "metadata": {
    "ExecuteTime": {
     "end_time": "2022-06-06T21:48:04.375697Z",
     "start_time": "2022-06-06T21:48:04.300403Z"
    }
   },
   "outputs": [
    {
     "name": "stdout",
     "output_type": "stream",
     "text": [
      "+---------+-------------+--------+------------------+----------+-----------+--------------------+------+------+\n",
      "|     team|jersey_number|position|      players_name|birth_date|jersey_name|                club|height|weight|\n",
      "+---------+-------------+--------+------------------+----------+-----------+--------------------+------+------+\n",
      "|Argentina|           18|      DF|    SALVIO Eduardo|13.07.1990|     SALVIO|    SL Benfica (POR)|   167|    69|\n",
      "|Argentina|           10|      FW|      MESSI Lionel|24.06.1987|      MESSI|  FC Barcelona (ESP)|   170|    72|\n",
      "|Argentina|            6|      DF|    FAZIO Federico|17.03.1987|      FAZIO|       AS Roma (ITA)|   199|    85|\n",
      "|  Belgium|            1|      GK|  COURTOIS Thibaut|11.05.1992|   COURTOIS|    Chelsea FC (ENG)|   199|    91|\n",
      "|  Croatia|           12|      GK|     KALINIC Lovre|03.04.1990| L. KALINIĆ|      KAA Gent (BEL)|   201|    96|\n",
      "|  Denmark|            3|      DF|VESTERGAARD Jannik|03.08.1992|VESTERGAARD|VfL Borussia Mönc...|   200|    98|\n",
      "+---------+-------------+--------+------------------+----------+-----------+--------------------+------+------+\n",
      "\n"
     ]
    }
   ],
   "source": [
    "# using OR condition\n",
    "df.filter((df['players_name'] == 'MESSI Lionel') | (df['players_name'] == 'SALVIO Eduardo') | (df['height'] >= 199)).show()"
   ]
  },
  {
   "cell_type": "code",
   "execution_count": 56,
   "id": "d95220be",
   "metadata": {
    "ExecuteTime": {
     "end_time": "2022-06-06T21:48:08.453000Z",
     "start_time": "2022-06-06T21:48:08.372841Z"
    },
    "scrolled": true
   },
   "outputs": [
    {
     "name": "stdout",
     "output_type": "stream",
     "text": [
      "+-------+-------------+--------+----------------+----------+-----------+--------------------+------+------+\n",
      "|   team|jersey_number|position|    players_name|birth_date|jersey_name|                club|height|weight|\n",
      "+-------+-------------+--------+----------------+----------+-----------+--------------------+------+------+\n",
      "|Belgium|            1|      GK|COURTOIS Thibaut|11.05.1992|   COURTOIS|    Chelsea FC (ENG)|   199|    91|\n",
      "| Brazil|           22|      DF|          FAGNER|11.06.1989|     FAGNER|SC Corinthians (BRA)|   168|    67|\n",
      "| Brazil|            6|      DF|     FILIPE LUIS|09.08.1985|FILIPE LUIS|Atletico Madrid (...|   182|    73|\n",
      "| Brazil|           13|      DF|      MARQUINHOS|14.05.1994| MARQUINHOS|Paris Saint-Germa...|   183|    75|\n",
      "| Brazil|            3|      DF|         MIRANDA|07.09.1984|    MIRANDA|FC Internazionale...|   186|    78|\n",
      "| Brazil|           14|      DF|          DANILO|15.07.1991|     DANILO|Manchester City F...|   184|    78|\n",
      "| Brazil|            2|      DF|    THIAGO SILVA|22.09.1984|   T. SILVA|Paris Saint-Germa...|   183|    79|\n",
      "| Brazil|           12|      DF|         MARCELO|12.05.1988|    MARCELO|Real Madrid CF (ESP)|   174|    80|\n",
      "| Brazil|            4|      DF|   PEDRO GEROMEL|21.09.1985|    GEROMEL|   Grêmio FBPA (BRA)|   190|    84|\n",
      "+-------+-------------+--------+----------------+----------+-----------+--------------------+------+------+\n",
      "\n"
     ]
    }
   ],
   "source": [
    "# using & e |\n",
    "# getting all defensive brazilian players or belgium player with 199 of height\n",
    "df.filter((df['position'] == 'DF') & (df['team']== 'Brazil') | (df['height'] == 199) & (df['team'] == 'Belgium')).show()"
   ]
  },
  {
   "cell_type": "markdown",
   "id": "17cd1a0e",
   "metadata": {},
   "source": [
    "## Feature Engineering"
   ]
  },
  {
   "cell_type": "code",
   "execution_count": null,
   "id": "d56a13ea",
   "metadata": {},
   "outputs": [],
   "source": []
  },
  {
   "cell_type": "code",
   "execution_count": 96,
   "id": "9b31c68c",
   "metadata": {
    "ExecuteTime": {
     "end_time": "2022-06-06T22:08:36.352381Z",
     "start_time": "2022-06-06T22:08:36.299594Z"
    },
    "scrolled": true
   },
   "outputs": [],
   "source": [
    "# feature engineering\n",
    "\n",
    "# creating new columns due business coinstraints\n",
    "df2 = df1.withColumn('world_cup', lit(2018))\n",
    "\n",
    "# IMC\n",
    "df2 = df2.withColumn('IMC', lit(df2['weight']/((df2['height']/100)*(df2['height']/100))))\n",
    "\n",
    "#birth_year\n",
    "df2 = df2.withColumn('birth_year', year(df2['birth_date']))\n",
    "# df1 = df_student.withColumn('birth_month',month(df_student.birthday))\n",
    "\n",
    "# birth month\n",
    "df2 = df2.withColumn('birth_month', month(df2['birth_date']))\n",
    "\n",
    "# day of year\n",
    "df2 = df2.withColumn(\"birth_month\",to_timestamp(col(\"birth_month\"))).withColumn(\"D_O_Y\", date_format(col(\"birth_month\"), \"D\"))\n",
    "\n",
    "# week of year\n",
    "# df2 = df2.withColumn('week_of_year',weekofyear(df2.birth_month))\n"
   ]
  },
  {
   "cell_type": "code",
   "execution_count": 97,
   "id": "d53508ef",
   "metadata": {
    "ExecuteTime": {
     "end_time": "2022-06-06T22:08:38.243532Z",
     "start_time": "2022-06-06T22:08:38.184197Z"
    },
    "scrolled": true
   },
   "outputs": [
    {
     "name": "stdout",
     "output_type": "stream",
     "text": [
      "+---------+-------------+--------+------------------+----------+-----------+--------------------+------+------+---------+------------------+----------+-------------------+-----+------------+\n",
      "|     team|jersey_number|position|      players_name|birth_date|jersey_name|                club|height|weight|world_cup|               IMC|birth_year|        birth_month|D_O_Y|week_of_year|\n",
      "+---------+-------------+--------+------------------+----------+-----------+--------------------+------+------+---------+------------------+----------+-------------------+-----+------------+\n",
      "|Argentina|            3|      DF|TAGLIAFICO Nicolas|1992-08-31| TAGLIAFICO|      AFC Ajax (NED)|   169|    65|     2018|22.758306781975424|      1992|1969-12-31 21:00:08|  365|           1|\n",
      "|Argentina|           22|      MF|    PAVON Cristian|1996-01-21|      PAVÓN|CA Boca Juniors (...|   169|    65|     2018|22.758306781975424|      1996|1969-12-31 21:00:01|  365|           1|\n",
      "|Argentina|           15|      MF|    LANZINI Manuel|1993-02-15|    LANZINI|West Ham United F...|   167|    66|     2018| 23.66524436157625|      1993|1969-12-31 21:00:02|  365|           1|\n",
      "|Argentina|           18|      DF|    SALVIO Eduardo|1990-07-13|     SALVIO|    SL Benfica (POR)|   167|    69|     2018|24.740937287102444|      1990|1969-12-31 21:00:07|  365|           1|\n",
      "|Argentina|           10|      FW|      MESSI Lionel|1987-06-24|      MESSI|  FC Barcelona (ESP)|   170|    72|     2018|24.913494809688583|      1987|1969-12-31 21:00:06|  365|           1|\n",
      "|Argentina|            4|      DF|  ANSALDI Cristian|1986-09-20|    ANSALDI|     Torino FC (ITA)|   181|    73|     2018|22.282592106468055|      1986|1969-12-31 21:00:09|  365|           1|\n",
      "|Argentina|            5|      MF|      BIGLIA Lucas|1986-01-30|     BIGLIA|      AC Milan (ITA)|   175|    73|     2018|23.836734693877553|      1986|1969-12-31 21:00:01|  365|           1|\n",
      "|Argentina|            7|      MF|       BANEGA Ever|1988-06-29|     BANEGA|    Sevilla FC (ESP)|   175|    73|     2018|23.836734693877553|      1988|1969-12-31 21:00:06|  365|           1|\n",
      "|Argentina|           14|      DF| MASCHERANO Javier|1984-06-08| MASCHERANO|Hebei China Fortu...|   174|    73|     2018|24.111507464658473|      1984|1969-12-31 21:00:06|  365|           1|\n",
      "|Argentina|           21|      FW|      DYBALA Paulo|1993-11-15|     DYBALA|   Juventus FC (ITA)|   177|    73|     2018|23.301094832264035|      1993|1969-12-31 21:00:11|  365|           1|\n",
      "|Argentina|           19|      FW|     AGUERO Sergio|1988-06-02|     AGÜERO|Manchester City F...|   172|    74|     2018|25.013520822065985|      1988|1969-12-31 21:00:06|  365|           1|\n",
      "|Argentina|            9|      FW|   HIGUAIN Gonzalo|1987-12-10|    HIGUAÍN|   Juventus FC (ITA)|   184|    75|     2018|22.152646502835537|      1987|1969-12-31 21:00:12|  365|           1|\n",
      "|Argentina|           11|      MF|    DI MARIA Angel|1988-02-14|   DI MARÍA|Paris Saint-Germa...|   178|    75|     2018|23.671253629592222|      1988|1969-12-31 21:00:02|  365|           1|\n",
      "|Argentina|           20|      MF|  LO CELSO Giovani|1996-04-09|   LO CELSO|Paris Saint-Germa...|   177|    75|     2018| 23.93948099205209|      1996|1969-12-31 21:00:04|  365|           1|\n",
      "|Argentina|           13|      MF|  MEZA Maximiliano|1992-12-15|       MEZA|CA Independiente ...|   180|    76|     2018|23.456790123456788|      1992|1969-12-31 21:00:12|  365|           1|\n",
      "|Argentina|            8|      DF|      ACUNA Marcos|1991-10-28|      ACUÑA|   Sporting CP (POR)|   172|    77|     2018|26.027582477014604|      1991|1969-12-31 21:00:10|  365|           1|\n",
      "|Argentina|           23|      GK|CABALLERO Wilfredo|1981-09-28|  CABALLERO|    Chelsea FC (ENG)|   186|    80|     2018| 23.12406058503873|      1981|1969-12-31 21:00:09|  365|           1|\n",
      "|Argentina|            2|      DF|   MERCADO Gabriel|1987-03-18|    MERCADO|    Sevilla FC (ESP)|   181|    81|     2018|24.724520008546747|      1987|1969-12-31 21:00:03|  365|           1|\n",
      "|Argentina|           17|      DF|  OTAMENDI Nicolas|1988-02-12|   OTAMENDI|Manchester City F...|   181|    81|     2018|24.724520008546747|      1988|1969-12-31 21:00:02|  365|           1|\n",
      "|Argentina|           16|      DF|       ROJO Marcos|1990-03-20|       ROJO|Manchester United...|   189|    82|     2018|22.955684331345708|      1990|1969-12-31 21:00:03|  365|           1|\n",
      "|Argentina|            6|      DF|    FAZIO Federico|1987-03-17|      FAZIO|       AS Roma (ITA)|   199|    85|     2018|21.464104441807024|      1987|1969-12-31 21:00:03|  365|           1|\n",
      "|Argentina|           12|      GK|     ARMANI Franco|1986-10-16|     ARMANI|CA River Plate (ARG)|   189|    85|     2018| 23.79552644102909|      1986|1969-12-31 21:00:10|  365|           1|\n",
      "|Argentina|            1|      GK|     GUZMAN Nahuel|1986-02-10|     GUZMÁN|   Tigres UANL (MEX)|   192|    90|     2018|        24.4140625|      1986|1969-12-31 21:00:02|  365|           1|\n",
      "|Australia|           16|      DF|       BEHICH Aziz|1990-12-16|     BEHICH|     Bursaspor (TUR)|   170|    63|     2018| 21.79930795847751|      1990|1969-12-31 21:00:12|  365|           1|\n",
      "|Australia|           10|      FW|      KRUSE Robbie|1988-10-05|      KRUSE|    VfL Bochum (GER)|   180|    66|     2018| 20.37037037037037|      1988|1969-12-31 21:00:10|  365|           1|\n",
      "|Australia|           19|      DF|     RISDON Joshua|1992-07-27|     RISDON|WS Wanderers FC (...|   169|    70|     2018|24.508945765204302|      1992|1969-12-31 21:00:07|  365|           1|\n",
      "|Australia|            3|      DF|    MEREDITH James|1988-04-05|   MEREDITH|   Millwall FC (ENG)|   179|    71|     2018| 22.15910864205237|      1988|1969-12-31 21:00:04|  365|           1|\n",
      "|Australia|           13|      MF|        MOOY Aaron|1990-09-15|       MOOY|Huddersfield Town...|   173|    72|     2018|  24.0569347455645|      1990|1969-12-31 21:00:09|  365|           1|\n",
      "|Australia|           14|      FW|    MacLAREN Jamie|1993-07-29|   MACLAREN|  Hibernian FC (SCO)|   178|    72|     2018|22.724403484408533|      1993|1969-12-31 21:00:07|  365|           1|\n",
      "|Australia|           21|      FW|PETRATOS Dimitrios|1992-11-10|   PETRATOS|Newcastle United ...|   176|    72|     2018|23.243801652892564|      1992|1969-12-31 21:00:11|  365|           1|\n",
      "|Australia|           17|      FW|     ARZANI Daniel|1999-01-04|     ARZANI|Melbourne City FC...|   171|    73|     2018| 24.96494647925858|      1999|1969-12-31 21:00:01|  365|           1|\n",
      "|Australia|            4|      FW|        CAHILL Tim|1979-12-06|     CAHILL|   Millwall FC (ENG)|   180|    76|     2018|23.456790123456788|      1979|1969-12-31 21:00:12|  365|           1|\n",
      "|Australia|            8|      MF|    LUONGO Massimo|1992-09-25|     LUONGO|Queens Park Range...|   176|    76|     2018|24.535123966942148|      1992|1969-12-31 21:00:09|  365|           1|\n",
      "|Australia|           20|      DF|   SAINSBURY Trent|1992-01-05|  SAINSBURY|Grasshopper Club ...|   183|    76|     2018|22.694018931589476|      1992|1969-12-31 21:00:01|  365|           1|\n",
      "|Australia|           22|      MF|    IRVINE Jackson|1993-03-07|     IRVINE|  Hull City FC (ENG)|   180|    77|     2018| 23.76543209876543|      1993|1969-12-31 21:00:03|  365|           1|\n",
      "|Australia|            5|      DF|     MILLIGAN Mark|1985-08-04|   MILLIGAN|    Al Ahli SC (KSA)|   178|    78|     2018| 24.61810377477591|      1985|1969-12-31 21:00:08|  365|           1|\n",
      "|Australia|           15|      MF|      JEDINAK Mile|1984-08-03|    JEDINAK|Aston Villa FC (ENG)|   188|    78|     2018|22.068809416025353|      1984|1969-12-31 21:00:08|  365|           1|\n",
      "|Australia|            9|      FW|        JURIC Tomi|1991-07-22|      JURIC|     FC Luzern (SUI)|   190|    80|     2018|  22.1606648199446|      1991|1969-12-31 21:00:07|  365|           1|\n",
      "|Australia|            1|      GK|       RYAN Mathew|1992-04-08|       RYAN|Brighton & Hove A...|   184|    82|     2018| 24.22022684310019|      1992|1969-12-31 21:00:04|  365|           1|\n",
      "|Australia|            6|      DF|    JURMAN Matthew|1989-12-08|     JURMAN|Suwon Samsung Blu...|   190|    83|     2018|22.991689750692522|      1989|1969-12-31 21:00:12|  365|           1|\n",
      "|Australia|            7|      FW|     LECKIE Mathew|1991-02-04|     LECKIE|    Hertha BSC (GER)|   181|    84|     2018|25.640242971826257|      1991|1969-12-31 21:00:02|  365|           1|\n",
      "|Australia|            2|      DF|     DEGENEK Milos|1994-04-28|    DEGENEK|Yokohama F-Marino...|   187|    85|     2018|24.307243558580453|      1994|1969-12-31 21:00:04|  365|           1|\n",
      "|Australia|           11|      FW|    NABBOUT Andrew|1992-12-17|    NABBOUT|    Urawa Reds (JPN)|   178|    85|     2018| 26.82742078020452|      1992|1969-12-31 21:00:12|  365|           1|\n",
      "|Australia|           12|      GK|        JONES Brad|1982-03-19|      JONES|Feyenoord Rotterd...|   193|    87|     2018| 23.35633171360305|      1982|1969-12-31 21:00:03|  365|           1|\n",
      "|Australia|           23|      MF|         ROGIC Tom|1992-12-16|      ROGIC|     Celtic FC (SCO)|   189|    88|     2018|24.635368550712467|      1992|1969-12-31 21:00:12|  365|           1|\n",
      "|Australia|           18|      GK|     VUKOVIC Danny|1985-03-27|    VUKOVIC|      KRC Genk (BEL)|   187|    94|     2018| 26.88095170007721|      1985|1969-12-31 21:00:03|  365|           1|\n",
      "|  Belgium|           14|      FW|     MERTENS Dries|1987-05-06|    MERTENS|    SSC Napoli (ITA)|   169|    61|     2018| 21.35779559539232|      1987|1969-12-31 21:00:05|  365|           1|\n",
      "|  Belgium|           11|      MF|  CARRASCO Yannick|1993-09-04|   CARRASCO|Dalian Yifang FC ...|   180|    67|     2018|20.679012345679013|      1993|1969-12-31 21:00:09|  365|           1|\n",
      "|  Belgium|            7|      MF|   DE BRUYNE Kevin|1991-06-28|  DE BRUYNE|Manchester City F...|   181|    70|     2018| 21.36686914318855|      1991|1969-12-31 21:00:06|  365|           1|\n",
      "|  Belgium|           16|      MF|    HAZARD Thorgan|1993-03-29|  T. HAZARD|VfL Borussia Mönc...|   174|    70|     2018|23.120623596247853|      1993|1969-12-31 21:00:03|  365|           1|\n",
      "+---------+-------------+--------+------------------+----------+-----------+--------------------+------+------+---------+------------------+----------+-------------------+-----+------------+\n",
      "only showing top 50 rows\n",
      "\n"
     ]
    }
   ],
   "source": [
    "df2.show(50)"
   ]
  },
  {
   "cell_type": "code",
   "execution_count": null,
   "id": "72a49cf7",
   "metadata": {
    "ExecuteTime": {
     "end_time": "2022-06-06T19:36:50.804970Z",
     "start_time": "2022-06-06T19:36:50.721273Z"
    }
   },
   "outputs": [],
   "source": [
    "# create columns with condition (using function substring)\n",
    "df.withColumn('sub', substring(df['team'], 1, 3)).show(5)"
   ]
  },
  {
   "cell_type": "code",
   "execution_count": null,
   "id": "2fb4e49a",
   "metadata": {
    "ExecuteTime": {
     "end_time": "2022-06-06T19:36:58.831422Z",
     "start_time": "2022-06-06T19:36:58.769047Z"
    }
   },
   "outputs": [],
   "source": [
    "# create columns 'year'\n",
    "df.withColumn('year', substring(df['birth_date'], -4, 4)).show(5)"
   ]
  },
  {
   "cell_type": "code",
   "execution_count": null,
   "id": "d30d3385",
   "metadata": {
    "ExecuteTime": {
     "end_time": "2022-06-06T19:40:33.640350Z",
     "start_time": "2022-06-06T19:40:33.575872Z"
    }
   },
   "outputs": [],
   "source": [
    "# creating columns with concat\n",
    "df.withColumn('concat', concat(df['team'], df['jersey_name'])).show(3)"
   ]
  },
  {
   "cell_type": "code",
   "execution_count": null,
   "id": "166fa7d0",
   "metadata": {
    "ExecuteTime": {
     "end_time": "2022-06-06T19:40:53.347933Z",
     "start_time": "2022-06-06T19:40:53.278470Z"
    }
   },
   "outputs": [],
   "source": [
    "# creating columns with concat_ws (with separator)\n",
    "df.withColumn('concat', concat_ws(' - ',df['team'], df['jersey_name'])).show(3)"
   ]
  },
  {
   "cell_type": "code",
   "execution_count": null,
   "id": "9dea9257",
   "metadata": {},
   "outputs": [],
   "source": []
  },
  {
   "cell_type": "code",
   "execution_count": null,
   "id": "d9911af1",
   "metadata": {},
   "outputs": [],
   "source": []
  }
 ],
 "metadata": {
  "kernelspec": {
   "display_name": "Python 3 (ipykernel)",
   "language": "python",
   "name": "python3"
  },
  "language_info": {
   "codemirror_mode": {
    "name": "ipython",
    "version": 3
   },
   "file_extension": ".py",
   "mimetype": "text/x-python",
   "name": "python",
   "nbconvert_exporter": "python",
   "pygments_lexer": "ipython3",
   "version": "3.8.10"
  },
  "nbTranslate": {
   "displayLangs": [
    "*"
   ],
   "hotkey": "alt-t",
   "langInMainMenu": true,
   "sourceLang": "en",
   "targetLang": "fr",
   "useGoogleTranslate": true
  },
  "toc": {
   "base_numbering": 1,
   "nav_menu": {},
   "number_sections": true,
   "sideBar": true,
   "skip_h1_title": false,
   "title_cell": "Table of Contents",
   "title_sidebar": "Contents",
   "toc_cell": false,
   "toc_position": {},
   "toc_section_display": true,
   "toc_window_display": false
  }
 },
 "nbformat": 4,
 "nbformat_minor": 5
}
