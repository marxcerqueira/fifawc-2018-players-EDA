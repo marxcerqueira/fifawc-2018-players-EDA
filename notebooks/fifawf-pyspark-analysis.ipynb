{
 "cells": [
  {
   "cell_type": "markdown",
   "id": "a636f7b2",
   "metadata": {},
   "source": [
    "**Fifa World Cup 2018 Players Exploratory Data Analysis with PySpark**"
   ]
  },
  {
   "cell_type": "markdown",
   "id": "29a61cce",
   "metadata": {
    "ExecuteTime": {
     "end_time": "2022-06-06T15:54:38.108686Z",
     "start_time": "2022-06-06T15:54:38.106649Z"
    }
   },
   "source": [
    "# Imports"
   ]
  },
  {
   "cell_type": "code",
   "execution_count": 84,
   "id": "0316c576",
   "metadata": {
    "ExecuteTime": {
     "end_time": "2022-06-08T22:05:01.012238Z",
     "start_time": "2022-06-08T22:05:01.007055Z"
    }
   },
   "outputs": [],
   "source": [
    "import pyspark\n",
    "from pyspark.sql           import SparkSession\n",
    "from pyspark.sql.functions import *\n",
    "from pyspark.sql.types     import *\n",
    "from pyspark.sql           import SQLContext\n",
    "from pyspark.sql.window    import Window # Importando window function\n",
    "\n",
    "import seaborn as sns\n",
    "import pandas  as pd\n",
    "\n",
    "from IPython.core.display    import HTML\n",
    "from IPython.display         import Image"
   ]
  },
  {
   "cell_type": "markdown",
   "id": "bfa80aa4",
   "metadata": {},
   "source": [
    "## Helper Functions/Variables"
   ]
  },
  {
   "cell_type": "code",
   "execution_count": 3,
   "id": "826e0e95",
   "metadata": {
    "ExecuteTime": {
     "end_time": "2022-06-08T20:07:57.837750Z",
     "start_time": "2022-06-08T20:07:57.833170Z"
    },
    "code_folding": []
   },
   "outputs": [],
   "source": [
    "# function to show dataframe dimensions\n",
    "def sparkShape(dataFrame):\n",
    "    return (dataFrame.count(), len(dataFrame.columns))\n",
    "\n",
    "# functions to change jupyter html for better reading and plots\n",
    "def jupyter_settings():\n",
    "    %matplotlib inline\n",
    "    %pylab inline\n",
    "    \n",
    "    plt.style.use( 'bmh' )\n",
    "    plt.rcParams['figure.figsize'] = [25, 12]\n",
    "    plt.rcParams['font.size'] = 24\n",
    "    \n",
    "    display( HTML( '<style>.container { width:100% !important; }</style>') )\n",
    "    pd.options.display.max_columns = None\n",
    "    pd.options.display.max_rows = None\n",
    "    pd.set_option( 'display.expand_frame_repr', False )\n",
    "    \n",
    "    sns.set()"
   ]
  },
  {
   "cell_type": "code",
   "execution_count": 4,
   "id": "e8a119dd",
   "metadata": {
    "ExecuteTime": {
     "end_time": "2022-06-08T20:07:59.561879Z",
     "start_time": "2022-06-08T20:07:59.556641Z"
    }
   },
   "outputs": [],
   "source": [
    "# Creating/Initiating Spark Session\n",
    "# SpakSession: it's useed to work with Spark\n",
    "spSession = (SparkSession.builder.master('local')\n",
    "                                .appName('fifa_analytics_01')\n",
    "                                .getOrCreate()\n",
    "            )"
   ]
  },
  {
   "cell_type": "code",
   "execution_count": 5,
   "id": "1664bbbc",
   "metadata": {
    "ExecuteTime": {
     "end_time": "2022-06-08T20:08:00.753305Z",
     "start_time": "2022-06-08T20:08:00.748621Z"
    }
   },
   "outputs": [],
   "source": [
    "# home path\n",
    "home_path = '/home/marxcerqueira/repos/fifawc-2018-players-EDA'"
   ]
  },
  {
   "cell_type": "code",
   "execution_count": 6,
   "id": "b85f20a4",
   "metadata": {
    "ExecuteTime": {
     "end_time": "2022-06-08T20:08:01.782324Z",
     "start_time": "2022-06-08T20:08:01.770686Z"
    },
    "scrolled": true
   },
   "outputs": [
    {
     "data": {
      "text/html": [
       "\n",
       "            <div>\n",
       "                <p><b>SparkSession - hive</b></p>\n",
       "                \n",
       "        <div>\n",
       "            <p><b>SparkContext</b></p>\n",
       "\n",
       "            <p><a href=\"http://192.168.15.5:4041\">Spark UI</a></p>\n",
       "\n",
       "            <dl>\n",
       "              <dt>Version</dt>\n",
       "                <dd><code>v3.0.3</code></dd>\n",
       "              <dt>Master</dt>\n",
       "                <dd><code>local[*]</code></dd>\n",
       "              <dt>AppName</dt>\n",
       "                <dd><code>PySparkShell</code></dd>\n",
       "            </dl>\n",
       "        </div>\n",
       "        \n",
       "            </div>\n",
       "        "
      ],
      "text/plain": [
       "<pyspark.sql.session.SparkSession at 0x7ff590d8b130>"
      ]
     },
     "execution_count": 6,
     "metadata": {},
     "output_type": "execute_result"
    }
   ],
   "source": [
    "spSession"
   ]
  },
  {
   "cell_type": "code",
   "execution_count": 8,
   "id": "46ccdd49",
   "metadata": {
    "ExecuteTime": {
     "end_time": "2022-06-08T20:08:06.002156Z",
     "start_time": "2022-06-08T20:08:05.987674Z"
    }
   },
   "outputs": [
    {
     "name": "stdout",
     "output_type": "stream",
     "text": [
      "%pylab is deprecated, use %matplotlib inline and import the required libraries.\n",
      "Populating the interactive namespace from numpy and matplotlib\n"
     ]
    },
    {
     "data": {
      "text/html": [
       "<style>.container { width:100% !important; }</style>"
      ],
      "text/plain": [
       "<IPython.core.display.HTML object>"
      ]
     },
     "metadata": {},
     "output_type": "display_data"
    }
   ],
   "source": [
    "jupyter_settings()"
   ]
  },
  {
   "cell_type": "markdown",
   "id": "b0218658",
   "metadata": {},
   "source": [
    "# Loading Data"
   ]
  },
  {
   "cell_type": "markdown",
   "id": "9027190c",
   "metadata": {},
   "source": [
    "**Context**\n",
    "The 2018 World Cup is an international football tournament.\n",
    "\n",
    "**Data**\n",
    "Confirmed list of FIFA 2018 World Cup players by country\n",
    "\n",
    "**Acknowledgements**\n",
    "Source: https://img.fifa.com/image/upload/hzfqyndmnqazczvc5xdb.pdf\n",
    "\n",
    "Banner Image: https://unsplash.com/photos/ChI4eUGTpeY\n",
    "\n",
    "Inspiration\n",
    "Who will the best team be in the 2018 World Cup?"
   ]
  },
  {
   "cell_type": "markdown",
   "id": "6ead0c06",
   "metadata": {},
   "source": [
    "**Notes:**\n",
    "- With Spark 2.0 a new class org.apache.spark.sql.SparkSession has been introduced which is a combined class for all different contexts we used to have prior to 2.0 release hence SparkSession will be used in replace with SQLContext, HiveContext."
   ]
  },
  {
   "cell_type": "code",
   "execution_count": 9,
   "id": "3e50f4fd",
   "metadata": {
    "ExecuteTime": {
     "end_time": "2022-06-08T20:08:13.075481Z",
     "start_time": "2022-06-08T20:08:10.274042Z"
    }
   },
   "outputs": [],
   "source": [
    "#loading trainig data and creating a RDD in memory with Spark\n",
    "df = spSession.read.csv(home_path + '/data/wc2018-players.csv', header=True, inferSchema=True)"
   ]
  },
  {
   "cell_type": "code",
   "execution_count": 9,
   "id": "ca962100",
   "metadata": {
    "ExecuteTime": {
     "end_time": "2022-06-06T21:28:38.752805Z",
     "start_time": "2022-06-06T21:28:38.583959Z"
    }
   },
   "outputs": [],
   "source": [
    "#creating Spark SQL Context to work with SQL\n",
    "sqlContext = SQLContext(sc)\n",
    "teste = sqlContext.read.csv(home_path + '/data/wc2018-players.csv', header=True, inferSchema=True)"
   ]
  },
  {
   "cell_type": "code",
   "execution_count": 10,
   "id": "cd5d054f",
   "metadata": {
    "ExecuteTime": {
     "end_time": "2022-06-06T21:28:39.985029Z",
     "start_time": "2022-06-06T21:28:39.980835Z"
    }
   },
   "outputs": [
    {
     "data": {
      "text/plain": [
       "pyspark.sql.dataframe.DataFrame"
      ]
     },
     "execution_count": 10,
     "metadata": {},
     "output_type": "execute_result"
    }
   ],
   "source": [
    "type(teste)"
   ]
  },
  {
   "cell_type": "code",
   "execution_count": 10,
   "id": "34ac09cc",
   "metadata": {
    "ExecuteTime": {
     "end_time": "2022-06-08T20:08:15.914417Z",
     "start_time": "2022-06-08T20:08:15.908107Z"
    }
   },
   "outputs": [
    {
     "data": {
      "text/plain": [
       "pyspark.sql.dataframe.DataFrame"
      ]
     },
     "execution_count": 10,
     "metadata": {},
     "output_type": "execute_result"
    }
   ],
   "source": [
    "#check df type\n",
    "type(df)"
   ]
  },
  {
   "cell_type": "code",
   "execution_count": 11,
   "id": "18ef0c5a",
   "metadata": {
    "ExecuteTime": {
     "end_time": "2022-06-08T20:08:19.846723Z",
     "start_time": "2022-06-08T20:08:19.637971Z"
    },
    "scrolled": true
   },
   "outputs": [
    {
     "name": "stdout",
     "output_type": "stream",
     "text": [
      "+---------+---+----+------------------+----------+----------+--------------------+------+------+\n",
      "|     Team|  #|Pos.| FIFA Popular Name|Birth Date|Shirt Name|                Club|Height|Weight|\n",
      "+---------+---+----+------------------+----------+----------+--------------------+------+------+\n",
      "|Argentina|  3|  DF|TAGLIAFICO Nicolas|31.08.1992|TAGLIAFICO|      AFC Ajax (NED)|   169|    65|\n",
      "|Argentina| 22|  MF|    PAVON Cristian|21.01.1996|     PAVÓN|CA Boca Juniors (...|   169|    65|\n",
      "|Argentina| 15|  MF|    LANZINI Manuel|15.02.1993|   LANZINI|West Ham United F...|   167|    66|\n",
      "|Argentina| 18|  DF|    SALVIO Eduardo|13.07.1990|    SALVIO|    SL Benfica (POR)|   167|    69|\n",
      "|Argentina| 10|  FW|      MESSI Lionel|24.06.1987|     MESSI|  FC Barcelona (ESP)|   170|    72|\n",
      "+---------+---+----+------------------+----------+----------+--------------------+------+------+\n",
      "only showing top 5 rows\n",
      "\n"
     ]
    }
   ],
   "source": [
    "# display 5 firsts rows of the dataframe\n",
    "df.show(5)"
   ]
  },
  {
   "cell_type": "code",
   "execution_count": 13,
   "id": "2f16694f",
   "metadata": {
    "ExecuteTime": {
     "end_time": "2022-06-06T21:28:44.746136Z",
     "start_time": "2022-06-06T21:28:44.663504Z"
    }
   },
   "outputs": [
    {
     "name": "stdout",
     "output_type": "stream",
     "text": [
      "+---------+---+----+------------------+----------+----------+--------------------+------+------+\n",
      "|     Team|  #|Pos.| FIFA Popular Name|Birth Date|Shirt Name|                Club|Height|Weight|\n",
      "+---------+---+----+------------------+----------+----------+--------------------+------+------+\n",
      "|Argentina|  3|  DF|TAGLIAFICO Nicolas|31.08.1992|TAGLIAFICO|      AFC Ajax (NED)|   169|    65|\n",
      "|Argentina| 22|  MF|    PAVON Cristian|21.01.1996|     PAVÓN|CA Boca Juniors (...|   169|    65|\n",
      "|Argentina| 15|  MF|    LANZINI Manuel|15.02.1993|   LANZINI|West Ham United F...|   167|    66|\n",
      "|Argentina| 18|  DF|    SALVIO Eduardo|13.07.1990|    SALVIO|    SL Benfica (POR)|   167|    69|\n",
      "|Argentina| 10|  FW|      MESSI Lionel|24.06.1987|     MESSI|  FC Barcelona (ESP)|   170|    72|\n",
      "+---------+---+----+------------------+----------+----------+--------------------+------+------+\n",
      "only showing top 5 rows\n",
      "\n"
     ]
    }
   ],
   "source": [
    "teste.show(5)"
   ]
  },
  {
   "cell_type": "markdown",
   "id": "f223e4e5",
   "metadata": {
    "ExecuteTime": {
     "end_time": "2022-06-06T16:14:53.310750Z",
     "start_time": "2022-06-06T16:14:53.308991Z"
    }
   },
   "source": [
    "# Data Description"
   ]
  },
  {
   "cell_type": "markdown",
   "id": "1abb7c90",
   "metadata": {},
   "source": [
    "## Rename Columns"
   ]
  },
  {
   "cell_type": "code",
   "execution_count": 12,
   "id": "f8845d35",
   "metadata": {
    "ExecuteTime": {
     "end_time": "2022-06-08T20:18:07.038063Z",
     "start_time": "2022-06-08T20:18:06.986818Z"
    }
   },
   "outputs": [],
   "source": [
    "# rename columns\n",
    "df = df.withColumnRenamed('Team', 'team')\\\n",
    ".withColumnRenamed('#', 'jersey_number')\\\n",
    ".withColumnRenamed('Pos.', 'position')\\\n",
    ".withColumnRenamed('FIFA Popular Name', 'players_name')\\\n",
    ".withColumnRenamed('Birth Date', 'birth_date')\\\n",
    ".withColumnRenamed('Shirt Name', 'jersey_name')\\\n",
    ".withColumnRenamed('Club', 'club')\\\n",
    ".withColumnRenamed('Height', 'height')\\\n",
    ".withColumnRenamed('Weight', 'weight')"
   ]
  },
  {
   "cell_type": "markdown",
   "id": "04c91fd4",
   "metadata": {},
   "source": [
    "## Data Dimension"
   ]
  },
  {
   "cell_type": "code",
   "execution_count": 13,
   "id": "a14c4837",
   "metadata": {
    "ExecuteTime": {
     "end_time": "2022-06-08T20:19:26.893415Z",
     "start_time": "2022-06-08T20:19:26.573407Z"
    }
   },
   "outputs": [
    {
     "data": {
      "text/plain": [
       "(736, 9)"
      ]
     },
     "execution_count": 13,
     "metadata": {},
     "output_type": "execute_result"
    }
   ],
   "source": [
    "# dataframe dimensions\n",
    "pyspark.sql.dataframe.DataFrame.shape = sparkShape\n",
    "df.shape()"
   ]
  },
  {
   "cell_type": "code",
   "execution_count": 14,
   "id": "add358ee",
   "metadata": {
    "ExecuteTime": {
     "end_time": "2022-06-08T20:19:28.910924Z",
     "start_time": "2022-06-08T20:19:28.792734Z"
    }
   },
   "outputs": [
    {
     "data": {
      "text/plain": [
       "(736, 9)"
      ]
     },
     "execution_count": 14,
     "metadata": {},
     "output_type": "execute_result"
    }
   ],
   "source": [
    "sparkShape(df)"
   ]
  },
  {
   "cell_type": "markdown",
   "id": "d4b214de",
   "metadata": {},
   "source": [
    "## Data Types"
   ]
  },
  {
   "cell_type": "code",
   "execution_count": 15,
   "id": "7ac6339b",
   "metadata": {
    "ExecuteTime": {
     "end_time": "2022-06-08T20:19:35.709575Z",
     "start_time": "2022-06-08T20:19:35.702426Z"
    },
    "scrolled": true
   },
   "outputs": [
    {
     "name": "stdout",
     "output_type": "stream",
     "text": [
      "root\n",
      " |-- team: string (nullable = true)\n",
      " |-- jersey_number: integer (nullable = true)\n",
      " |-- position: string (nullable = true)\n",
      " |-- players_name: string (nullable = true)\n",
      " |-- birth_date: string (nullable = true)\n",
      " |-- jersey_name: string (nullable = true)\n",
      " |-- club: string (nullable = true)\n",
      " |-- height: integer (nullable = true)\n",
      " |-- weight: integer (nullable = true)\n",
      "\n"
     ]
    }
   ],
   "source": [
    "# check columns types\n",
    "df.printSchema()"
   ]
  },
  {
   "cell_type": "code",
   "execution_count": 16,
   "id": "7f516166",
   "metadata": {
    "ExecuteTime": {
     "end_time": "2022-06-08T20:19:38.690183Z",
     "start_time": "2022-06-08T20:19:38.682436Z"
    }
   },
   "outputs": [
    {
     "data": {
      "text/plain": [
       "[('team', 'string'),\n",
       " ('jersey_number', 'int'),\n",
       " ('position', 'string'),\n",
       " ('players_name', 'string'),\n",
       " ('birth_date', 'string'),\n",
       " ('jersey_name', 'string'),\n",
       " ('club', 'string'),\n",
       " ('height', 'int'),\n",
       " ('weight', 'int')]"
      ]
     },
     "execution_count": 16,
     "metadata": {},
     "output_type": "execute_result"
    }
   ],
   "source": [
    "# other way to check it\n",
    "df.dtypes"
   ]
  },
  {
   "cell_type": "markdown",
   "id": "a1662f84",
   "metadata": {},
   "source": [
    "## Check NA Values"
   ]
  },
  {
   "cell_type": "code",
   "execution_count": 17,
   "id": "0f9ff90e",
   "metadata": {
    "ExecuteTime": {
     "end_time": "2022-06-08T20:21:03.255436Z",
     "start_time": "2022-06-08T20:21:03.033943Z"
    }
   },
   "outputs": [
    {
     "data": {
      "text/plain": [
       "team             0\n",
       "jersey_number    0\n",
       "position         0\n",
       "players_name     0\n",
       "birth_date       0\n",
       "jersey_name      0\n",
       "club             0\n",
       "height           0\n",
       "weight           0\n",
       "dtype: int64"
      ]
     },
     "execution_count": 17,
     "metadata": {},
     "output_type": "execute_result"
    }
   ],
   "source": [
    "#check na using pandas\n",
    "df.toPandas().isna().sum()"
   ]
  },
  {
   "cell_type": "code",
   "execution_count": 18,
   "id": "df58bb78",
   "metadata": {
    "ExecuteTime": {
     "end_time": "2022-06-08T20:21:51.272476Z",
     "start_time": "2022-06-08T20:21:50.173499Z"
    }
   },
   "outputs": [
    {
     "name": "stdout",
     "output_type": "stream",
     "text": [
      "team 0\n",
      "jersey_number 0\n",
      "position 0\n",
      "players_name 0\n",
      "birth_date 0\n",
      "jersey_name 0\n",
      "club 0\n",
      "height 0\n",
      "weight 0\n"
     ]
    }
   ],
   "source": [
    "#using pyspark filter\n",
    "for column in df.columns:\n",
    "    print(column, df.filter(df[column].isNull()).count())"
   ]
  },
  {
   "cell_type": "markdown",
   "id": "cc59f367",
   "metadata": {},
   "source": [
    "## Fillout NAs"
   ]
  },
  {
   "cell_type": "markdown",
   "id": "61563525",
   "metadata": {},
   "source": [
    "## Change Dtypes"
   ]
  },
  {
   "cell_type": "code",
   "execution_count": 31,
   "id": "cbfc3cbc",
   "metadata": {
    "ExecuteTime": {
     "end_time": "2022-06-08T20:24:58.571134Z",
     "start_time": "2022-06-08T20:24:58.548379Z"
    }
   },
   "outputs": [],
   "source": [
    "# replace . to - in birth_date column (str)\n",
    "df1 = df.withColumn('birth_date', translate('birth_date', '.', '-'))"
   ]
  },
  {
   "cell_type": "code",
   "execution_count": 32,
   "id": "576aac3b",
   "metadata": {
    "ExecuteTime": {
     "end_time": "2022-06-08T20:24:59.651871Z",
     "start_time": "2022-06-08T20:24:59.635286Z"
    }
   },
   "outputs": [],
   "source": [
    "# change birth date dtype to datetime\n",
    "df1 = df1.withColumn('birth_date', to_date('birth_date', 'dd-MM-yyyy'))"
   ]
  },
  {
   "cell_type": "code",
   "execution_count": 29,
   "id": "f2350274",
   "metadata": {
    "ExecuteTime": {
     "end_time": "2022-06-08T20:24:47.716088Z",
     "start_time": "2022-06-08T20:24:47.706261Z"
    }
   },
   "outputs": [
    {
     "data": {
      "text/plain": [
       "[('team', 'string'),\n",
       " ('jersey_number', 'int'),\n",
       " ('position', 'string'),\n",
       " ('players_name', 'string'),\n",
       " ('birth_date', 'date'),\n",
       " ('jersey_name', 'string'),\n",
       " ('club', 'string'),\n",
       " ('height', 'int'),\n",
       " ('weight', 'int')]"
      ]
     },
     "execution_count": 29,
     "metadata": {},
     "output_type": "execute_result"
    }
   ],
   "source": [
    "# checking dtypes after conversion\n",
    "df1.dtypes"
   ]
  },
  {
   "cell_type": "markdown",
   "id": "5f229ed7",
   "metadata": {},
   "source": [
    "## Descriptive Statistics"
   ]
  },
  {
   "cell_type": "code",
   "execution_count": 34,
   "id": "3dc73481",
   "metadata": {
    "ExecuteTime": {
     "end_time": "2022-06-08T20:28:45.463383Z",
     "start_time": "2022-06-08T20:28:45.170149Z"
    },
    "cell_style": "center",
    "scrolled": true
   },
   "outputs": [
    {
     "name": "stdout",
     "output_type": "stream",
     "text": [
      "+-------+-----------------+-----------------+-----------------+\n",
      "|summary|    jersey_number|           height|           weight|\n",
      "+-------+-----------------+-----------------+-----------------+\n",
      "|  count|              736|              736|              736|\n",
      "|   mean|             12.0|182.4076086956522|77.18885869565217|\n",
      "| stddev|6.637760461599851|6.930924233929302|7.233778346883639|\n",
      "|    min|                1|              165|               59|\n",
      "|    max|               23|              201|               99|\n",
      "+-------+-----------------+-----------------+-----------------+\n",
      "\n"
     ]
    }
   ],
   "source": [
    "# numeric features\n",
    "num_attributes_list = [item[0] for item in df.dtypes if item[1].startswith('int')]\n",
    "df.describe(num_attributes_list).show()"
   ]
  },
  {
   "cell_type": "code",
   "execution_count": 35,
   "id": "0a5faee6",
   "metadata": {
    "ExecuteTime": {
     "end_time": "2022-06-08T20:28:51.204258Z",
     "start_time": "2022-06-08T20:28:51.070207Z"
    }
   },
   "outputs": [
    {
     "name": "stdout",
     "output_type": "stream",
     "text": [
      "+-------+-----------------+-----------------+-----------------+\n",
      "|summary|    jersey_number|           height|           weight|\n",
      "+-------+-----------------+-----------------+-----------------+\n",
      "|  count|              736|              736|              736|\n",
      "|   mean|             12.0|182.4076086956522|77.18885869565217|\n",
      "| stddev|6.637760461599851|6.930924233929302|7.233778346883639|\n",
      "|    min|                1|              165|               59|\n",
      "|    max|               23|              201|               99|\n",
      "+-------+-----------------+-----------------+-----------------+\n",
      "\n"
     ]
    }
   ],
   "source": [
    "# other way\n",
    "df.select(num_attributes_list).describe().show()"
   ]
  },
  {
   "cell_type": "code",
   "execution_count": 36,
   "id": "1a882f10",
   "metadata": {
    "ExecuteTime": {
     "end_time": "2022-06-08T20:29:01.302130Z",
     "start_time": "2022-06-08T20:29:00.920185Z"
    }
   },
   "outputs": [
    {
     "name": "stdout",
     "output_type": "stream",
     "text": [
      "+-------+---------+--------+------------+----------+-----------+--------------------+\n",
      "|summary|     team|position|players_name|birth_date|jersey_name|                club|\n",
      "+-------+---------+--------+------------+----------+-----------+--------------------+\n",
      "|  count|      736|     736|         736|       736|        736|                 736|\n",
      "|   mean|     null|    null|        null|      null|       null|                null|\n",
      "| stddev|     null|    null|        null|      null|       null|                null|\n",
      "|    min|Argentina|      DF|ABDALLA SAID|01.01.1984|  A. ASHRAF|    1. FC Köln (GER)|\n",
      "|    max|  Uruguay|      MF|ZUBER Steven|31.10.1997|   ŽIVKOVIĆ|Étoile du Sahel (...|\n",
      "+-------+---------+--------+------------+----------+-----------+--------------------+\n",
      "\n"
     ]
    }
   ],
   "source": [
    "# categorical features\n",
    "cat_attributes_list = [item[0] for item in df.dtypes if item[1].startswith('str')]\n",
    "df.describe(cat_attributes_list).show()"
   ]
  },
  {
   "cell_type": "markdown",
   "id": "599832a6",
   "metadata": {},
   "source": [
    "# Data Filtering"
   ]
  },
  {
   "cell_type": "code",
   "execution_count": 37,
   "id": "a1f42a02",
   "metadata": {
    "ExecuteTime": {
     "end_time": "2022-06-08T20:29:21.617139Z",
     "start_time": "2022-06-08T20:29:21.607832Z"
    }
   },
   "outputs": [
    {
     "data": {
      "text/plain": [
       "['team',\n",
       " 'jersey_number',\n",
       " 'position',\n",
       " 'players_name',\n",
       " 'birth_date',\n",
       " 'jersey_name',\n",
       " 'club',\n",
       " 'height',\n",
       " 'weight']"
      ]
     },
     "execution_count": 37,
     "metadata": {},
     "output_type": "execute_result"
    }
   ],
   "source": [
    "#list columns\n",
    "df1.columns"
   ]
  },
  {
   "cell_type": "markdown",
   "id": "c0065d38",
   "metadata": {},
   "source": [
    "## ways of selecting specific columns for analysis"
   ]
  },
  {
   "cell_type": "code",
   "execution_count": 39,
   "id": "94fdd311",
   "metadata": {
    "ExecuteTime": {
     "end_time": "2022-06-08T20:30:29.178601Z",
     "start_time": "2022-06-08T20:30:29.111133Z"
    }
   },
   "outputs": [
    {
     "name": "stdout",
     "output_type": "stream",
     "text": [
      "+------------------+---------+--------------------+\n",
      "|      players_name|     team|                club|\n",
      "+------------------+---------+--------------------+\n",
      "|TAGLIAFICO Nicolas|Argentina|      AFC Ajax (NED)|\n",
      "|    PAVON Cristian|Argentina|CA Boca Juniors (...|\n",
      "|    LANZINI Manuel|Argentina|West Ham United F...|\n",
      "|    SALVIO Eduardo|Argentina|    SL Benfica (POR)|\n",
      "|      MESSI Lionel|Argentina|  FC Barcelona (ESP)|\n",
      "+------------------+---------+--------------------+\n",
      "only showing top 5 rows\n",
      "\n"
     ]
    }
   ],
   "source": [
    "# using select, and we can organize by order of the column\n",
    "df1.select('players_name', 'team', 'club').show(5)"
   ]
  },
  {
   "cell_type": "code",
   "execution_count": 38,
   "id": "650fe347",
   "metadata": {
    "ExecuteTime": {
     "end_time": "2022-06-08T20:30:27.009923Z",
     "start_time": "2022-06-08T20:30:26.929372Z"
    }
   },
   "outputs": [
    {
     "name": "stdout",
     "output_type": "stream",
     "text": [
      "+------------------+---------+\n",
      "|      players_name|     team|\n",
      "+------------------+---------+\n",
      "|TAGLIAFICO Nicolas|Argentina|\n",
      "|    PAVON Cristian|Argentina|\n",
      "|    LANZINI Manuel|Argentina|\n",
      "|    SALVIO Eduardo|Argentina|\n",
      "|      MESSI Lionel|Argentina|\n",
      "+------------------+---------+\n",
      "only showing top 5 rows\n",
      "\n"
     ]
    }
   ],
   "source": [
    "df1.select(col('players_name'), col('team')).show(5)"
   ]
  },
  {
   "cell_type": "code",
   "execution_count": 40,
   "id": "953cc55c",
   "metadata": {
    "ExecuteTime": {
     "end_time": "2022-06-08T20:30:44.365934Z",
     "start_time": "2022-06-08T20:30:44.300092Z"
    }
   },
   "outputs": [
    {
     "name": "stdout",
     "output_type": "stream",
     "text": [
      "+------------------+---------+\n",
      "|      players_name|     team|\n",
      "+------------------+---------+\n",
      "|TAGLIAFICO Nicolas|Argentina|\n",
      "|    PAVON Cristian|Argentina|\n",
      "|    LANZINI Manuel|Argentina|\n",
      "|    SALVIO Eduardo|Argentina|\n",
      "|      MESSI Lionel|Argentina|\n",
      "+------------------+---------+\n",
      "only showing top 5 rows\n",
      "\n"
     ]
    }
   ],
   "source": [
    "df1.select(df['players_name'], df['team']).show(5)"
   ]
  },
  {
   "cell_type": "code",
   "execution_count": 41,
   "id": "3ede9a56",
   "metadata": {
    "ExecuteTime": {
     "end_time": "2022-06-08T20:30:48.512520Z",
     "start_time": "2022-06-08T20:30:48.449631Z"
    }
   },
   "outputs": [
    {
     "name": "stdout",
     "output_type": "stream",
     "text": [
      "+---------+\n",
      "|     time|\n",
      "+---------+\n",
      "|Argentina|\n",
      "|Argentina|\n",
      "|Argentina|\n",
      "|Argentina|\n",
      "|Argentina|\n",
      "+---------+\n",
      "only showing top 5 rows\n",
      "\n"
     ]
    }
   ],
   "source": [
    "# calling a column with alias\n",
    "df1.select(df['team'].alias('time')).show(5)"
   ]
  },
  {
   "cell_type": "code",
   "execution_count": 42,
   "id": "82f94b66",
   "metadata": {
    "ExecuteTime": {
     "end_time": "2022-06-08T20:30:54.304730Z",
     "start_time": "2022-06-08T20:30:53.790445Z"
    }
   },
   "outputs": [
    {
     "name": "stdout",
     "output_type": "stream",
     "text": [
      "+--------------+\n",
      "|          team|\n",
      "+--------------+\n",
      "|     Argentina|\n",
      "|     Australia|\n",
      "|       Belgium|\n",
      "|        Brazil|\n",
      "|      Colombia|\n",
      "|    Costa Rica|\n",
      "|       Croatia|\n",
      "|       Denmark|\n",
      "|         Egypt|\n",
      "|       England|\n",
      "|        France|\n",
      "|       Germany|\n",
      "|       IR Iran|\n",
      "|       Iceland|\n",
      "|         Japan|\n",
      "|Korea Republic|\n",
      "|        Mexico|\n",
      "|       Morocco|\n",
      "|       Nigeria|\n",
      "|        Panama|\n",
      "|          Peru|\n",
      "|        Poland|\n",
      "|      Portugal|\n",
      "|        Russia|\n",
      "|  Saudi Arabia|\n",
      "+--------------+\n",
      "only showing top 25 rows\n",
      "\n"
     ]
    }
   ],
   "source": [
    "#checkin country names in the dataset\n",
    "df1.select('team').distinct().orderBy('team').show(25)"
   ]
  },
  {
   "cell_type": "markdown",
   "id": "e297e4d3",
   "metadata": {},
   "source": [
    "## Filtering dataframe"
   ]
  },
  {
   "cell_type": "code",
   "execution_count": 43,
   "id": "9fbc4fd6",
   "metadata": {
    "ExecuteTime": {
     "end_time": "2022-06-08T20:31:03.164732Z",
     "start_time": "2022-06-08T20:31:02.985041Z"
    },
    "scrolled": false
   },
   "outputs": [
    {
     "name": "stdout",
     "output_type": "stream",
     "text": [
      "+------+-------------+--------+-----------------+----------+-----------+--------------------+------+------+\n",
      "|  team|jersey_number|position|     players_name|birth_date|jersey_name|                club|height|weight|\n",
      "+------+-------------+--------+-----------------+----------+-----------+--------------------+------+------+\n",
      "|Brazil|           18|      MF|             FRED|1993-03-05|       FRED|FC Shakhtar Donet...|   169|    64|\n",
      "|Brazil|           21|      FW|           TAISON|1988-01-13|     TAISON|FC Shakhtar Donet...|   172|    64|\n",
      "|Brazil|           17|      MF|      FERNANDINHO|1985-05-04|FERNANDINHO|Manchester City F...|   179|    67|\n",
      "|Brazil|           22|      DF|           FAGNER|1989-06-11|     FAGNER|SC Corinthians (BRA)|   168|    67|\n",
      "|Brazil|           10|      FW|           NEYMAR|1992-02-05|  NEYMAR JR|Paris Saint-Germa...|   175|    68|\n",
      "|Brazil|           11|      MF|PHILIPPE COUTINHO|1992-06-12|P. COUTINHO|  FC Barcelona (ESP)|   172|    68|\n",
      "|Brazil|            7|      FW|    DOUGLAS COSTA|1990-09-14|   D. COSTA|   Juventus FC (ITA)|   182|    70|\n",
      "|Brazil|            6|      DF|      FILIPE LUIS|1985-08-09|FILIPE LUIS|Atletico Madrid (...|   182|    73|\n",
      "|Brazil|            9|      FW|    GABRIEL JESUS|1997-04-03|   G. JESUS|Manchester City F...|   175|    73|\n",
      "|Brazil|           13|      DF|       MARQUINHOS|1994-05-14| MARQUINHOS|Paris Saint-Germa...|   183|    75|\n",
      "+------+-------------+--------+-----------------+----------+-----------+--------------------+------+------+\n",
      "only showing top 10 rows\n",
      "\n"
     ]
    }
   ],
   "source": [
    "# get only brazilian team\n",
    "df1.filter('team = \"Brazil\"').show(10)"
   ]
  },
  {
   "cell_type": "code",
   "execution_count": 44,
   "id": "19436a72",
   "metadata": {
    "ExecuteTime": {
     "end_time": "2022-06-08T20:31:13.589343Z",
     "start_time": "2022-06-08T20:31:13.513677Z"
    }
   },
   "outputs": [
    {
     "data": {
      "text/plain": [
       "23"
      ]
     },
     "execution_count": 44,
     "metadata": {},
     "output_type": "execute_result"
    }
   ],
   "source": [
    "# number of brazilian players\n",
    "df1.filter('team = \"Brazil\"').count()"
   ]
  },
  {
   "cell_type": "code",
   "execution_count": 45,
   "id": "1652b8bd",
   "metadata": {
    "ExecuteTime": {
     "end_time": "2022-06-08T20:32:15.922844Z",
     "start_time": "2022-06-08T20:32:15.802325Z"
    },
    "scrolled": false
   },
   "outputs": [
    {
     "name": "stdout",
     "output_type": "stream",
     "text": [
      "+---------+-------------+--------+------------------+----------+-----------+--------------------+------+------+\n",
      "|     team|jersey_number|position|      players_name|birth_date|jersey_name|                club|height|weight|\n",
      "+---------+-------------+--------+------------------+----------+-----------+--------------------+------+------+\n",
      "|Argentina|            6|      DF|    FAZIO Federico|1987-03-17|      FAZIO|       AS Roma (ITA)|   199|    85|\n",
      "|Argentina|            1|      GK|     GUZMAN Nahuel|1986-02-10|     GUZMÁN|   Tigres UANL (MEX)|   192|    90|\n",
      "|Argentina|           12|      GK|     ARMANI Franco|1986-10-16|     ARMANI|CA River Plate (ARG)|   189|    85|\n",
      "|Argentina|           16|      DF|       ROJO Marcos|1990-03-20|       ROJO|Manchester United...|   189|    82|\n",
      "|Argentina|           23|      GK|CABALLERO Wilfredo|1981-09-28|  CABALLERO|    Chelsea FC (ENG)|   186|    80|\n",
      "|Argentina|            9|      FW|   HIGUAIN Gonzalo|1987-12-10|    HIGUAÍN|   Juventus FC (ITA)|   184|    75|\n",
      "|Argentina|            4|      DF|  ANSALDI Cristian|1986-09-20|    ANSALDI|     Torino FC (ITA)|   181|    73|\n",
      "|Argentina|            2|      DF|   MERCADO Gabriel|1987-03-18|    MERCADO|    Sevilla FC (ESP)|   181|    81|\n",
      "|Argentina|           17|      DF|  OTAMENDI Nicolas|1988-02-12|   OTAMENDI|Manchester City F...|   181|    81|\n",
      "+---------+-------------+--------+------------------+----------+-----------+--------------------+------+------+\n",
      "\n"
     ]
    }
   ],
   "source": [
    "# filtering with 2 conditions\n",
    "# get argentinians taller than 180 (& condition)\n",
    "df1.filter((df1['team']=='Argentina') & (df1['height'] > 180)).orderBy('height', ascending = False).show()"
   ]
  },
  {
   "cell_type": "code",
   "execution_count": 46,
   "id": "0fdc257b",
   "metadata": {
    "ExecuteTime": {
     "end_time": "2022-06-08T20:32:29.546466Z",
     "start_time": "2022-06-08T20:32:29.452469Z"
    },
    "scrolled": true
   },
   "outputs": [
    {
     "name": "stdout",
     "output_type": "stream",
     "text": [
      "+------+-------------+--------+--------------+----------+-----------+--------------------+------+------+\n",
      "|  team|jersey_number|position|  players_name|birth_date|jersey_name|                club|height|weight|\n",
      "+------+-------------+--------+--------------+----------+-----------+--------------------+------+------+\n",
      "|Brazil|            7|      FW| DOUGLAS COSTA|1990-09-14|   D. COSTA|   Juventus FC (ITA)|   182|    70|\n",
      "|Brazil|            6|      DF|   FILIPE LUIS|1985-08-09|FILIPE LUIS|Atletico Madrid (...|   182|    73|\n",
      "|Brazil|            9|      FW| GABRIEL JESUS|1997-04-03|   G. JESUS|Manchester City F...|   175|    73|\n",
      "|Brazil|            3|      DF|       MIRANDA|1984-09-07|    MIRANDA|FC Internazionale...|   186|    78|\n",
      "|Brazil|            2|      DF|  THIAGO SILVA|1984-09-22|   T. SILVA|Paris Saint-Germa...|   183|    79|\n",
      "|Brazil|            4|      DF| PEDRO GEROMEL|1985-09-21|    GEROMEL|   Grêmio FBPA (BRA)|   190|    84|\n",
      "|Brazil|            5|      MF|      CASEMIRO|1992-02-23|   CASEMIRO|Real Madrid CF (ESP)|   185|    84|\n",
      "|Brazil|            8|      MF|RENATO AUGUSTO|1988-02-08| R. AUGUSTO| Beijing Guoan (CHN)|   186|    86|\n",
      "|Brazil|            1|      GK|       ALISSON|1992-10-02|  A. BECKER|       AS Roma (ITA)|   193|    91|\n",
      "+------+-------------+--------+--------------+----------+-----------+--------------------+------+------+\n",
      "\n"
     ]
    }
   ],
   "source": [
    "# other way of filtering with 2 conditions\n",
    "df1.filter(df1['team'] == 'Brazil').filter(df1['jersey_number'] < 10).show()"
   ]
  },
  {
   "cell_type": "code",
   "execution_count": 47,
   "id": "9fced20a",
   "metadata": {
    "ExecuteTime": {
     "end_time": "2022-06-08T20:32:40.579057Z",
     "start_time": "2022-06-08T20:32:40.471619Z"
    }
   },
   "outputs": [
    {
     "name": "stdout",
     "output_type": "stream",
     "text": [
      "+---------+-------------+--------+------------------+----------+-----------+--------------------+------+------+\n",
      "|     team|jersey_number|position|      players_name|birth_date|jersey_name|                club|height|weight|\n",
      "+---------+-------------+--------+------------------+----------+-----------+--------------------+------+------+\n",
      "|Argentina|           18|      DF|    SALVIO Eduardo|1990-07-13|     SALVIO|    SL Benfica (POR)|   167|    69|\n",
      "|Argentina|           10|      FW|      MESSI Lionel|1987-06-24|      MESSI|  FC Barcelona (ESP)|   170|    72|\n",
      "|Argentina|            6|      DF|    FAZIO Federico|1987-03-17|      FAZIO|       AS Roma (ITA)|   199|    85|\n",
      "|  Belgium|            1|      GK|  COURTOIS Thibaut|1992-05-11|   COURTOIS|    Chelsea FC (ENG)|   199|    91|\n",
      "|  Croatia|           12|      GK|     KALINIC Lovre|1990-04-03| L. KALINIĆ|      KAA Gent (BEL)|   201|    96|\n",
      "|  Denmark|            3|      DF|VESTERGAARD Jannik|1992-08-03|VESTERGAARD|VfL Borussia Mönc...|   200|    98|\n",
      "+---------+-------------+--------+------------------+----------+-----------+--------------------+------+------+\n",
      "\n"
     ]
    }
   ],
   "source": [
    "# using OR condition\n",
    "df1.filter((df1['players_name'] == 'MESSI Lionel') | (df1['players_name'] == 'SALVIO Eduardo') | (df1['height'] >= 199)).show()"
   ]
  },
  {
   "cell_type": "code",
   "execution_count": 48,
   "id": "d95220be",
   "metadata": {
    "ExecuteTime": {
     "end_time": "2022-06-08T20:32:49.587330Z",
     "start_time": "2022-06-08T20:32:49.483821Z"
    },
    "scrolled": true
   },
   "outputs": [
    {
     "name": "stdout",
     "output_type": "stream",
     "text": [
      "+-------+-------------+--------+----------------+----------+-----------+--------------------+------+------+\n",
      "|   team|jersey_number|position|    players_name|birth_date|jersey_name|                club|height|weight|\n",
      "+-------+-------------+--------+----------------+----------+-----------+--------------------+------+------+\n",
      "|Belgium|            1|      GK|COURTOIS Thibaut|1992-05-11|   COURTOIS|    Chelsea FC (ENG)|   199|    91|\n",
      "| Brazil|           22|      DF|          FAGNER|1989-06-11|     FAGNER|SC Corinthians (BRA)|   168|    67|\n",
      "| Brazil|            6|      DF|     FILIPE LUIS|1985-08-09|FILIPE LUIS|Atletico Madrid (...|   182|    73|\n",
      "| Brazil|           13|      DF|      MARQUINHOS|1994-05-14| MARQUINHOS|Paris Saint-Germa...|   183|    75|\n",
      "| Brazil|            3|      DF|         MIRANDA|1984-09-07|    MIRANDA|FC Internazionale...|   186|    78|\n",
      "| Brazil|           14|      DF|          DANILO|1991-07-15|     DANILO|Manchester City F...|   184|    78|\n",
      "| Brazil|            2|      DF|    THIAGO SILVA|1984-09-22|   T. SILVA|Paris Saint-Germa...|   183|    79|\n",
      "| Brazil|           12|      DF|         MARCELO|1988-05-12|    MARCELO|Real Madrid CF (ESP)|   174|    80|\n",
      "| Brazil|            4|      DF|   PEDRO GEROMEL|1985-09-21|    GEROMEL|   Grêmio FBPA (BRA)|   190|    84|\n",
      "+-------+-------------+--------+----------------+----------+-----------+--------------------+------+------+\n",
      "\n"
     ]
    }
   ],
   "source": [
    "# using & e |\n",
    "# getting all defensive brazilian players or belgium player with 199 of height\n",
    "df1.filter((df1['position'] == 'DF') & (df1['team']== 'Brazil') | (df1['height'] == 199) & (df1['team'] == 'Belgium')).show()"
   ]
  },
  {
   "cell_type": "markdown",
   "id": "17cd1a0e",
   "metadata": {},
   "source": [
    "# Feature Engineering"
   ]
  },
  {
   "cell_type": "code",
   "execution_count": 134,
   "id": "9b31c68c",
   "metadata": {
    "ExecuteTime": {
     "end_time": "2022-06-08T22:53:45.340954Z",
     "start_time": "2022-06-08T22:53:45.279018Z"
    },
    "scrolled": true
   },
   "outputs": [],
   "source": [
    "# feature engineering\n",
    "# creating new columns due business coinstraints\n",
    "\n",
    "# world cup year\n",
    "df2 = df1.withColumn('world_cup', lit(2018))\n",
    "\n",
    "# IMC\n",
    "df2 = df2.withColumn('IMC', lit(df2['weight']/((df2['height']/100)*(df2['height']/100))))\n",
    "\n",
    "#birth_year\n",
    "df2 = df2.withColumn('birth_year', year(df2['birth_date']))\n",
    "# df1 = df_student.withColumn('birth_month',month(df_student.birthday))\n",
    "\n",
    "# birth month\n",
    "df2 = df2.withColumn('birth_month', month(df2['birth_date']))\n",
    "\n",
    "# day of year\n",
    "df2 = df2.withColumn('day_year', dayofyear(df2['birth_date']))\n",
    "\n",
    "# day of month\n",
    "df2 = df2.withColumn('day_month', dayofmonth(df2['birth_date']))\n",
    "\n",
    "# week of year\n",
    "df2 = df2.withColumn('week_of_year',weekofyear(df2['birth_date']))\n",
    "\n",
    "# age\n",
    "df2 = df2.withColumn('age', floor(datediff(current_date(), 'birth_date'))/365.25)"
   ]
  },
  {
   "cell_type": "code",
   "execution_count": 135,
   "id": "d53508ef",
   "metadata": {
    "ExecuteTime": {
     "end_time": "2022-06-08T22:53:48.136386Z",
     "start_time": "2022-06-08T22:53:48.082364Z"
    },
    "scrolled": false
   },
   "outputs": [
    {
     "name": "stdout",
     "output_type": "stream",
     "text": [
      "+---------+-------------+--------+------------------+----------+-----------+--------------------+------+------+---------+------------------+----------+-----------+--------+---------+------------+------------------+\n",
      "|     team|jersey_number|position|      players_name|birth_date|jersey_name|                club|height|weight|world_cup|               IMC|birth_year|birth_month|day_year|day_month|week_of_year|               age|\n",
      "+---------+-------------+--------+------------------+----------+-----------+--------------------+------+------+---------+------------------+----------+-----------+--------+---------+------------+------------------+\n",
      "|Argentina|            3|      DF|TAGLIAFICO Nicolas|1992-08-31| TAGLIAFICO|      AFC Ajax (NED)|   169|    65|     2018|22.758306781975424|      1992|          8|     244|       31|          36| 29.76865160848734|\n",
      "|Argentina|           22|      MF|    PAVON Cristian|1996-01-21|      PAVÓN|CA Boca Juniors (...|   169|    65|     2018|22.758306781975424|      1996|          1|      21|       21|           3|26.379192334017795|\n",
      "|Argentina|           15|      MF|    LANZINI Manuel|1993-02-15|    LANZINI|West Ham United F...|   167|    66|     2018| 23.66524436157625|      1993|          2|      46|       15|           7|29.308692676249144|\n",
      "|Argentina|           18|      DF|    SALVIO Eduardo|1990-07-13|     SALVIO|    SL Benfica (POR)|   167|    69|     2018|24.740937287102444|      1990|          7|     194|       13|          28|31.904175222450377|\n",
      "|Argentina|           10|      FW|      MESSI Lionel|1987-06-24|      MESSI|  FC Barcelona (ESP)|   170|    72|     2018|24.913494809688583|      1987|          6|     175|       24|          26| 34.95687885010267|\n",
      "+---------+-------------+--------+------------------+----------+-----------+--------------------+------+------+---------+------------------+----------+-----------+--------+---------+------------+------------------+\n",
      "only showing top 5 rows\n",
      "\n"
     ]
    }
   ],
   "source": [
    "df2.show(5)"
   ]
  },
  {
   "cell_type": "code",
   "execution_count": null,
   "id": "21af19b6",
   "metadata": {},
   "outputs": [],
   "source": [
    "+---------+-------------+--------+------------------+----------+-----------+--------------------+------+------+---------+------------------+----------+-----------+--------+---------+------------+------------------+\n",
    "|     team|jersey_number|position|      players_name|birth_date|jersey_name|                club|height|weight|world_cup|               IMC|birth_year|birth_month|day_year|day_month|week_of_year|               age|\n",
    "+---------+-------------+--------+------------------+----------+-----------+--------------------+------+------+---------+------------------+----------+-----------+--------+---------+------------+------------------+\n",
    "|Argentina|            3|      DF|TAGLIAFICO Nicolas|1992-08-31| TAGLIAFICO|      AFC Ajax (NED)|   169|    65|     2018|22.758306781975424|      1992|          8|     244|       31|          36| 29.76865160848734|\n",
    "|Argentina|           22|      MF|    PAVON Cristian|1996-01-21|      PAVÓN|CA Boca Juniors (...|   169|    65|     2018|22.758306781975424|      1996|          1|      21|       21|           3|26.379192334017795|\n",
    "|Argentina|           15|      MF|    LANZINI Manuel|1993-02-15|    LANZINI|West Ham United F...|   167|    66|     2018| 23.66524436157625|      1993|          2|      46|       15|           7|29.308692676249144|\n",
    "|Argentina|           18|      DF|    SALVIO Eduardo|1990-07-13|     SALVIO|    SL Benfica (POR)|   167|    69|     2018|24.740937287102444|      1990|          7|     194|       13|          28|31.904175222450377|\n",
    "|Argentina|           10|      FW|      MESSI Lionel|1987-06-24|      MESSI|  FC Barcelona (ESP)|   170|    72|     2018|24.913494809688583|      1987|          6|     175|       24|          26| 34.95687885010267|\n",
    "+---------+-------------+--------+------------------+----------+-----------+--------------------+------+------+---------+------------------+----------+-----------+--------+---------+------------+------------------+"
   ]
  },
  {
   "cell_type": "code",
   "execution_count": 62,
   "id": "72a49cf7",
   "metadata": {
    "ExecuteTime": {
     "end_time": "2022-06-08T21:00:57.402938Z",
     "start_time": "2022-06-08T21:00:57.342687Z"
    }
   },
   "outputs": [
    {
     "name": "stdout",
     "output_type": "stream",
     "text": [
      "+---------+-------------+--------+------------------+----------+-----------+--------------------+------+------+---+\n",
      "|     team|jersey_number|position|      players_name|birth_date|jersey_name|                club|height|weight|sub|\n",
      "+---------+-------------+--------+------------------+----------+-----------+--------------------+------+------+---+\n",
      "|Argentina|            3|      DF|TAGLIAFICO Nicolas|31.08.1992| TAGLIAFICO|      AFC Ajax (NED)|   169|    65|Arg|\n",
      "|Argentina|           22|      MF|    PAVON Cristian|21.01.1996|      PAVÓN|CA Boca Juniors (...|   169|    65|Arg|\n",
      "|Argentina|           15|      MF|    LANZINI Manuel|15.02.1993|    LANZINI|West Ham United F...|   167|    66|Arg|\n",
      "|Argentina|           18|      DF|    SALVIO Eduardo|13.07.1990|     SALVIO|    SL Benfica (POR)|   167|    69|Arg|\n",
      "|Argentina|           10|      FW|      MESSI Lionel|24.06.1987|      MESSI|  FC Barcelona (ESP)|   170|    72|Arg|\n",
      "+---------+-------------+--------+------------------+----------+-----------+--------------------+------+------+---+\n",
      "only showing top 5 rows\n",
      "\n"
     ]
    }
   ],
   "source": [
    "# create columns with condition (using function substring)\n",
    "df.withColumn('sub', substring(df['team'], 1, 3)).show(5)"
   ]
  },
  {
   "cell_type": "code",
   "execution_count": 64,
   "id": "d30d3385",
   "metadata": {
    "ExecuteTime": {
     "end_time": "2022-06-08T21:01:13.851484Z",
     "start_time": "2022-06-08T21:01:13.774399Z"
    }
   },
   "outputs": [
    {
     "name": "stdout",
     "output_type": "stream",
     "text": [
      "+---------+-------------+--------+------------------+----------+-----------+--------------------+------+------+-------------------+\n",
      "|     team|jersey_number|position|      players_name|birth_date|jersey_name|                club|height|weight|             concat|\n",
      "+---------+-------------+--------+------------------+----------+-----------+--------------------+------+------+-------------------+\n",
      "|Argentina|            3|      DF|TAGLIAFICO Nicolas|31.08.1992| TAGLIAFICO|      AFC Ajax (NED)|   169|    65|ArgentinaTAGLIAFICO|\n",
      "|Argentina|           22|      MF|    PAVON Cristian|21.01.1996|      PAVÓN|CA Boca Juniors (...|   169|    65|     ArgentinaPAVÓN|\n",
      "|Argentina|           15|      MF|    LANZINI Manuel|15.02.1993|    LANZINI|West Ham United F...|   167|    66|   ArgentinaLANZINI|\n",
      "+---------+-------------+--------+------------------+----------+-----------+--------------------+------+------+-------------------+\n",
      "only showing top 3 rows\n",
      "\n"
     ]
    }
   ],
   "source": [
    "# creating columns with concat\n",
    "df.withColumn('concat', concat(df['team'], df['jersey_name'])).show(3)"
   ]
  },
  {
   "cell_type": "code",
   "execution_count": 65,
   "id": "166fa7d0",
   "metadata": {
    "ExecuteTime": {
     "end_time": "2022-06-08T21:01:19.005015Z",
     "start_time": "2022-06-08T21:01:18.934864Z"
    }
   },
   "outputs": [
    {
     "name": "stdout",
     "output_type": "stream",
     "text": [
      "+---------+-------------+--------+------------------+----------+-----------+--------------------+------+------+--------------------+\n",
      "|     team|jersey_number|position|      players_name|birth_date|jersey_name|                club|height|weight|              concat|\n",
      "+---------+-------------+--------+------------------+----------+-----------+--------------------+------+------+--------------------+\n",
      "|Argentina|            3|      DF|TAGLIAFICO Nicolas|31.08.1992| TAGLIAFICO|      AFC Ajax (NED)|   169|    65|Argentina - TAGLI...|\n",
      "|Argentina|           22|      MF|    PAVON Cristian|21.01.1996|      PAVÓN|CA Boca Juniors (...|   169|    65|   Argentina - PAVÓN|\n",
      "|Argentina|           15|      MF|    LANZINI Manuel|15.02.1993|    LANZINI|West Ham United F...|   167|    66| Argentina - LANZINI|\n",
      "+---------+-------------+--------+------------------+----------+-----------+--------------------+------+------+--------------------+\n",
      "only showing top 3 rows\n",
      "\n"
     ]
    }
   ],
   "source": [
    "# creating columns with concat_ws (with separator)\n",
    "df.withColumn('concat', concat_ws(' - ',df['team'], df['jersey_name'])).show(3)"
   ]
  },
  {
   "cell_type": "markdown",
   "id": "e01e1dce",
   "metadata": {},
   "source": [
    "# Exploratory Data Analysis"
   ]
  },
  {
   "cell_type": "markdown",
   "id": "4eb15385",
   "metadata": {},
   "source": [
    "- using SQL Window Functions for studying"
   ]
  },
  {
   "cell_type": "markdown",
   "id": "387193cf",
   "metadata": {},
   "source": [
    "## Window Ranking Functions\n",
    "\n",
    "- Window Function 1 - Number of rows - row_number()\n",
    "- Window Function 2 - Ranking 1 - rank()\n",
    "- Window Function 3 - Ranking 2 - dense_rank()\n",
    "- Window Function 4 - Percentage Ranking - percent_rank()\n",
    "- Window Function 5 - 'N' parts partition - ntile()"
   ]
  },
  {
   "cell_type": "code",
   "execution_count": 142,
   "id": "e829d4c0",
   "metadata": {
    "ExecuteTime": {
     "end_time": "2022-06-08T22:58:40.858167Z",
     "start_time": "2022-06-08T22:58:40.856554Z"
    }
   },
   "outputs": [],
   "source": [
    "df3 = df2"
   ]
  },
  {
   "cell_type": "markdown",
   "id": "56e2c3e3",
   "metadata": {},
   "source": [
    "### row_number()"
   ]
  },
  {
   "cell_type": "code",
   "execution_count": 143,
   "id": "7596123f",
   "metadata": {
    "ExecuteTime": {
     "end_time": "2022-06-08T22:58:43.760229Z",
     "start_time": "2022-06-08T22:58:43.751516Z"
    },
    "scrolled": true
   },
   "outputs": [
    {
     "data": {
      "text/plain": [
       "['team',\n",
       " 'jersey_number',\n",
       " 'position',\n",
       " 'players_name',\n",
       " 'birth_date',\n",
       " 'jersey_name',\n",
       " 'club',\n",
       " 'height',\n",
       " 'weight',\n",
       " 'world_cup',\n",
       " 'IMC',\n",
       " 'birth_year',\n",
       " 'birth_month',\n",
       " 'day_year',\n",
       " 'day_month',\n",
       " 'week_of_year',\n",
       " 'age']"
      ]
     },
     "execution_count": 143,
     "metadata": {},
     "output_type": "execute_result"
    }
   ],
   "source": [
    "df3.columns"
   ]
  },
  {
   "cell_type": "code",
   "execution_count": 93,
   "id": "5bfbe01e",
   "metadata": {
    "ExecuteTime": {
     "end_time": "2022-06-08T22:10:37.856593Z",
     "start_time": "2022-06-08T22:10:37.684950Z"
    },
    "scrolled": true
   },
   "outputs": [
    {
     "name": "stdout",
     "output_type": "stream",
     "text": [
      "+-------+------+---+\n",
      "|   team|height|  n|\n",
      "+-------+------+---+\n",
      "| Russia|   196|  1|\n",
      "| Russia|   191|  2|\n",
      "| Russia|   191|  3|\n",
      "| Russia|   190|  4|\n",
      "| Russia|   190|  5|\n",
      "| Russia|   189|  6|\n",
      "| Russia|   187|  7|\n",
      "| Russia|   187|  8|\n",
      "| Russia|   186|  9|\n",
      "| Russia|   185| 10|\n",
      "| Russia|   185| 11|\n",
      "| Russia|   185| 12|\n",
      "| Russia|   185| 13|\n",
      "| Russia|   184| 14|\n",
      "| Russia|   182| 15|\n",
      "| Russia|   182| 16|\n",
      "| Russia|   180| 17|\n",
      "| Russia|   180| 18|\n",
      "| Russia|   179| 19|\n",
      "| Russia|   178| 20|\n",
      "| Russia|   178| 21|\n",
      "| Russia|   178| 22|\n",
      "| Russia|   173| 23|\n",
      "|Senegal|   196|  1|\n",
      "|Senegal|   196|  2|\n",
      "+-------+------+---+\n",
      "only showing top 25 rows\n",
      "\n"
     ]
    }
   ],
   "source": [
    "row_count = Window.partitionBy(df3['team']).orderBy(desc('height'))\n",
    "\n",
    "df3.withColumn('n', row_number().over(row_count)).select('team', 'height', 'n').show(25)"
   ]
  },
  {
   "cell_type": "code",
   "execution_count": 95,
   "id": "689d4e25",
   "metadata": {
    "ExecuteTime": {
     "end_time": "2022-06-08T22:15:37.177169Z",
     "start_time": "2022-06-08T22:15:37.170130Z"
    }
   },
   "outputs": [
    {
     "data": {
      "text/plain": [
       "<function pyspark.sql.functions._create_window_function.<locals>._()>"
      ]
     },
     "execution_count": 95,
     "metadata": {},
     "output_type": "execute_result"
    }
   ],
   "source": [
    "row_number"
   ]
  },
  {
   "cell_type": "markdown",
   "id": "bc2c7ffa",
   "metadata": {},
   "source": [
    "### Ranking 1 - rank()"
   ]
  },
  {
   "cell_type": "code",
   "execution_count": 102,
   "id": "7304789c",
   "metadata": {
    "ExecuteTime": {
     "end_time": "2022-06-08T22:21:55.646734Z",
     "start_time": "2022-06-08T22:21:55.488829Z"
    }
   },
   "outputs": [
    {
     "name": "stdout",
     "output_type": "stream",
     "text": [
      "+-------+------+------+----+\n",
      "|   team|weight|height|rank|\n",
      "+-------+------+------+----+\n",
      "| Russia|    90|   196|   1|\n",
      "| Russia|    79|   191|   2|\n",
      "| Russia|    87|   191|   2|\n",
      "| Russia|    81|   190|   4|\n",
      "| Russia|    82|   190|   4|\n",
      "| Russia|    80|   189|   6|\n",
      "| Russia|    78|   187|   7|\n",
      "| Russia|    79|   187|   7|\n",
      "| Russia|    84|   186|   9|\n",
      "| Russia|    77|   185|  10|\n",
      "| Russia|    77|   185|  10|\n",
      "| Russia|    79|   185|  10|\n",
      "| Russia|    83|   185|  10|\n",
      "| Russia|    80|   184|  14|\n",
      "| Russia|    67|   182|  15|\n",
      "| Russia|    74|   182|  15|\n",
      "| Russia|    75|   180|  17|\n",
      "| Russia|    76|   180|  17|\n",
      "| Russia|    72|   179|  19|\n",
      "| Russia|    70|   178|  20|\n",
      "| Russia|    73|   178|  20|\n",
      "| Russia|    74|   178|  20|\n",
      "| Russia|    68|   173|  23|\n",
      "|Senegal|    80|   196|   1|\n",
      "|Senegal|    84|   196|   1|\n",
      "|Senegal|    89|   195|   3|\n",
      "|Senegal|    85|   192|   4|\n",
      "|Senegal|    90|   192|   4|\n",
      "|Senegal|    75|   189|   6|\n",
      "|Senegal|    79|   189|   6|\n",
      "+-------+------+------+----+\n",
      "only showing top 30 rows\n",
      "\n"
     ]
    }
   ],
   "source": [
    "rank_row = Window.partitionBy('team').orderBy(desc('height'))\n",
    "\n",
    "df3.withColumn('rank', rank().over(rank_row)).select('team','weight', 'height', 'rank').show(30)"
   ]
  },
  {
   "cell_type": "markdown",
   "id": "eabfedd9",
   "metadata": {},
   "source": [
    "### Ranking 2 - dense_rank()\n"
   ]
  },
  {
   "cell_type": "code",
   "execution_count": 104,
   "id": "6bb26b38",
   "metadata": {
    "ExecuteTime": {
     "end_time": "2022-06-08T22:23:19.156420Z",
     "start_time": "2022-06-08T22:23:19.003976Z"
    }
   },
   "outputs": [
    {
     "name": "stdout",
     "output_type": "stream",
     "text": [
      "+-------+------+----------+\n",
      "|   team|height|dense_rank|\n",
      "+-------+------+----------+\n",
      "| Russia|   196|         1|\n",
      "| Russia|   191|         2|\n",
      "| Russia|   191|         2|\n",
      "| Russia|   190|         3|\n",
      "| Russia|   190|         3|\n",
      "| Russia|   189|         4|\n",
      "| Russia|   187|         5|\n",
      "| Russia|   187|         5|\n",
      "| Russia|   186|         6|\n",
      "| Russia|   185|         7|\n",
      "| Russia|   185|         7|\n",
      "| Russia|   185|         7|\n",
      "| Russia|   185|         7|\n",
      "| Russia|   184|         8|\n",
      "| Russia|   182|         9|\n",
      "| Russia|   182|         9|\n",
      "| Russia|   180|        10|\n",
      "| Russia|   180|        10|\n",
      "| Russia|   179|        11|\n",
      "| Russia|   178|        12|\n",
      "| Russia|   178|        12|\n",
      "| Russia|   178|        12|\n",
      "| Russia|   173|        13|\n",
      "|Senegal|   196|         1|\n",
      "|Senegal|   196|         1|\n",
      "|Senegal|   195|         2|\n",
      "|Senegal|   192|         3|\n",
      "|Senegal|   192|         3|\n",
      "|Senegal|   189|         4|\n",
      "|Senegal|   189|         4|\n",
      "+-------+------+----------+\n",
      "only showing top 30 rows\n",
      "\n"
     ]
    }
   ],
   "source": [
    "rank_row = Window.partitionBy('team').orderBy(desc('height'))\n",
    "\n",
    "df3.withColumn('dense_rank', dense_rank().over(rank_row)).select('team', 'height', 'dense_rank').show(30)"
   ]
  },
  {
   "cell_type": "markdown",
   "id": "485a7412",
   "metadata": {},
   "source": [
    "### Percentage Ranking - percent_rank()\n"
   ]
  },
  {
   "cell_type": "code",
   "execution_count": 105,
   "id": "9c69feaa",
   "metadata": {
    "ExecuteTime": {
     "end_time": "2022-06-08T22:23:45.448738Z",
     "start_time": "2022-06-08T22:23:45.262058Z"
    }
   },
   "outputs": [
    {
     "name": "stdout",
     "output_type": "stream",
     "text": [
      "+-------+------+--------------------+\n",
      "|   team|height|          dense_rank|\n",
      "+-------+------+--------------------+\n",
      "| Russia|   196|                 0.0|\n",
      "| Russia|   191|0.045454545454545456|\n",
      "| Russia|   191|0.045454545454545456|\n",
      "| Russia|   190| 0.13636363636363635|\n",
      "| Russia|   190| 0.13636363636363635|\n",
      "| Russia|   189| 0.22727272727272727|\n",
      "| Russia|   187|  0.2727272727272727|\n",
      "| Russia|   187|  0.2727272727272727|\n",
      "| Russia|   186| 0.36363636363636365|\n",
      "| Russia|   185|  0.4090909090909091|\n",
      "| Russia|   185|  0.4090909090909091|\n",
      "| Russia|   185|  0.4090909090909091|\n",
      "| Russia|   185|  0.4090909090909091|\n",
      "| Russia|   184|  0.5909090909090909|\n",
      "| Russia|   182|  0.6363636363636364|\n",
      "| Russia|   182|  0.6363636363636364|\n",
      "| Russia|   180|  0.7272727272727273|\n",
      "| Russia|   180|  0.7272727272727273|\n",
      "| Russia|   179|  0.8181818181818182|\n",
      "| Russia|   178|  0.8636363636363636|\n",
      "| Russia|   178|  0.8636363636363636|\n",
      "| Russia|   178|  0.8636363636363636|\n",
      "| Russia|   173|                 1.0|\n",
      "|Senegal|   196|                 0.0|\n",
      "|Senegal|   196|                 0.0|\n",
      "|Senegal|   195| 0.09090909090909091|\n",
      "|Senegal|   192| 0.13636363636363635|\n",
      "|Senegal|   192| 0.13636363636363635|\n",
      "|Senegal|   189| 0.22727272727272727|\n",
      "|Senegal|   189| 0.22727272727272727|\n",
      "+-------+------+--------------------+\n",
      "only showing top 30 rows\n",
      "\n"
     ]
    }
   ],
   "source": [
    "percent_row = Window.partitionBy('team').orderBy(desc('height'))\n",
    "\n",
    "df3.withColumn('dense_rank', percent_rank().over(percent_row)).select('team', 'height', 'dense_rank').show(30)"
   ]
  },
  {
   "cell_type": "markdown",
   "id": "d7099b92",
   "metadata": {},
   "source": [
    "### 'N' parts partition - ntile()"
   ]
  },
  {
   "cell_type": "code",
   "execution_count": 110,
   "id": "b5140139",
   "metadata": {
    "ExecuteTime": {
     "end_time": "2022-06-08T22:27:10.602396Z",
     "start_time": "2022-06-08T22:27:10.454544Z"
    }
   },
   "outputs": [
    {
     "name": "stdout",
     "output_type": "stream",
     "text": [
      "+-------+------+----+\n",
      "|   team|height|pair|\n",
      "+-------+------+----+\n",
      "| Russia|   196|   1|\n",
      "| Russia|   191|   1|\n",
      "| Russia|   191|   1|\n",
      "| Russia|   190|   1|\n",
      "| Russia|   190|   1|\n",
      "| Russia|   189|   2|\n",
      "| Russia|   187|   2|\n",
      "| Russia|   187|   2|\n",
      "| Russia|   186|   2|\n",
      "| Russia|   185|   2|\n",
      "| Russia|   185|   3|\n",
      "| Russia|   185|   3|\n",
      "| Russia|   185|   3|\n",
      "| Russia|   184|   3|\n",
      "| Russia|   182|   3|\n",
      "| Russia|   182|   4|\n",
      "| Russia|   180|   4|\n",
      "| Russia|   180|   4|\n",
      "| Russia|   179|   4|\n",
      "| Russia|   178|   5|\n",
      "| Russia|   178|   5|\n",
      "| Russia|   178|   5|\n",
      "| Russia|   173|   5|\n",
      "|Senegal|   196|   1|\n",
      "|Senegal|   196|   1|\n",
      "|Senegal|   195|   1|\n",
      "|Senegal|   192|   1|\n",
      "|Senegal|   192|   1|\n",
      "|Senegal|   189|   2|\n",
      "|Senegal|   189|   2|\n",
      "+-------+------+----+\n",
      "only showing top 30 rows\n",
      "\n"
     ]
    }
   ],
   "source": [
    "part = Window.partitionBy('team').orderBy(desc('height'))\n",
    "\n",
    "df3.withColumn('pair', ntile(5).over(part)).select('team', 'height', 'pair').show(30)"
   ]
  },
  {
   "cell_type": "markdown",
   "id": "d1dbe5b9",
   "metadata": {},
   "source": [
    "## Window Analytic Functions \n",
    "\n",
    "- Window Function 6 - Lead\n",
    "- Window Function 7 - Lag"
   ]
  },
  {
   "cell_type": "markdown",
   "id": "a57d19b5",
   "metadata": {},
   "source": [
    "### Lead"
   ]
  },
  {
   "cell_type": "code",
   "execution_count": 115,
   "id": "1f346eb2",
   "metadata": {
    "ExecuteTime": {
     "end_time": "2022-06-08T22:34:42.706116Z",
     "start_time": "2022-06-08T22:34:42.561575Z"
    }
   },
   "outputs": [
    {
     "name": "stdout",
     "output_type": "stream",
     "text": [
      "+-------+------+----+\n",
      "|   team|height|step|\n",
      "+-------+------+----+\n",
      "| Russia|   196|null|\n",
      "| Russia|   191| 196|\n",
      "| Russia|   191| 191|\n",
      "| Russia|   190| 191|\n",
      "| Russia|   190| 190|\n",
      "| Russia|   189| 190|\n",
      "| Russia|   187| 189|\n",
      "| Russia|   187| 187|\n",
      "| Russia|   186| 187|\n",
      "| Russia|   185| 186|\n",
      "| Russia|   185| 185|\n",
      "| Russia|   185| 185|\n",
      "| Russia|   185| 185|\n",
      "| Russia|   184| 185|\n",
      "| Russia|   182| 184|\n",
      "| Russia|   182| 182|\n",
      "| Russia|   180| 182|\n",
      "| Russia|   180| 180|\n",
      "| Russia|   179| 180|\n",
      "| Russia|   178| 179|\n",
      "| Russia|   178| 178|\n",
      "| Russia|   178| 178|\n",
      "| Russia|   173| 178|\n",
      "|Senegal|   196|null|\n",
      "|Senegal|   196| 196|\n",
      "|Senegal|   195| 196|\n",
      "|Senegal|   192| 195|\n",
      "|Senegal|   192| 192|\n",
      "|Senegal|   189| 192|\n",
      "|Senegal|   189| 189|\n",
      "+-------+------+----+\n",
      "only showing top 30 rows\n",
      "\n"
     ]
    }
   ],
   "source": [
    "step = Window.partitionBy('team').orderBy(desc('height'))\n",
    "\n",
    "df3.withColumn('step', lag('height', 1).over(step)).select('team', 'height', 'step').show(30)"
   ]
  },
  {
   "cell_type": "markdown",
   "id": "c348ba8e",
   "metadata": {},
   "source": [
    "### Lag"
   ]
  },
  {
   "cell_type": "code",
   "execution_count": 116,
   "id": "c164ac6d",
   "metadata": {
    "ExecuteTime": {
     "end_time": "2022-06-08T22:34:52.854066Z",
     "start_time": "2022-06-08T22:34:52.710051Z"
    }
   },
   "outputs": [
    {
     "name": "stdout",
     "output_type": "stream",
     "text": [
      "+-------+------+----+\n",
      "|   team|height|step|\n",
      "+-------+------+----+\n",
      "| Russia|   196| 191|\n",
      "| Russia|   191| 191|\n",
      "| Russia|   191| 190|\n",
      "| Russia|   190| 190|\n",
      "| Russia|   190| 189|\n",
      "| Russia|   189| 187|\n",
      "| Russia|   187| 187|\n",
      "| Russia|   187| 186|\n",
      "| Russia|   186| 185|\n",
      "| Russia|   185| 185|\n",
      "| Russia|   185| 185|\n",
      "| Russia|   185| 185|\n",
      "| Russia|   185| 184|\n",
      "| Russia|   184| 182|\n",
      "| Russia|   182| 182|\n",
      "| Russia|   182| 180|\n",
      "| Russia|   180| 180|\n",
      "| Russia|   180| 179|\n",
      "| Russia|   179| 178|\n",
      "| Russia|   178| 178|\n",
      "| Russia|   178| 178|\n",
      "| Russia|   178| 173|\n",
      "| Russia|   173|null|\n",
      "|Senegal|   196| 196|\n",
      "|Senegal|   196| 195|\n",
      "|Senegal|   195| 192|\n",
      "|Senegal|   192| 192|\n",
      "|Senegal|   192| 189|\n",
      "|Senegal|   189| 189|\n",
      "|Senegal|   189| 186|\n",
      "+-------+------+----+\n",
      "only showing top 30 rows\n",
      "\n"
     ]
    }
   ],
   "source": [
    "step = Window.partitionBy('team').orderBy(desc('height'))\n",
    "\n",
    "df3.withColumn('step', lead('height', 1).over(step)).select('team', 'height', 'step').show(30)"
   ]
  },
  {
   "cell_type": "markdown",
   "id": "36d7b287",
   "metadata": {},
   "source": [
    "## Aggregations\n",
    "\n",
    "- groupBy\n",
    "- where\n",
    "- filter\n",
    "- Window Function 8 - with groupby"
   ]
  },
  {
   "cell_type": "code",
   "execution_count": 125,
   "id": "94324bb7",
   "metadata": {
    "ExecuteTime": {
     "end_time": "2022-06-08T22:43:19.463034Z",
     "start_time": "2022-06-08T22:43:19.262608Z"
    }
   },
   "outputs": [
    {
     "name": "stdout",
     "output_type": "stream",
     "text": [
      "+--------------+------------------+\n",
      "|          team|       avg(height)|\n",
      "+--------------+------------------+\n",
      "|        Russia| 184.3913043478261|\n",
      "|       Senegal|183.65217391304347|\n",
      "|        Sweden| 185.7391304347826|\n",
      "|       IR Iran|184.47826086956522|\n",
      "|       Germany| 185.7826086956522|\n",
      "|        France|183.30434782608697|\n",
      "|     Argentina|178.43478260869566|\n",
      "|       Belgium|185.34782608695653|\n",
      "|          Peru| 177.6086956521739|\n",
      "|       Croatia| 185.2608695652174|\n",
      "|       Nigeria|184.52173913043478|\n",
      "|Korea Republic| 181.8695652173913|\n",
      "|         Spain|179.91304347826087|\n",
      "|       Denmark| 186.6086956521739|\n",
      "|       Morocco|182.69565217391303|\n",
      "|        Panama|182.17391304347825|\n",
      "|       Iceland|185.52173913043478|\n",
      "|       Uruguay|181.04347826086956|\n",
      "|        Mexico| 179.7826086956522|\n",
      "|       Tunisia|183.08695652173913|\n",
      "+--------------+------------------+\n",
      "only showing top 20 rows\n",
      "\n"
     ]
    }
   ],
   "source": [
    "df3.groupby('team').agg({'height':'avg'}).alias('height_avg').show()"
   ]
  },
  {
   "cell_type": "code",
   "execution_count": 123,
   "id": "aaf06864",
   "metadata": {
    "ExecuteTime": {
     "end_time": "2022-06-08T22:42:55.435169Z",
     "start_time": "2022-06-08T22:42:55.217198Z"
    },
    "scrolled": false
   },
   "outputs": [
    {
     "name": "stdout",
     "output_type": "stream",
     "text": [
      "+--------------+------------------+\n",
      "|          team|        height_avg|\n",
      "+--------------+------------------+\n",
      "|        Russia| 184.3913043478261|\n",
      "|       Senegal|183.65217391304347|\n",
      "|        Sweden| 185.7391304347826|\n",
      "|       IR Iran|184.47826086956522|\n",
      "|       Germany| 185.7826086956522|\n",
      "|        France|183.30434782608697|\n",
      "|     Argentina|178.43478260869566|\n",
      "|       Belgium|185.34782608695653|\n",
      "|          Peru| 177.6086956521739|\n",
      "|       Croatia| 185.2608695652174|\n",
      "|       Nigeria|184.52173913043478|\n",
      "|Korea Republic| 181.8695652173913|\n",
      "|         Spain|179.91304347826087|\n",
      "|       Denmark| 186.6086956521739|\n",
      "|       Morocco|182.69565217391303|\n",
      "|        Panama|182.17391304347825|\n",
      "|       Iceland|185.52173913043478|\n",
      "|       Uruguay|181.04347826086956|\n",
      "|        Mexico| 179.7826086956522|\n",
      "|       Tunisia|183.08695652173913|\n",
      "+--------------+------------------+\n",
      "only showing top 20 rows\n",
      "\n"
     ]
    }
   ],
   "source": [
    "df3.groupBy('team').agg(avg('height').alias('height_avg')).show()"
   ]
  },
  {
   "cell_type": "code",
   "execution_count": 145,
   "id": "c8d712db",
   "metadata": {
    "ExecuteTime": {
     "end_time": "2022-06-08T23:00:37.895680Z",
     "start_time": "2022-06-08T23:00:37.157766Z"
    }
   },
   "outputs": [
    {
     "name": "stdout",
     "output_type": "stream",
     "text": [
      "+--------------+--------------+--------------+------------------+-----------------+------------------+\n",
      "|          team|number_players|distinct_clubs|        avg_height|       avg_weight|           avg_age|\n",
      "+--------------+--------------+--------------+------------------+-----------------+------------------+\n",
      "|    Costa Rica|            23|            19|180.69565217391303| 74.1304347826087|  33.5406957712109|\n",
      "|        Mexico|            23|            17| 179.7826086956522|74.08695652173913|33.346308365324525|\n",
      "|        Panama|            23|            20|182.17391304347825|             80.0| 33.24691247805256|\n",
      "|     Argentina|            23|            19|178.43478260869566|75.56521739130434|33.200607088652795|\n",
      "|         Egypt|            23|            16|             181.0|78.43478260869566| 32.96455673600572|\n",
      "|        Russia|            23|            10| 184.3913043478261| 77.6086956521739| 32.82183138410261|\n",
      "|  Saudi Arabia|            23|             7|177.65217391304347|73.04347826086956| 32.71374579650627|\n",
      "|        Brazil|            23|            14| 180.7826086956522|76.56521739130434| 32.58780466029819|\n",
      "|       Iceland|            23|            21|185.52173913043478|80.73913043478261|32.566735112936335|\n",
      "|         Japan|            23|            20| 178.7826086956522|71.52173913043478|32.563521114186244|\n",
      "|         Spain|            23|            13|179.91304347826087|74.73913043478261| 32.47162455733119|\n",
      "|      Portugal|            23|            19| 179.7391304347826| 73.6086956521739| 32.34949260482694|\n",
      "|        Poland|            23|            19|183.17391304347825|76.47826086956522|32.294616552093565|\n",
      "|        Sweden|            23|            19| 185.7391304347826|78.82608695652173| 32.22033746986876|\n",
      "|     Australia|            23|            22| 180.8695652173913|77.73913043478261|32.117965657828165|\n",
      "|       Uruguay|            23|            19|181.04347826086956| 74.6086956521739| 32.11475165907807|\n",
      "|      Colombia|            23|            21| 180.7826086956522|76.17391304347827| 32.04797190727018|\n",
      "|       Croatia|            23|            21| 185.2608695652174|79.30434782608695|31.886795821801623|\n",
      "|Korea Republic|            23|            19| 181.8695652173913|74.43478260869566| 31.76930631193643|\n",
      "|       Belgium|            23|            18|185.34782608695653|79.56521739130434|31.568967056512808|\n",
      "+--------------+--------------+--------------+------------------+-----------------+------------------+\n",
      "only showing top 20 rows\n",
      "\n"
     ]
    }
   ],
   "source": [
    "df3.groupBy('team').agg(count('players_name').alias('number_players'),\\\n",
    "                        countDistinct('club').alias('distinct_clubs'),\\\n",
    "                        avg('height').alias('avg_height'),\\\n",
    "                        avg('weight').alias('avg_weight'),\n",
    "                        avg('age').alias('avg_age')\\\n",
    "                        )\\\n",
    "                        .orderBy(desc('avg_age')).show()"
   ]
  },
  {
   "cell_type": "code",
   "execution_count": null,
   "id": "cf893d54",
   "metadata": {},
   "outputs": [],
   "source": []
  }
 ],
 "metadata": {
  "kernelspec": {
   "display_name": "Python 3 (ipykernel)",
   "language": "python",
   "name": "python3"
  },
  "language_info": {
   "codemirror_mode": {
    "name": "ipython",
    "version": 3
   },
   "file_extension": ".py",
   "mimetype": "text/x-python",
   "name": "python",
   "nbconvert_exporter": "python",
   "pygments_lexer": "ipython3",
   "version": "3.8.10"
  },
  "nbTranslate": {
   "displayLangs": [
    "*"
   ],
   "hotkey": "alt-t",
   "langInMainMenu": true,
   "sourceLang": "en",
   "targetLang": "fr",
   "useGoogleTranslate": true
  },
  "toc": {
   "base_numbering": 1,
   "nav_menu": {},
   "number_sections": true,
   "sideBar": true,
   "skip_h1_title": false,
   "title_cell": "Table of Contents",
   "title_sidebar": "Contents",
   "toc_cell": false,
   "toc_position": {},
   "toc_section_display": true,
   "toc_window_display": false
  }
 },
 "nbformat": 4,
 "nbformat_minor": 5
}
